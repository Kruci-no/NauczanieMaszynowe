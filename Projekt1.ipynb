{
 "cells": [
  {
   "cell_type": "code",
   "execution_count": 1,
   "metadata": {},
   "outputs": [
    {
     "name": "stderr",
     "output_type": "stream",
     "text": [
      "Using TensorFlow backend.\n"
     ]
    }
   ],
   "source": [
    "import os\n",
    "from keras.models import Model # basic class for specifying and training a neural network\n",
    "from keras.layers import Input, Convolution2D, MaxPooling2D, Dense, Dropout, Activation, Flatten\n",
    "from keras.utils import np_utils # utilities for one-hot encoding of ground truth values\n",
    "import numpy as np"
   ]
  },
  {
   "cell_type": "code",
   "execution_count": 2,
   "metadata": {
    "collapsed": true
   },
   "outputs": [],
   "source": [
    "import os\n",
    "import pickle\n",
    "\n",
    "import numpy as np\n",
    "import pandas as pd\n",
    "from sklearn.linear_model import LogisticRegression\n",
    "from sklearn.preprocessing import StandardScaler\n",
    "from sklearn.pipeline import Pipeline\n",
    "from sklearn.metrics import accuracy_score"
   ]
  },
  {
   "cell_type": "code",
   "execution_count": 3,
   "metadata": {
    "collapsed": true
   },
   "outputs": [],
   "source": [
    "from keras.models import load_model\n"
   ]
  },
  {
   "cell_type": "markdown",
   "metadata": {},
   "source": [
    "W projekcie będe wykorzystywał sieci konwolucyjne. Są one bardzo popularne przy rozwiązywaniu problemu klasyfikacji obrazów. Jest to odmiana sieci neuronowych w części warsw znajdują sie filtry, są to macierze, które w pewien sposób przemnaża sie przez wejściowe obrazki (operacja konwolucji) i dostajemy przez to kolejne wyściowe macierze (ich liczba jest równa liczbie filtrów). Filtry są obiektami, które będą uczone podczas procesu nauczania. W przypadku rozpoznawania obrazów ta taktyka może być skuteczna przez to, że sieci uczą się cech, które są niezmienicze ze wględu na przesunięcie o wektor. "
   ]
  },
  {
   "cell_type": "markdown",
   "metadata": {},
   "source": [
    "Po dostaniu inputu z Filtrów możemy zastosować na dla każdego elementu z macierzy zastosować funkcje aktywacji np. relu, funkcje sigmoidalną."
   ]
  },
  {
   "cell_type": "markdown",
   "metadata": {},
   "source": [
    "W sieciach konwolucyjnych wykozystuje się także warstwy, które transformują macierze na mniejsze. Jest tak zwana to warstwa pool."
   ]
  },
  {
   "cell_type": "code",
   "execution_count": null,
   "metadata": {
    "collapsed": true
   },
   "outputs": [],
   "source": []
  },
  {
   "cell_type": "markdown",
   "metadata": {},
   "source": [
    "Moj pierwszy Model słada się z dwóch warstw konwolucji.\n",
    "Każda wejściowa macierz dla, której liczymy konwolucje dostaje \"ramke\" złożoną z zer w taki sposób aby \n",
    "podczas operacji konwolucji otrzymane macierze miała takie same wymiary co macierz wejściowa\n",
    "\n",
    "Po każdej z nich stosuje funkcje aktywacyjną ReLu a następnie Zmiejszam wymiary macierzy za pomocą funkcji MaxPool2D. Funkcja ta dla podziału wejściowej macierzy na macierze n na m zwraca ich maximum. W moim modelu ustawiłem m=n=2"
   ]
  },
  {
   "cell_type": "markdown",
   "metadata": {},
   "source": [
    "Przy każdej iteracji algorytmu uczącego stosuje dropout, oznacza to, że część wyjść z danej warstwy zostanie wyzerowana z pewnym prawdopodobieństwem. Ma to zmiejszyć możliwe zoverfitowanie sieci do danych oraz zapobiec temu, że tylko część neuronów będzie brała aktywny udział w predykcjach sieci. Dla warstw konwolucyjnych w tym modelu ustanowiłem równe 0.23"
   ]
  },
  {
   "cell_type": "markdown",
   "metadata": {},
   "source": [
    "Wyjście z tych dwóch warstw konwolucji zostanie zamienione na wektor i potem przepuszczone przez zwykłą sieć neuronową z jedną ukrytą warstwą. Dla niej dropout wynosi 0.5."
   ]
  },
  {
   "cell_type": "markdown",
   "metadata": {},
   "source": [
    "Jako funkcji kosztu używam crossetropy a jako algorytmu szukania jej miniumum metode \"ADAM\""
   ]
  },
  {
   "cell_type": "markdown",
   "metadata": {},
   "source": [
    "Hiperparametry dla tego Modelu\n",
    "\n",
    "conv_layer1_size odpowiada za to jaka jest liczba filtrów w pierwszej warstwie konwolucji\n",
    "\n",
    "conv_layer2_size odpowiada za to jaka jest liczba filtrów w drugiej warstwie konwolucji\n",
    "\n",
    "layer3_size odpowiada za liczbę neuronów trzeciej warstwie jest to już warstwa nie konwolucji\n",
    "\n",
    "kernel_size to wymiar filtru dla obu warst konwolucji. Dokładniej macierz tworząca dany filtr będzie rozmiaru (kernel_size,kernel_size)\n",
    "\n",
    "Reszta parametrów tej sieci konwolucyjnych będzie ustalona"
   ]
  },
  {
   "cell_type": "markdown",
   "metadata": {},
   "source": [
    "Testowanie Modelu\n",
    "\n",
    "Bedę uczył sieci na pierwszych 40000 przykładach ze zbioru treningowego. Natomiast zbiorem walidującym będzie ostanie 10000 przykładów ze zbioru uczącego. \n",
    "\n",
    "Będe starał się wyprodukować modele za pomocą funkcji model_generator je do tablicy, po ich fitowaniu na części danych będe, usuwał modele, które mają najmniejsze accurasy na zbiorze validującym lub jego podzbiorze. Gdy zostanie mi tylko jeden model będe go fittował do czasu aż jego accurasy na na zbiorze testowym zacznie spadać a potem wyśle jego predykcje"
   ]
  },
  {
   "cell_type": "code",
   "execution_count": 11,
   "metadata": {
    "collapsed": true
   },
   "outputs": [],
   "source": [
    "def save_labels(arr, filename):\n",
    "    pd_array = pd.DataFrame(arr)\n",
    "    pd_array.index.names = [\"Id\"]\n",
    "    pd_array.columns = [\"Prediction\"]\n",
    "    pd_array.to_csv(filename)\n",
    "\n",
    "def load_labels(filename):\n",
    "    return pd.read_csv(filename, index_col=0).values.ravel()"
   ]
  },
  {
   "cell_type": "code",
   "execution_count": 12,
   "metadata": {
    "collapsed": true
   },
   "outputs": [],
   "source": [
    "X_train = np.load(\"X_train.npy\")\n",
    "y_train = load_labels(\"y_train.csv\")\n",
    "X_test = np.load(\"X_test.npy\")\n",
    "X_train = X_train.astype('float32') \n",
    "X_test = X_test.astype('float32')\n",
    "X_train /= np.max(X_train) \n",
    "X_test /= np.max(X_test) \n",
    "X_train=X_train.reshape(-1,32,32,3)\n",
    "Y_train = np_utils.to_categorical(y_train, 10) "
   ]
  },
  {
   "cell_type": "code",
   "execution_count": 66,
   "metadata": {
    "collapsed": true
   },
   "outputs": [],
   "source": [
    "X_test=X_test.reshape(-1,32,32,3)"
   ]
  },
  {
   "cell_type": "markdown",
   "metadata": {},
   "source": []
  },
  {
   "cell_type": "code",
   "execution_count": 13,
   "metadata": {
    "collapsed": true
   },
   "outputs": [],
   "source": [
    "#generujemy zadany model\n",
    "def model_generator(conv_layer1_size,conv_layer2_size,layer3_size,kernel_size):\n",
    "    drop_prob_1=0.23\n",
    "    drop_prob_2=0.5\n",
    "    pool_size=2\n",
    "    inp = Input(shape=(32, 32,3))\n",
    "    conv_1 = Convolution2D(conv_layer1_size, (kernel_size, kernel_size), padding='same', activation='relu')(inp)\n",
    "    pool_1 = MaxPooling2D(pool_size=(pool_size, pool_size))(conv_1)\n",
    "    drop_1 = Dropout(drop_prob_1)(pool_1)\n",
    "    conv_2 = Convolution2D(conv_layer2_size, (kernel_size, kernel_size), padding='same', activation='relu')(drop_1)\n",
    "    pool_2 = MaxPooling2D(pool_size=(pool_size, pool_size))(conv_2)\n",
    "    drop_2 = Dropout(drop_prob_1)(pool_2)\n",
    "    flat = Flatten()(drop_2)\n",
    "    hidden = Dense(layer3_size, activation='relu')(flat)\n",
    "    drop_3 = Dropout(drop_prob_2)(hidden)\n",
    "    out = Dense(10, activation='softmax')(drop_3)\n",
    "    model = Model(inputs=inp, outputs=out)\n",
    "    model.compile(loss='categorical_crossentropy',\n",
    "              optimizer='adam',\n",
    "              metrics=['accuracy']) \n",
    "    return model"
   ]
  },
  {
   "cell_type": "code",
   "execution_count": 14,
   "metadata": {
    "collapsed": true
   },
   "outputs": [],
   "source": [
    "#trenujemy modele w tablicy i zwracamy ich wynik dla zbioru walidującego\n",
    "def models_scory(Model_table,X_train,y_train,X_ewal,y_ewal,nazwa_pliku,epochs=10):\n",
    "    i=0\n",
    "    for model in Model_table:\n",
    "        i=i+1       \n",
    "        model.fit(X_train,y_train,batch_size=32, epochs=epochs)\n",
    "        model.save(nazwa_pliku+str(i)+'.h5') #zapisuje model\n",
    "    return np.array([(model,model.evaluate(X_ewal,y_ewal, verbose=1)[1]) for model in Model_table]) \n",
    "#zwracamy pary (model,accuracy na zbiorze validującym)  "
   ]
  },
  {
   "cell_type": "code",
   "execution_count": 19,
   "metadata": {
    "collapsed": true
   },
   "outputs": [],
   "source": [
    "\n",
    "def load_model_tab(nazwa_pliku,n):       \n",
    "     return [load_model(nazwa_pliku+str(i+1)+\".h5\") for i in range(n)]"
   ]
  },
  {
   "cell_type": "code",
   "execution_count": 35,
   "metadata": {
    "collapsed": true
   },
   "outputs": [],
   "source": [
    "# usuwamy połowe modeli, które mają najgorsze accuracy\n",
    "#gdy liczba modeli jest nieparzysta to zostaje o jeden więcej\n",
    "def delete_bad_model(Model_score_table):\n",
    "    sort_tab=sorted(Model_score_table, key=lambda Model_score_table: Model_score_table[1]) \n",
    "    sort_tab= sort_tab[int(len(sort_tab)/2):len(sort_tab)]\n",
    "    return [x[0] for x in sort_tab]"
   ]
  },
  {
   "cell_type": "code",
   "execution_count": 126,
   "metadata": {
    "collapsed": true
   },
   "outputs": [],
   "source": [
    "#Generujemy 20 lowych modeli o różnych hiperparametrach\n",
    "Rand_model_table=[model_generator(\n",
    "    np.random.randint(20,71), #liczba filtrów w pierszej warstwie konwolucji \n",
    "    np.random.randint(20,71), #liczba filtrów w drugiej warstwie konwolucji\n",
    "    np.random.randint(100,500), #liczba filtrów w trzeciej warstwie (zwykła warstwa)\n",
    "    np.random.randint(2,4), #rozmiar filtrów dla obu warst konwolucji \n",
    ")   for i in range(20)]"
   ]
  },
  {
   "cell_type": "code",
   "execution_count": 127,
   "metadata": {},
   "outputs": [
    {
     "name": "stdout",
     "output_type": "stream",
     "text": [
      "Epoch 1/5\n",
      "5000/5000 [==============================] - 12s - loss: 2.2041 - acc: 0.1732    \n",
      "Epoch 2/5\n",
      "5000/5000 [==============================] - 10s - loss: 1.9406 - acc: 0.2860    - ETA: 0s - loss: 1.9405 - acc: 0.286\n",
      "Epoch 3/5\n",
      "5000/5000 [==============================] - 11s - loss: 1.8273 - acc: 0.3282    \n",
      "Epoch 4/5\n",
      "5000/5000 [==============================] - 11s - loss: 1.7379 - acc: 0.3794    \n",
      "Epoch 5/5\n",
      "5000/5000 [==============================] - 11s - loss: 1.6853 - acc: 0.3866    \n",
      "Epoch 1/5\n",
      "5000/5000 [==============================] - 17s - loss: 2.1897 - acc: 0.1872    \n",
      "Epoch 2/5\n",
      "5000/5000 [==============================] - 15s - loss: 1.9597 - acc: 0.2854    \n",
      "Epoch 3/5\n",
      "5000/5000 [==============================] - 15s - loss: 1.8224 - acc: 0.3234    \n",
      "Epoch 4/5\n",
      "5000/5000 [==============================] - 15s - loss: 1.7571 - acc: 0.3530    \n",
      "Epoch 5/5\n",
      "5000/5000 [==============================] - 15s - loss: 1.6977 - acc: 0.3758    \n",
      "Epoch 1/5\n",
      "5000/5000 [==============================] - 18s - loss: 2.1835 - acc: 0.1948    \n",
      "Epoch 2/5\n",
      "5000/5000 [==============================] - 17s - loss: 1.8457 - acc: 0.3256    \n",
      "Epoch 3/5\n",
      "5000/5000 [==============================] - 17s - loss: 1.6711 - acc: 0.3998    \n",
      "Epoch 4/5\n",
      "5000/5000 [==============================] - 17s - loss: 1.5796 - acc: 0.4366    \n",
      "Epoch 5/5\n",
      "5000/5000 [==============================] - 17s - loss: 1.5120 - acc: 0.4500    \n",
      "Epoch 1/5\n",
      "5000/5000 [==============================] - 16s - loss: 2.2145 - acc: 0.1716    \n",
      "Epoch 2/5\n",
      "5000/5000 [==============================] - 16s - loss: 1.8792 - acc: 0.3204    \n",
      "Epoch 3/5\n",
      "5000/5000 [==============================] - 16s - loss: 1.7159 - acc: 0.3774    \n",
      "Epoch 4/5\n",
      "5000/5000 [==============================] - 16s - loss: 1.6238 - acc: 0.4118    \n",
      "Epoch 5/5\n",
      "5000/5000 [==============================] - 16s - loss: 1.5722 - acc: 0.4396    - ETA: 0s - loss: 1.5742 - acc: \n",
      "Epoch 1/5\n",
      "5000/5000 [==============================] - 22s - loss: 2.1832 - acc: 0.1958    \n",
      "Epoch 2/5\n",
      "5000/5000 [==============================] - 22s - loss: 1.8759 - acc: 0.3224    \n",
      "Epoch 3/5\n",
      "5000/5000 [==============================] - 22s - loss: 1.7180 - acc: 0.3826    \n",
      "Epoch 4/5\n",
      "5000/5000 [==============================] - 22s - loss: 1.6418 - acc: 0.4148    \n",
      "Epoch 5/5\n",
      "5000/5000 [==============================] - 22s - loss: 1.5465 - acc: 0.4494    \n",
      "Epoch 1/5\n",
      "5000/5000 [==============================] - 17s - loss: 2.1824 - acc: 0.1862    \n",
      "Epoch 2/5\n",
      "5000/5000 [==============================] - 18s - loss: 1.9127 - acc: 0.3026    \n",
      "Epoch 3/5\n",
      "5000/5000 [==============================] - 17s - loss: 1.7483 - acc: 0.3608    \n",
      "Epoch 4/5\n",
      "5000/5000 [==============================] - 17s - loss: 1.6332 - acc: 0.4152    \n",
      "Epoch 5/5\n",
      "5000/5000 [==============================] - 18s - loss: 1.5575 - acc: 0.4482    \n",
      "Epoch 1/5\n",
      "5000/5000 [==============================] - 10s - loss: 2.2175 - acc: 0.1816    \n",
      "Epoch 2/5\n",
      "5000/5000 [==============================] - 9s - loss: 1.8940 - acc: 0.3192     \n",
      "Epoch 3/5\n",
      "5000/5000 [==============================] - 10s - loss: 1.7626 - acc: 0.3652    \n",
      "Epoch 4/5\n",
      "5000/5000 [==============================] - 10s - loss: 1.6817 - acc: 0.3950    \n",
      "Epoch 5/5\n",
      "5000/5000 [==============================] - 10s - loss: 1.6355 - acc: 0.4134    - ETA: 0s - loss: 1.6338\n",
      "Epoch 1/5\n",
      "5000/5000 [==============================] - 12s - loss: 2.1941 - acc: 0.1928    \n",
      "Epoch 2/5\n",
      "5000/5000 [==============================] - 13s - loss: 1.9547 - acc: 0.2802    \n",
      "Epoch 3/5\n",
      "5000/5000 [==============================] - 13s - loss: 1.8319 - acc: 0.3364    \n",
      "Epoch 4/5\n",
      "5000/5000 [==============================] - 13s - loss: 1.7651 - acc: 0.3538    \n",
      "Epoch 5/5\n",
      "5000/5000 [==============================] - 14s - loss: 1.6846 - acc: 0.3862    \n",
      "Epoch 1/5\n",
      "5000/5000 [==============================] - 28s - loss: 2.1424 - acc: 0.2078    \n",
      "Epoch 2/5\n",
      "5000/5000 [==============================] - 27s - loss: 1.8829 - acc: 0.3212    \n",
      "Epoch 3/5\n",
      "5000/5000 [==============================] - 27s - loss: 1.7256 - acc: 0.3840    \n",
      "Epoch 4/5\n",
      "5000/5000 [==============================] - 27s - loss: 1.6198 - acc: 0.4196    \n",
      "Epoch 5/5\n",
      "5000/5000 [==============================] - 27s - loss: 1.5528 - acc: 0.4530    \n",
      "Epoch 1/5\n",
      "5000/5000 [==============================] - 19s - loss: 2.2039 - acc: 0.1748    \n",
      "Epoch 2/5\n",
      "5000/5000 [==============================] - 18s - loss: 1.9677 - acc: 0.2900    \n",
      "Epoch 3/5\n",
      "5000/5000 [==============================] - 18s - loss: 1.8112 - acc: 0.3468    \n",
      "Epoch 4/5\n",
      "5000/5000 [==============================] - 19s - loss: 1.7534 - acc: 0.3638    \n",
      "Epoch 5/5\n",
      "5000/5000 [==============================] - 20s - loss: 1.6683 - acc: 0.3966    \n",
      "Epoch 1/5\n",
      "5000/5000 [==============================] - 18s - loss: 2.2301 - acc: 0.1652    \n",
      "Epoch 2/5\n",
      "5000/5000 [==============================] - 18s - loss: 1.9935 - acc: 0.2700    \n",
      "Epoch 3/5\n",
      "5000/5000 [==============================] - 18s - loss: 1.8271 - acc: 0.3364    \n",
      "Epoch 4/5\n",
      "5000/5000 [==============================] - 19s - loss: 1.7444 - acc: 0.3582    \n",
      "Epoch 5/5\n",
      "5000/5000 [==============================] - 18s - loss: 1.6881 - acc: 0.3944    \n",
      "Epoch 1/5\n",
      "5000/5000 [==============================] - 15s - loss: 2.2051 - acc: 0.1768    \n",
      "Epoch 2/5\n",
      "5000/5000 [==============================] - 14s - loss: 1.9800 - acc: 0.2856    \n",
      "Epoch 3/5\n",
      "5000/5000 [==============================] - 13s - loss: 1.8211 - acc: 0.3430    \n",
      "Epoch 4/5\n",
      "5000/5000 [==============================] - 13s - loss: 1.7179 - acc: 0.3896    \n",
      "Epoch 5/5\n",
      "5000/5000 [==============================] - 13s - loss: 1.6541 - acc: 0.4062    \n",
      "Epoch 1/5\n",
      "5000/5000 [==============================] - 8s - loss: 2.2385 - acc: 0.1686     \n",
      "Epoch 2/5\n",
      "5000/5000 [==============================] - 7s - loss: 1.9580 - acc: 0.2878     \n",
      "Epoch 3/5\n",
      "5000/5000 [==============================] - 7s - loss: 1.7764 - acc: 0.3656     \n",
      "Epoch 4/5\n",
      "5000/5000 [==============================] - 7s - loss: 1.6957 - acc: 0.3918     \n",
      "Epoch 5/5\n",
      "5000/5000 [==============================] - 7s - loss: 1.6441 - acc: 0.4064     \n",
      "Epoch 1/5\n",
      "5000/5000 [==============================] - 18s - loss: 2.1564 - acc: 0.1958    \n",
      "Epoch 2/5\n",
      "5000/5000 [==============================] - 18s - loss: 1.8337 - acc: 0.3320    \n",
      "Epoch 3/5\n",
      "5000/5000 [==============================] - 18s - loss: 1.6958 - acc: 0.3940    \n",
      "Epoch 4/5\n",
      "5000/5000 [==============================] - 21s - loss: 1.5724 - acc: 0.4356    \n",
      "Epoch 5/5\n",
      "5000/5000 [==============================] - 17s - loss: 1.5156 - acc: 0.4592    \n",
      "Epoch 1/5\n",
      "5000/5000 [==============================] - 14s - loss: 2.1302 - acc: 0.2100    \n",
      "Epoch 2/5\n",
      "5000/5000 [==============================] - 14s - loss: 1.7787 - acc: 0.3558    - ETA: 1s - loss: 1.78\n",
      "Epoch 3/5\n",
      "5000/5000 [==============================] - 15s - loss: 1.6168 - acc: 0.4214    \n",
      "Epoch 4/5\n",
      "5000/5000 [==============================] - 15s - loss: 1.5526 - acc: 0.4460    \n",
      "Epoch 5/5\n",
      "5000/5000 [==============================] - 15s - loss: 1.4799 - acc: 0.4742    \n",
      "Epoch 1/5\n",
      "5000/5000 [==============================] - 21s - loss: 2.1180 - acc: 0.2130    \n",
      "Epoch 2/5\n",
      "5000/5000 [==============================] - 20s - loss: 1.8252 - acc: 0.3504    \n",
      "Epoch 3/5\n",
      "5000/5000 [==============================] - 20s - loss: 1.6572 - acc: 0.4098    \n",
      "Epoch 4/5\n",
      "5000/5000 [==============================] - 20s - loss: 1.5885 - acc: 0.4326    \n",
      "Epoch 5/5\n",
      "5000/5000 [==============================] - 20s - loss: 1.5020 - acc: 0.4714    \n",
      "Epoch 1/5\n",
      "5000/5000 [==============================] - 13s - loss: 2.1832 - acc: 0.1854    \n",
      "Epoch 2/5\n",
      "5000/5000 [==============================] - 12s - loss: 1.9211 - acc: 0.3036    \n",
      "Epoch 3/5\n",
      "5000/5000 [==============================] - 11s - loss: 1.7731 - acc: 0.3570    - ETA: 0s - loss: 1.7730 - acc: 0.35\n",
      "Epoch 4/5\n",
      "5000/5000 [==============================] - 11s - loss: 1.6896 - acc: 0.3938    \n",
      "Epoch 5/5\n",
      "5000/5000 [==============================] - 11s - loss: 1.6328 - acc: 0.4220    \n",
      "Epoch 1/5\n",
      "5000/5000 [==============================] - 18s - loss: 2.1645 - acc: 0.2014    \n",
      "Epoch 2/5\n",
      "5000/5000 [==============================] - 17s - loss: 1.8416 - acc: 0.3422    \n",
      "Epoch 3/5\n",
      "5000/5000 [==============================] - 17s - loss: 1.7077 - acc: 0.3938    \n",
      "Epoch 4/5\n",
      "5000/5000 [==============================] - 19s - loss: 1.5856 - acc: 0.4354    \n",
      "Epoch 5/5\n",
      "5000/5000 [==============================] - 17s - loss: 1.5343 - acc: 0.4518    \n",
      "Epoch 1/5\n",
      "5000/5000 [==============================] - 20s - loss: 2.1498 - acc: 0.2080    \n",
      "Epoch 2/5\n",
      "5000/5000 [==============================] - 19s - loss: 1.8657 - acc: 0.3252    \n",
      "Epoch 3/5\n",
      "5000/5000 [==============================] - 19s - loss: 1.7164 - acc: 0.3796    \n",
      "Epoch 4/5\n",
      "5000/5000 [==============================] - 22s - loss: 1.6039 - acc: 0.4180    \n",
      "Epoch 5/5\n",
      "5000/5000 [==============================] - 21s - loss: 1.5142 - acc: 0.4596    \n",
      "Epoch 1/5\n",
      "5000/5000 [==============================] - 27s - loss: 2.1401 - acc: 0.2026    \n",
      "Epoch 2/5\n",
      "5000/5000 [==============================] - 25s - loss: 1.8270 - acc: 0.3444    \n",
      "Epoch 3/5\n",
      "5000/5000 [==============================] - 24s - loss: 1.7065 - acc: 0.3854    \n",
      "Epoch 4/5\n",
      "5000/5000 [==============================] - 24s - loss: 1.6103 - acc: 0.4268    \n",
      "Epoch 5/5\n",
      "5000/5000 [==============================] - 24s - loss: 1.5272 - acc: 0.4596    \n",
      "1000/1000 [==============================] - 2s     \n",
      "1000/1000 [==============================] - 1s     \n",
      "1000/1000 [==============================] - 1s     \n",
      "1000/1000 [==============================] - 2s     \n"
     ]
    }
   ],
   "source": [
    "#uczenie modeli i usuwanie zlych modeli\n",
    "tab=models_scory(Rand_model_table,X_train[0:5000],Y_train[0:5000],X_train[49000:50000],Y_train[49000:50000],\"rand1.\",epochs=5)"
   ]
  },
  {
   "cell_type": "code",
   "execution_count": 129,
   "metadata": {
    "scrolled": true
   },
   "outputs": [
    {
     "data": {
      "text/plain": [
       "array([[<keras.engine.training.Model object at 0x000001CD3C822A58>,\n",
       "        0.45500000000000002],\n",
       "       [<keras.engine.training.Model object at 0x000001CD3D314EF0>,\n",
       "        0.41199999999999998],\n",
       "       [<keras.engine.training.Model object at 0x000001CD45643D30>,\n",
       "        0.48899999999999999],\n",
       "       [<keras.engine.training.Model object at 0x000001CD458C6438>,\n",
       "        0.46300000000000002],\n",
       "       [<keras.engine.training.Model object at 0x000001CD45B44B38>,\n",
       "        0.45100000000000001],\n",
       "       [<keras.engine.training.Model object at 0x000001CD45DC4CF8>,\n",
       "        0.45800000000000002],\n",
       "       [<keras.engine.training.Model object at 0x000001CD460289E8>,\n",
       "        0.44400000000000001],\n",
       "       [<keras.engine.training.Model object at 0x000001CD462AAEF0>, 0.44],\n",
       "       [<keras.engine.training.Model object at 0x000001CD46538898>,\n",
       "        0.47999999999999998],\n",
       "       [<keras.engine.training.Model object at 0x000001CD467B9F98>,\n",
       "        0.46000000000000002],\n",
       "       [<keras.engine.training.Model object at 0x000001CD46A3A940>,\n",
       "        0.45700000000000002],\n",
       "       [<keras.engine.training.Model object at 0x000001CD46CCACF8>,\n",
       "        0.45300000000000001],\n",
       "       [<keras.engine.training.Model object at 0x000001CD46F4D438>,\n",
       "        0.46600000000000003],\n",
       "       [<keras.engine.training.Model object at 0x000001CD471C6B70>,\n",
       "        0.48199999999999998],\n",
       "       [<keras.engine.training.Model object at 0x000001CD47435320>, 0.505],\n",
       "       [<keras.engine.training.Model object at 0x000001CD476D9940>,\n",
       "        0.48699999999999999],\n",
       "       [<keras.engine.training.Model object at 0x000001CD47956A58>,\n",
       "        0.44400000000000001],\n",
       "       [<keras.engine.training.Model object at 0x000001CD47BCADD8>,\n",
       "        0.48499999999999999],\n",
       "       [<keras.engine.training.Model object at 0x000001CD47E4ADD8>,\n",
       "        0.46600000000000003],\n",
       "       [<keras.engine.training.Model object at 0x000001CD480E9780>,\n",
       "        0.46500000000000002]], dtype=object)"
      ]
     },
     "execution_count": 129,
     "metadata": {},
     "output_type": "execute_result"
    }
   ],
   "source": [
    "tab"
   ]
  },
  {
   "cell_type": "code",
   "execution_count": 132,
   "metadata": {},
   "outputs": [
    {
     "name": "stdout",
     "output_type": "stream",
     "text": [
      "Epoch 1/5\n",
      "15000/15000 [==============================] - 32s - loss: 1.6588 - acc: 0.4026    \n",
      "Epoch 2/5\n",
      "15000/15000 [==============================] - 31s - loss: 1.5805 - acc: 0.4331    \n",
      "Epoch 3/5\n",
      "15000/15000 [==============================] - 32s - loss: 1.5273 - acc: 0.4525    \n",
      "Epoch 4/5\n",
      "15000/15000 [==============================] - 30s - loss: 1.4810 - acc: 0.4695    \n",
      "Epoch 5/5\n",
      "15000/15000 [==============================] - 30s - loss: 1.4314 - acc: 0.4831    \n",
      "Epoch 1/5\n",
      "15000/15000 [==============================] - 48s - loss: 1.6763 - acc: 0.3906    \n",
      "Epoch 2/5\n",
      "15000/15000 [==============================] - 45s - loss: 1.5986 - acc: 0.4269    \n",
      "Epoch 3/5\n",
      "15000/15000 [==============================] - 46s - loss: 1.5366 - acc: 0.4425    \n",
      "Epoch 4/5\n",
      "15000/15000 [==============================] - 44s - loss: 1.4904 - acc: 0.4702    \n",
      "Epoch 5/5\n",
      "15000/15000 [==============================] - 44s - loss: 1.4440 - acc: 0.4858    \n",
      "Epoch 1/5\n",
      "15000/15000 [==============================] - 55s - loss: 1.4945 - acc: 0.4719    \n",
      "Epoch 2/5\n",
      "15000/15000 [==============================] - 57s - loss: 1.3991 - acc: 0.5008    \n",
      "Epoch 3/5\n",
      "15000/15000 [==============================] - 53s - loss: 1.3303 - acc: 0.5311    \n",
      "Epoch 4/5\n",
      "15000/15000 [==============================] - 53s - loss: 1.2634 - acc: 0.5551    \n",
      "Epoch 5/5\n",
      "15000/15000 [==============================] - 53s - loss: 1.2059 - acc: 0.5713    \n",
      "Epoch 1/5\n",
      "15000/15000 [==============================] - 52s - loss: 1.5333 - acc: 0.4527    \n",
      "Epoch 2/5\n",
      "15000/15000 [==============================] - 52s - loss: 1.4547 - acc: 0.4812    \n",
      "Epoch 3/5\n",
      "15000/15000 [==============================] - 51s - loss: 1.3770 - acc: 0.5123    \n",
      "Epoch 4/5\n",
      "15000/15000 [==============================] - 51s - loss: 1.3294 - acc: 0.5305    \n",
      "Epoch 5/5\n",
      "15000/15000 [==============================] - 51s - loss: 1.2782 - acc: 0.5434    \n",
      "Epoch 1/5\n",
      "15000/15000 [==============================] - 71s - loss: 1.5668 - acc: 0.4391    \n",
      "Epoch 2/5\n",
      "15000/15000 [==============================] - 70s - loss: 1.4654 - acc: 0.4791    \n",
      "Epoch 3/5\n",
      "15000/15000 [==============================] - 70s - loss: 1.4090 - acc: 0.4950    \n",
      "Epoch 4/5\n",
      "15000/15000 [==============================] - 71s - loss: 1.3471 - acc: 0.5191    \n",
      "Epoch 5/5\n",
      "15000/15000 [==============================] - 71s - loss: 1.3038 - acc: 0.5376    \n",
      "Epoch 1/5\n",
      "15000/15000 [==============================] - 55s - loss: 1.5451 - acc: 0.4518    \n",
      "Epoch 2/5\n",
      "15000/15000 [==============================] - 54s - loss: 1.4493 - acc: 0.4820    \n",
      "Epoch 3/5\n",
      "15000/15000 [==============================] - 55s - loss: 1.3896 - acc: 0.5030    \n",
      "Epoch 4/5\n",
      "15000/15000 [==============================] - 54s - loss: 1.3250 - acc: 0.5302    \n",
      "Epoch 5/5\n",
      "15000/15000 [==============================] - 55s - loss: 1.2826 - acc: 0.5435    \n",
      "Epoch 1/5\n",
      "15000/15000 [==============================] - 31s - loss: 1.6192 - acc: 0.4154    \n",
      "Epoch 2/5\n",
      "15000/15000 [==============================] - 33s - loss: 1.5300 - acc: 0.4543    \n",
      "Epoch 3/5\n",
      "15000/15000 [==============================] - 31s - loss: 1.4776 - acc: 0.4711    \n",
      "Epoch 4/5\n",
      "15000/15000 [==============================] - 31s - loss: 1.4086 - acc: 0.4995    \n",
      "Epoch 5/5\n",
      "15000/15000 [==============================] - 31s - loss: 1.3775 - acc: 0.5074    \n",
      "Epoch 1/5\n",
      "15000/15000 [==============================] - 41s - loss: 1.6786 - acc: 0.3936    \n",
      "Epoch 2/5\n",
      "15000/15000 [==============================] - 42s - loss: 1.5905 - acc: 0.4313    \n",
      "Epoch 3/5\n",
      "15000/15000 [==============================] - 42s - loss: 1.5381 - acc: 0.4456    \n",
      "Epoch 4/5\n",
      "15000/15000 [==============================] - 42s - loss: 1.4856 - acc: 0.4641    \n",
      "Epoch 5/5\n",
      "15000/15000 [==============================] - 42s - loss: 1.4512 - acc: 0.4799    \n",
      "Epoch 1/5\n",
      "15000/15000 [==============================] - 86s - loss: 1.5451 - acc: 0.4473    \n",
      "Epoch 2/5\n",
      "15000/15000 [==============================] - 90s - loss: 1.4436 - acc: 0.4911    \n",
      "Epoch 3/5\n",
      "15000/15000 [==============================] - 89s - loss: 1.3727 - acc: 0.5108    \n",
      "Epoch 4/5\n",
      "15000/15000 [==============================] - 89s - loss: 1.3107 - acc: 0.5335    \n",
      "Epoch 5/5\n",
      "15000/15000 [==============================] - 87s - loss: 1.2574 - acc: 0.5518    \n",
      "Epoch 1/5\n",
      "15000/15000 [==============================] - 61s - loss: 1.6600 - acc: 0.4022    \n",
      "Epoch 2/5\n",
      "15000/15000 [==============================] - 61s - loss: 1.5702 - acc: 0.4392    \n",
      "Epoch 3/5\n",
      "15000/15000 [==============================] - 60s - loss: 1.4976 - acc: 0.4611    \n",
      "Epoch 4/5\n",
      "15000/15000 [==============================] - 60s - loss: 1.4498 - acc: 0.4791    \n",
      "Epoch 5/5\n",
      "15000/15000 [==============================] - 62s - loss: 1.4167 - acc: 0.4882    \n",
      "Epoch 1/5\n",
      "15000/15000 [==============================] - 57s - loss: 1.6439 - acc: 0.4099    \n",
      "Epoch 2/5\n",
      "15000/15000 [==============================] - 61s - loss: 1.5515 - acc: 0.4374    \n",
      "Epoch 3/5\n",
      "15000/15000 [==============================] - 60s - loss: 1.4963 - acc: 0.4595    \n",
      "Epoch 4/5\n",
      "15000/15000 [==============================] - 58s - loss: 1.4317 - acc: 0.4918    \n",
      "Epoch 5/5\n",
      "15000/15000 [==============================] - 58s - loss: 1.3979 - acc: 0.4971    \n",
      "Epoch 1/5\n",
      "15000/15000 [==============================] - 47s - loss: 1.6267 - acc: 0.4185    \n",
      "Epoch 2/5\n",
      "15000/15000 [==============================] - 48s - loss: 1.5359 - acc: 0.4498    \n",
      "Epoch 3/5\n",
      "15000/15000 [==============================] - 47s - loss: 1.4805 - acc: 0.4713    \n",
      "Epoch 4/5\n",
      "15000/15000 [==============================] - 45s - loss: 1.4417 - acc: 0.4886    \n",
      "Epoch 5/5\n",
      "15000/15000 [==============================] - 49s - loss: 1.4012 - acc: 0.5011    \n",
      "Epoch 1/5\n",
      "15000/15000 [==============================] - 27s - loss: 1.5988 - acc: 0.4256    \n",
      "Epoch 2/5\n",
      "15000/15000 [==============================] - 24s - loss: 1.5274 - acc: 0.4572    \n",
      "Epoch 3/5\n",
      "15000/15000 [==============================] - 26s - loss: 1.4642 - acc: 0.4767    \n",
      "Epoch 4/5\n",
      "15000/15000 [==============================] - 23s - loss: 1.4193 - acc: 0.4899    \n",
      "Epoch 5/5\n",
      "15000/15000 [==============================] - 21s - loss: 1.3713 - acc: 0.5057    \n",
      "Epoch 1/5\n",
      "15000/15000 [==============================] - 59s - loss: 1.5205 - acc: 0.4545    \n",
      "Epoch 2/5\n",
      "15000/15000 [==============================] - 57s - loss: 1.3986 - acc: 0.4985    \n",
      "Epoch 3/5\n",
      "15000/15000 [==============================] - 58s - loss: 1.3279 - acc: 0.5300    \n",
      "Epoch 4/5\n",
      "15000/15000 [==============================] - 56s - loss: 1.2608 - acc: 0.5496    \n",
      "Epoch 5/5\n",
      "15000/15000 [==============================] - 54s - loss: 1.2050 - acc: 0.5769    \n",
      "Epoch 1/5\n",
      "15000/15000 [==============================] - 46s - loss: 1.4652 - acc: 0.4779    \n",
      "Epoch 2/5\n",
      "15000/15000 [==============================] - 46s - loss: 1.3872 - acc: 0.5022    \n",
      "Epoch 3/5\n",
      "15000/15000 [==============================] - 44s - loss: 1.3171 - acc: 0.5333    \n",
      "Epoch 4/5\n",
      "15000/15000 [==============================] - 46s - loss: 1.2730 - acc: 0.5541    \n",
      "Epoch 5/5\n",
      "15000/15000 [==============================] - 43s - loss: 1.2179 - acc: 0.5703    \n",
      "Epoch 1/5\n",
      "15000/15000 [==============================] - 58s - loss: 1.4849 - acc: 0.4684    \n",
      "Epoch 2/5\n",
      "15000/15000 [==============================] - 62s - loss: 1.3824 - acc: 0.5103    \n",
      "Epoch 3/5\n",
      "15000/15000 [==============================] - 60s - loss: 1.3052 - acc: 0.5367    \n",
      "Epoch 4/5\n",
      "15000/15000 [==============================] - 64s - loss: 1.2364 - acc: 0.5591    \n",
      "Epoch 5/5\n",
      "15000/15000 [==============================] - 63s - loss: 1.1775 - acc: 0.5823    \n",
      "Epoch 1/5\n",
      "15000/15000 [==============================] - 37s - loss: 1.6076 - acc: 0.4256    \n",
      "Epoch 2/5\n",
      "15000/15000 [==============================] - 36s - loss: 1.5251 - acc: 0.4552    \n",
      "Epoch 3/5\n",
      "15000/15000 [==============================] - 36s - loss: 1.4638 - acc: 0.4796    \n",
      "Epoch 4/5\n",
      "15000/15000 [==============================] - 35s - loss: 1.3979 - acc: 0.5015    \n",
      "Epoch 5/5\n",
      "15000/15000 [==============================] - 35s - loss: 1.3658 - acc: 0.5131    \n",
      "Epoch 1/5\n",
      "15000/15000 [==============================] - 53s - loss: 1.5056 - acc: 0.4633    \n",
      "Epoch 2/5\n",
      "15000/15000 [==============================] - 52s - loss: 1.3997 - acc: 0.5029    \n",
      "Epoch 3/5\n",
      "15000/15000 [==============================] - 54s - loss: 1.3205 - acc: 0.5269    \n",
      "Epoch 4/5\n",
      "15000/15000 [==============================] - 53s - loss: 1.2717 - acc: 0.5465    \n",
      "Epoch 5/5\n",
      "15000/15000 [==============================] - 53s - loss: 1.2049 - acc: 0.5721    \n",
      "Epoch 1/5\n",
      "15000/15000 [==============================] - 61s - loss: 1.5225 - acc: 0.4526    \n",
      "Epoch 2/5\n",
      "15000/15000 [==============================] - 62s - loss: 1.4080 - acc: 0.5001    \n",
      "Epoch 3/5\n",
      "15000/15000 [==============================] - 59s - loss: 1.3398 - acc: 0.5245    \n",
      "Epoch 4/5\n",
      "15000/15000 [==============================] - 59s - loss: 1.2664 - acc: 0.5513    \n",
      "Epoch 5/5\n",
      "15000/15000 [==============================] - 59s - loss: 1.2089 - acc: 0.5714    \n",
      "Epoch 1/5\n",
      "15000/15000 [==============================] - 76s - loss: 1.5272 - acc: 0.4553    \n",
      "Epoch 2/5\n",
      "15000/15000 [==============================] - 75s - loss: 1.4185 - acc: 0.4975    \n",
      "Epoch 3/5\n",
      "15000/15000 [==============================] - 76s - loss: 1.3390 - acc: 0.5209    \n",
      "Epoch 4/5\n",
      "15000/15000 [==============================] - 76s - loss: 1.2851 - acc: 0.5407    \n",
      "Epoch 5/5\n",
      "15000/15000 [==============================] - 73s - loss: 1.2241 - acc: 0.5609    \n",
      "5000/5000 [==============================] - 3s     \n",
      "5000/5000 [==============================] - 8s     \n",
      "5000/5000 [==============================] - 7s     \n",
      "5000/5000 [==============================] - 5s     \n",
      "5000/5000 [==============================] - 6s     \n",
      "4992/5000 [============================>.] - ETA: 0s"
     ]
    }
   ],
   "source": [
    "tab=models_scory(Rand_model_table,X_train[0:15000],Y_train[0:15000],X_train[45000:50000],Y_train[45000:50000],\"rand2.\",epochs=5)"
   ]
  },
  {
   "cell_type": "code",
   "execution_count": 133,
   "metadata": {
    "scrolled": true
   },
   "outputs": [
    {
     "data": {
      "text/plain": [
       "array([[<keras.engine.training.Model object at 0x000001CD3C822A58>,\n",
       "        0.52800000000000002],\n",
       "       [<keras.engine.training.Model object at 0x000001CD3D314EF0>,\n",
       "        0.53680000000000005],\n",
       "       [<keras.engine.training.Model object at 0x000001CD45643D30>,\n",
       "        0.57120000000000004],\n",
       "       [<keras.engine.training.Model object at 0x000001CD458C6438>,\n",
       "        0.57140000000000002],\n",
       "       [<keras.engine.training.Model object at 0x000001CD45B44B38>,\n",
       "        0.55600000000000005],\n",
       "       [<keras.engine.training.Model object at 0x000001CD45DC4CF8>, 0.5534],\n",
       "       [<keras.engine.training.Model object at 0x000001CD460289E8>,\n",
       "        0.54959999999999998],\n",
       "       [<keras.engine.training.Model object at 0x000001CD462AAEF0>, 0.5222],\n",
       "       [<keras.engine.training.Model object at 0x000001CD46538898>,\n",
       "        0.56499999999999995],\n",
       "       [<keras.engine.training.Model object at 0x000001CD467B9F98>,\n",
       "        0.53159999999999996],\n",
       "       [<keras.engine.training.Model object at 0x000001CD46A3A940>,\n",
       "        0.53400000000000003],\n",
       "       [<keras.engine.training.Model object at 0x000001CD46CCACF8>,\n",
       "        0.54239999999999999],\n",
       "       [<keras.engine.training.Model object at 0x000001CD46F4D438>,\n",
       "        0.55520000000000003],\n",
       "       [<keras.engine.training.Model object at 0x000001CD471C6B70>,\n",
       "        0.58660000000000001],\n",
       "       [<keras.engine.training.Model object at 0x000001CD47435320>,\n",
       "        0.58520000000000005],\n",
       "       [<keras.engine.training.Model object at 0x000001CD476D9940>,\n",
       "        0.57840000000000003],\n",
       "       [<keras.engine.training.Model object at 0x000001CD47956A58>,\n",
       "        0.55279999999999996],\n",
       "       [<keras.engine.training.Model object at 0x000001CD47BCADD8>,\n",
       "        0.57940000000000003],\n",
       "       [<keras.engine.training.Model object at 0x000001CD47E4ADD8>,\n",
       "        0.57540000000000002],\n",
       "       [<keras.engine.training.Model object at 0x000001CD480E9780>,\n",
       "        0.56659999999999999]], dtype=object)"
      ]
     },
     "execution_count": 133,
     "metadata": {},
     "output_type": "execute_result"
    }
   ],
   "source": [
    "tab"
   ]
  },
  {
   "cell_type": "code",
   "execution_count": 134,
   "metadata": {
    "collapsed": true
   },
   "outputs": [],
   "source": [
    "Rand_model_table2=delete_bad_model(tab)"
   ]
  },
  {
   "cell_type": "code",
   "execution_count": 136,
   "metadata": {
    "scrolled": true
   },
   "outputs": [
    {
     "name": "stdout",
     "output_type": "stream",
     "text": [
      "Epoch 1/5\n",
      "5000/5000 [==============================] - 23s - loss: 1.4322 - acc: 0.4912    \n",
      "Epoch 2/5\n",
      "5000/5000 [==============================] - 23s - loss: 1.3384 - acc: 0.5312    \n",
      "Epoch 3/5\n",
      "5000/5000 [==============================] - 21s - loss: 1.2863 - acc: 0.5420    \n",
      "Epoch 4/5\n",
      "5000/5000 [==============================] - 26s - loss: 1.2345 - acc: 0.5602    \n",
      "Epoch 5/5\n",
      "5000/5000 [==============================] - 23s - loss: 1.1708 - acc: 0.5852    \n",
      "Epoch 1/5\n",
      "5000/5000 [==============================] - 28s - loss: 1.4279 - acc: 0.4954    \n",
      "Epoch 2/5\n",
      "5000/5000 [==============================] - 28s - loss: 1.3167 - acc: 0.5428    \n",
      "Epoch 3/5\n",
      "5000/5000 [==============================] - 27s - loss: 1.2653 - acc: 0.5566    \n",
      "Epoch 4/5\n",
      "5000/5000 [==============================] - 28s - loss: 1.1661 - acc: 0.5904    \n",
      "Epoch 5/5\n",
      "5000/5000 [==============================] - 27s - loss: 1.0952 - acc: 0.6088    \n",
      "Epoch 1/5\n",
      "5000/5000 [==============================] - 23s - loss: 1.3647 - acc: 0.5222    \n",
      "Epoch 2/5\n",
      "5000/5000 [==============================] - 24s - loss: 1.2928 - acc: 0.5354    \n",
      "Epoch 3/5\n",
      "5000/5000 [==============================] - 23s - loss: 1.2354 - acc: 0.5658    \n",
      "Epoch 4/5\n",
      "5000/5000 [==============================] - 24s - loss: 1.1709 - acc: 0.5966    \n",
      "Epoch 5/5\n",
      "5000/5000 [==============================] - 24s - loss: 1.0939 - acc: 0.6120    \n",
      "Epoch 1/5\n",
      "5000/5000 [==============================] - 18s - loss: 1.3400 - acc: 0.5308    \n",
      "Epoch 2/5\n",
      "5000/5000 [==============================] - 17s - loss: 1.2630 - acc: 0.5530    \n",
      "Epoch 3/5\n",
      "5000/5000 [==============================] - 17s - loss: 1.2035 - acc: 0.5700    \n",
      "Epoch 4/5\n",
      "5000/5000 [==============================] - 17s - loss: 1.1486 - acc: 0.5926    \n",
      "Epoch 5/5\n",
      "5000/5000 [==============================] - 17s - loss: 1.1204 - acc: 0.5996    \n",
      "Epoch 1/5\n",
      "5000/5000 [==============================] - 16s - loss: 1.3916 - acc: 0.5144    \n",
      "Epoch 2/5\n",
      "5000/5000 [==============================] - 16s - loss: 1.3300 - acc: 0.5362    \n",
      "Epoch 3/5\n",
      "5000/5000 [==============================] - 16s - loss: 1.2585 - acc: 0.5558    \n",
      "Epoch 4/5\n",
      "5000/5000 [==============================] - 16s - loss: 1.2160 - acc: 0.5612    \n",
      "Epoch 5/5\n",
      "5000/5000 [==============================] - 16s - loss: 1.1926 - acc: 0.5764    - ETA: 2s \n",
      "Epoch 1/5\n",
      "5000/5000 [==============================] - 23s - loss: 1.3498 - acc: 0.5180    \n",
      "Epoch 2/5\n",
      "5000/5000 [==============================] - 22s - loss: 1.2588 - acc: 0.5562    \n",
      "Epoch 3/5\n",
      "5000/5000 [==============================] - 21s - loss: 1.2130 - acc: 0.5722    \n",
      "Epoch 4/5\n",
      "5000/5000 [==============================] - 20s - loss: 1.1635 - acc: 0.5846    \n",
      "Epoch 5/5\n",
      "5000/5000 [==============================] - 20s - loss: 1.0834 - acc: 0.6142    \n",
      "Epoch 1/5\n",
      "5000/5000 [==============================] - 23s - loss: 1.3422 - acc: 0.5256    \n",
      "Epoch 2/5\n",
      "5000/5000 [==============================] - 21s - loss: 1.2606 - acc: 0.5520    \n",
      "Epoch 3/5\n",
      "5000/5000 [==============================] - 20s - loss: 1.1898 - acc: 0.5774    \n",
      "Epoch 4/5\n",
      "5000/5000 [==============================] - 20s - loss: 1.1116 - acc: 0.6028    \n",
      "Epoch 5/5\n",
      "5000/5000 [==============================] - 20s - loss: 1.0510 - acc: 0.6274    \n",
      "Epoch 1/5\n",
      "5000/5000 [==============================] - 17s - loss: 1.3499 - acc: 0.5258    \n",
      "Epoch 2/5\n",
      "5000/5000 [==============================] - 17s - loss: 1.2759 - acc: 0.5506    \n",
      "Epoch 3/5\n",
      "5000/5000 [==============================] - 17s - loss: 1.2160 - acc: 0.5642    \n",
      "Epoch 4/5\n",
      "5000/5000 [==============================] - 18s - loss: 1.1619 - acc: 0.5790    \n",
      "Epoch 5/5\n",
      "5000/5000 [==============================] - 18s - loss: 1.1149 - acc: 0.6056    \n",
      "Epoch 1/5\n",
      "5000/5000 [==============================] - 15s - loss: 1.3574 - acc: 0.5230    \n",
      "Epoch 2/5\n",
      "5000/5000 [==============================] - 14s - loss: 1.2674 - acc: 0.5502    \n",
      "Epoch 3/5\n",
      "5000/5000 [==============================] - 14s - loss: 1.2274 - acc: 0.5626    \n",
      "Epoch 4/5\n",
      "5000/5000 [==============================] - 15s - loss: 1.1748 - acc: 0.5816    \n",
      "Epoch 5/5\n",
      "5000/5000 [==============================] - 15s - loss: 1.1302 - acc: 0.6008    \n",
      "Epoch 1/5\n",
      "5000/5000 [==============================] - 18s - loss: 1.3429 - acc: 0.5354    \n",
      "Epoch 2/5\n",
      "5000/5000 [==============================] - 18s - loss: 1.2717 - acc: 0.5534    \n",
      "Epoch 3/5\n",
      "5000/5000 [==============================] - 18s - loss: 1.2054 - acc: 0.5774    \n",
      "Epoch 4/5\n",
      "5000/5000 [==============================] - 17s - loss: 1.1415 - acc: 0.6014    \n",
      "Epoch 5/5\n",
      "5000/5000 [==============================] - 19s - loss: 1.0926 - acc: 0.6146    \n",
      "5000/5000 [==============================] - 5s     \n",
      "4960/5000 [============================>.] - ETA: 0s"
     ]
    }
   ],
   "source": [
    "#Zostało 10 modeli\n",
    "tab2=models_scory(Rand_model_table2,X_train[15000:20000],Y_train[15000:20000],X_train[45000:50000],Y_train[45000:50000],\"rand3.\",epochs=5)"
   ]
  },
  {
   "cell_type": "code",
   "execution_count": 22,
   "metadata": {
    "collapsed": true
   },
   "outputs": [],
   "source": [
    "Rand_model_table2=load_model_tab(\"rand3.\",10)"
   ]
  },
  {
   "cell_type": "code",
   "execution_count": 23,
   "metadata": {
    "scrolled": true
   },
   "outputs": [
    {
     "name": "stdout",
     "output_type": "stream",
     "text": [
      "Epoch 1/5\n",
      "5000/5000 [==============================] - 23s - loss: 1.0982 - acc: 0.6068    \n",
      "Epoch 2/5\n",
      "5000/5000 [==============================] - 23s - loss: 1.0362 - acc: 0.6264    \n",
      "Epoch 3/5\n",
      "5000/5000 [==============================] - 24s - loss: 0.9800 - acc: 0.6524    \n",
      "Epoch 4/5\n",
      "5000/5000 [==============================] - 23s - loss: 0.9361 - acc: 0.6698    \n",
      "Epoch 5/5\n",
      "5000/5000 [==============================] - 23s - loss: 0.8876 - acc: 0.6798    \n",
      "Epoch 1/5\n",
      "5000/5000 [==============================] - 29s - loss: 1.3438 - acc: 0.5194    \n",
      "Epoch 2/5\n",
      "5000/5000 [==============================] - 30s - loss: 1.2561 - acc: 0.5556    \n",
      "Epoch 3/5\n",
      "5000/5000 [==============================] - 29s - loss: 1.1777 - acc: 0.5732    \n",
      "Epoch 4/5\n",
      "5000/5000 [==============================] - 27s - loss: 1.1014 - acc: 0.6106    \n",
      "Epoch 5/5\n",
      "5000/5000 [==============================] - 28s - loss: 1.0383 - acc: 0.6290    \n",
      "Epoch 1/5\n",
      "5000/5000 [==============================] - 23s - loss: 1.3418 - acc: 0.5286    \n",
      "Epoch 2/5\n",
      "5000/5000 [==============================] - 24s - loss: 1.2346 - acc: 0.5586    \n",
      "Epoch 3/5\n",
      "5000/5000 [==============================] - 23s - loss: 1.1790 - acc: 0.5766    \n",
      "Epoch 4/5\n",
      "5000/5000 [==============================] - 24s - loss: 1.1129 - acc: 0.6000    \n",
      "Epoch 5/5\n",
      "5000/5000 [==============================] - 23s - loss: 1.0716 - acc: 0.6124    \n",
      "Epoch 1/5\n",
      "5000/5000 [==============================] - 17s - loss: 1.2954 - acc: 0.5538    \n",
      "Epoch 2/5\n",
      "5000/5000 [==============================] - 17s - loss: 1.2018 - acc: 0.5784    \n",
      "Epoch 3/5\n",
      "5000/5000 [==============================] - 17s - loss: 1.1293 - acc: 0.5994    \n",
      "Epoch 4/5\n",
      "5000/5000 [==============================] - 17s - loss: 1.0795 - acc: 0.6198    \n",
      "Epoch 5/5\n",
      "5000/5000 [==============================] - 17s - loss: 1.0331 - acc: 0.6354    \n",
      "Epoch 1/5\n",
      "5000/5000 [==============================] - 15s - loss: 1.3163 - acc: 0.5366    \n",
      "Epoch 2/5\n",
      "5000/5000 [==============================] - 16s - loss: 1.2619 - acc: 0.5474    - ETA: 0s - loss: 1.2591 - ac\n",
      "Epoch 3/5\n",
      "5000/5000 [==============================] - 15s - loss: 1.2247 - acc: 0.5624    - ETA: 1s - loss: \n",
      "Epoch 4/5\n",
      "5000/5000 [==============================] - 16s - loss: 1.1548 - acc: 0.5962    \n",
      "Epoch 5/5\n",
      "5000/5000 [==============================] - 16s - loss: 1.1116 - acc: 0.6030    \n",
      "Epoch 1/5\n",
      "5000/5000 [==============================] - 19s - loss: 1.2988 - acc: 0.5414    \n",
      "Epoch 2/5\n",
      "5000/5000 [==============================] - 19s - loss: 1.2325 - acc: 0.5632    \n",
      "Epoch 3/5\n",
      "5000/5000 [==============================] - 19s - loss: 1.1530 - acc: 0.5902    \n",
      "Epoch 4/5\n",
      "5000/5000 [==============================] - 19s - loss: 1.0922 - acc: 0.6184    \n",
      "Epoch 5/5\n",
      "5000/5000 [==============================] - 20s - loss: 1.0237 - acc: 0.6416    \n",
      "Epoch 1/5\n",
      "5000/5000 [==============================] - 19s - loss: 1.3101 - acc: 0.5314    \n",
      "Epoch 2/5\n",
      "5000/5000 [==============================] - 19s - loss: 1.2068 - acc: 0.5748    \n",
      "Epoch 3/5\n",
      "5000/5000 [==============================] - 19s - loss: 1.1168 - acc: 0.6038    \n",
      "Epoch 4/5\n",
      "5000/5000 [==============================] - 19s - loss: 1.0451 - acc: 0.6268    \n",
      "Epoch 5/5\n",
      "5000/5000 [==============================] - 19s - loss: 0.9877 - acc: 0.6430    \n",
      "Epoch 1/5\n",
      "5000/5000 [==============================] - 16s - loss: 1.3115 - acc: 0.5324    \n",
      "Epoch 2/5\n",
      "5000/5000 [==============================] - 17s - loss: 1.2019 - acc: 0.5794    \n",
      "Epoch 3/5\n",
      "5000/5000 [==============================] - 17s - loss: 1.1438 - acc: 0.6048    \n",
      "Epoch 4/5\n",
      "5000/5000 [==============================] - 17s - loss: 1.1267 - acc: 0.6004    \n",
      "Epoch 5/5\n",
      "5000/5000 [==============================] - 17s - loss: 1.0710 - acc: 0.6222    \n",
      "Epoch 1/5\n",
      "5000/5000 [==============================] - 14s - loss: 1.2775 - acc: 0.5406    - ETA: 1s - loss:\n",
      "Epoch 2/5\n",
      "5000/5000 [==============================] - 14s - loss: 1.2088 - acc: 0.5806    \n",
      "Epoch 3/5\n",
      "5000/5000 [==============================] - 14s - loss: 1.1582 - acc: 0.5868    \n",
      "Epoch 4/5\n",
      "5000/5000 [==============================] - 14s - loss: 1.1259 - acc: 0.6030    \n",
      "Epoch 5/5\n",
      "5000/5000 [==============================] - 14s - loss: 1.0856 - acc: 0.6060    \n",
      "Epoch 1/5\n",
      "5000/5000 [==============================] - 17s - loss: 1.2865 - acc: 0.5476    \n",
      "Epoch 2/5\n",
      "5000/5000 [==============================] - 18s - loss: 1.2082 - acc: 0.5814    \n",
      "Epoch 3/5\n",
      "5000/5000 [==============================] - 17s - loss: 1.1426 - acc: 0.5908    \n",
      "Epoch 4/5\n",
      "5000/5000 [==============================] - 17s - loss: 1.1047 - acc: 0.6126    \n",
      "Epoch 5/5\n",
      "5000/5000 [==============================] - 17s - loss: 1.0494 - acc: 0.6324    \n",
      "5000/5000 [==============================] - 7s     \n",
      "4992/5000 [============================>.] - ETA: 0s"
     ]
    }
   ],
   "source": [
    "tab2=models_scory(Rand_model_table2,X_train[20000:25000],Y_train[20000:25000],X_train[45000:50000],Y_train[45000:50000],\"rand4.\",epochs=5)"
   ]
  },
  {
   "cell_type": "code",
   "execution_count": 24,
   "metadata": {},
   "outputs": [
    {
     "data": {
      "text/plain": [
       "array([[<keras.engine.training.Model object at 0x000002A741B728D0>,\n",
       "        0.60219999999999996],\n",
       "       [<keras.engine.training.Model object at 0x000002A7448B1DA0>,\n",
       "        0.58899999999999997],\n",
       "       [<keras.engine.training.Model object at 0x000002A744A3BC88>, 0.5978],\n",
       "       [<keras.engine.training.Model object at 0x000002A748844E10>,\n",
       "        0.61140000000000005],\n",
       "       [<keras.engine.training.Model object at 0x000002A748F86898>,\n",
       "        0.59640000000000004],\n",
       "       [<keras.engine.training.Model object at 0x000002A74AD9EAC8>, 0.6028],\n",
       "       [<keras.engine.training.Model object at 0x000002A74CBB2BA8>,\n",
       "        0.60419999999999996],\n",
       "       [<keras.engine.training.Model object at 0x000002A751515E10>,\n",
       "        0.61560000000000004],\n",
       "       [<keras.engine.training.Model object at 0x000002A7528837B8>,\n",
       "        0.61499999999999999],\n",
       "       [<keras.engine.training.Model object at 0x000002A756257DA0>,\n",
       "        0.58819999999999995]], dtype=object)"
      ]
     },
     "execution_count": 24,
     "metadata": {},
     "output_type": "execute_result"
    }
   ],
   "source": [
    "tab2"
   ]
  },
  {
   "cell_type": "code",
   "execution_count": 28,
   "metadata": {
    "collapsed": true
   },
   "outputs": [],
   "source": [
    "#zostało 5 modeli\n",
    "Rand_model_table3=delete_bad_model(tab2)\n"
   ]
  },
  {
   "cell_type": "code",
   "execution_count": 30,
   "metadata": {
    "collapsed": true
   },
   "outputs": [
    {
     "name": "stdout",
     "output_type": "stream",
     "text": [
      "Epoch 1/5\n",
      "30000/30000 [==============================] - 116s - loss: 1.1612 - acc: 0.5891   \n",
      "Epoch 2/5\n",
      "30000/30000 [==============================] - 114s - loss: 1.0996 - acc: 0.6134   \n",
      "Epoch 3/5\n",
      "30000/30000 [==============================] - 116s - loss: 1.0672 - acc: 0.6228   \n",
      "Epoch 4/5\n",
      "30000/30000 [==============================] - 117s - loss: 1.0226 - acc: 0.6391   \n",
      "Epoch 5/5\n",
      "30000/30000 [==============================] - 116s - loss: 0.9914 - acc: 0.6491   \n",
      "Epoch 1/5\n",
      "30000/30000 [==============================] - 118s - loss: 1.1358 - acc: 0.6016   \n",
      "Epoch 2/5\n",
      "30000/30000 [==============================] - 119s - loss: 1.0775 - acc: 0.6180   \n",
      "Epoch 3/5\n",
      "30000/30000 [==============================] - 118s - loss: 1.0355 - acc: 0.6330   \n",
      "Epoch 4/5\n",
      "30000/30000 [==============================] - 123s - loss: 1.0072 - acc: 0.6439   \n",
      "Epoch 5/5\n",
      "30000/30000 [==============================] - 126s - loss: 0.9602 - acc: 0.6595   \n",
      "Epoch 1/5\n",
      "30000/30000 [==============================] - 109s - loss: 1.1484 - acc: 0.5940   \n",
      "Epoch 2/5\n",
      "30000/30000 [==============================] - 108s - loss: 1.0910 - acc: 0.6142   \n",
      "Epoch 3/5\n",
      "30000/30000 [==============================] - 108s - loss: 1.0484 - acc: 0.6312   \n",
      "Epoch 4/5\n",
      "30000/30000 [==============================] - 107s - loss: 1.0182 - acc: 0.6408   \n",
      "Epoch 5/5\n",
      "30000/30000 [==============================] - 108s - loss: 0.9858 - acc: 0.6512   \n",
      "Epoch 1/5\n",
      "30000/30000 [==============================] - 88s - loss: 1.1738 - acc: 0.5849    \n",
      "Epoch 2/5\n",
      "30000/30000 [==============================] - 87s - loss: 1.1295 - acc: 0.5992    \n",
      "Epoch 3/5\n",
      "30000/30000 [==============================] - 87s - loss: 1.0959 - acc: 0.6147    \n",
      "Epoch 4/5\n",
      "30000/30000 [==============================] - 88s - loss: 1.0659 - acc: 0.6211    \n",
      "Epoch 5/5\n",
      "30000/30000 [==============================] - 87s - loss: 1.0369 - acc: 0.6319    \n",
      "Epoch 1/5\n",
      "30000/30000 [==============================] - 104s - loss: 1.1458 - acc: 0.5953   \n",
      "Epoch 2/5\n",
      "30000/30000 [==============================] - 102s - loss: 1.1059 - acc: 0.6091   \n",
      "Epoch 3/5\n",
      "30000/30000 [==============================] - 102s - loss: 1.0763 - acc: 0.6186   \n",
      "Epoch 4/5\n",
      "30000/30000 [==============================] - 103s - loss: 1.0454 - acc: 0.6319   \n",
      "Epoch 5/5\n",
      "30000/30000 [==============================] - 103s - loss: 1.0144 - acc: 0.6387   \n",
      "4992/5000 [============================>.] - ETA: 0s"
     ]
    }
   ],
   "source": [
    "tab3=models_scory(Rand_model_table3,X_train[0:30000],Y_train[0:30000],X_train[45000:50000],Y_train[45000:50000],\"rand5.\",epochs=5)"
   ]
  },
  {
   "cell_type": "code",
   "execution_count": 31,
   "metadata": {},
   "outputs": [
    {
     "data": {
      "text/plain": [
       "array([[<keras.engine.training.Model object at 0x000002A74AD9EAC8>, 0.6482],\n",
       "       [<keras.engine.training.Model object at 0x000002A74CBB2BA8>,\n",
       "        0.65480000000000005],\n",
       "       [<keras.engine.training.Model object at 0x000002A748844E10>,\n",
       "        0.65539999999999998],\n",
       "       [<keras.engine.training.Model object at 0x000002A7528837B8>,\n",
       "        0.63580000000000003],\n",
       "       [<keras.engine.training.Model object at 0x000002A751515E10>,\n",
       "        0.65380000000000005]], dtype=object)"
      ]
     },
     "execution_count": 31,
     "metadata": {},
     "output_type": "execute_result"
    }
   ],
   "source": [
    "tab3"
   ]
  },
  {
   "cell_type": "code",
   "execution_count": 37,
   "metadata": {
    "collapsed": true
   },
   "outputs": [],
   "source": [
    "#zostały 3 modele\n",
    "Rand_model_table4=delete_bad_model(tab3)"
   ]
  },
  {
   "cell_type": "code",
   "execution_count": 38,
   "metadata": {
    "collapsed": true
   },
   "outputs": [
    {
     "name": "stdout",
     "output_type": "stream",
     "text": [
      "Epoch 1/7\n",
      "40000/40000 [==============================] - 130s - loss: 1.0515 - acc: 0.6313   - ETA\n",
      "Epoch 2/7\n",
      "40000/40000 [==============================] - 129s - loss: 1.0211 - acc: 0.6400   \n",
      "Epoch 3/7\n",
      "40000/40000 [==============================] - 130s - loss: 0.9983 - acc: 0.6464   \n",
      "Epoch 4/7\n",
      "40000/40000 [==============================] - 130s - loss: 0.9883 - acc: 0.6523   \n",
      "Epoch 5/7\n",
      "40000/40000 [==============================] - 133s - loss: 0.9557 - acc: 0.6627   \n",
      "Epoch 6/7\n",
      "40000/40000 [==============================] - 138s - loss: 0.9457 - acc: 0.6667   \n",
      "Epoch 7/7\n",
      "40000/40000 [==============================] - 141s - loss: 0.9164 - acc: 0.6731   \n",
      "Epoch 1/7\n",
      "40000/40000 [==============================] - 163s - loss: 1.0299 - acc: 0.6418   \n",
      "Epoch 2/7\n",
      "40000/40000 [==============================] - 182s - loss: 0.9930 - acc: 0.6515   \n",
      "Epoch 3/7\n",
      "40000/40000 [==============================] - 174s - loss: 0.9653 - acc: 0.6614   \n",
      "Epoch 4/7\n",
      "40000/40000 [==============================] - 178s - loss: 0.9348 - acc: 0.6697   \n",
      "Epoch 5/7\n",
      "40000/40000 [==============================] - 168s - loss: 0.9109 - acc: 0.6784   \n",
      "Epoch 6/7\n",
      "40000/40000 [==============================] - 171s - loss: 0.8847 - acc: 0.6872   \n",
      "Epoch 7/7\n",
      "40000/40000 [==============================] - 170s - loss: 0.8640 - acc: 0.6927   \n",
      "Epoch 1/7\n",
      "40000/40000 [==============================] - 154s - loss: 1.0315 - acc: 0.6385   \n",
      "Epoch 2/7\n",
      "40000/40000 [==============================] - 149s - loss: 0.9982 - acc: 0.6497   \n",
      "Epoch 3/7\n",
      "40000/40000 [==============================] - 138s - loss: 0.9721 - acc: 0.6579   \n",
      "Epoch 4/7\n",
      "40000/40000 [==============================] - 134s - loss: 0.9413 - acc: 0.6657   \n",
      "Epoch 5/7\n",
      "40000/40000 [==============================] - 135s - loss: 0.9222 - acc: 0.6742   \n",
      "Epoch 6/7\n",
      "40000/40000 [==============================] - 134s - loss: 0.9053 - acc: 0.6798   \n",
      "Epoch 7/7\n",
      "40000/40000 [==============================] - 135s - loss: 0.8789 - acc: 0.6887   \n",
      "5000/5000 [==============================] - 3s     \n"
     ]
    }
   ],
   "source": [
    "tab4=models_scory(Rand_model_table4,X_train[0:40000],Y_train[0:40000],X_train[45000:50000],Y_train[45000:50000],\"rand5.\",epochs=7)"
   ]
  },
  {
   "cell_type": "code",
   "execution_count": 40,
   "metadata": {
    "collapsed": true
   },
   "outputs": [
    {
     "name": "stdout",
     "output_type": "stream",
     "text": [
      "Epoch 1/10\n",
      "40000/40000 [==============================] - 146s - loss: 0.9005 - acc: 0.6805   \n",
      "Epoch 2/10\n",
      "40000/40000 [==============================] - 141s - loss: 0.8878 - acc: 0.6839   \n",
      "Epoch 3/10\n",
      "40000/40000 [==============================] - 144s - loss: 0.8725 - acc: 0.6909   \n",
      "Epoch 4/10\n",
      "40000/40000 [==============================] - 146s - loss: 0.8618 - acc: 0.6910   \n",
      "Epoch 5/10\n",
      "40000/40000 [==============================] - 147s - loss: 0.8450 - acc: 0.6987   \n",
      "Epoch 6/10\n",
      "40000/40000 [==============================] - 144s - loss: 0.8350 - acc: 0.6998   \n",
      "Epoch 7/10\n",
      "40000/40000 [==============================] - 144s - loss: 0.8168 - acc: 0.7075   \n",
      "Epoch 8/10\n",
      "40000/40000 [==============================] - 146s - loss: 0.8107 - acc: 0.7089   \n",
      "Epoch 9/10\n",
      "40000/40000 [==============================] - 143s - loss: 0.7972 - acc: 0.7130   \n",
      "Epoch 10/10\n",
      "40000/40000 [==============================] - 134s - loss: 0.7935 - acc: 0.7146   \n",
      "Epoch 1/10\n",
      "40000/40000 [==============================] - 154s - loss: 0.8415 - acc: 0.7029   \n",
      "Epoch 2/10\n",
      "40000/40000 [==============================] - 153s - loss: 0.8306 - acc: 0.7032   \n",
      "Epoch 3/10\n",
      "40000/40000 [==============================] - 152s - loss: 0.8113 - acc: 0.7111   \n",
      "Epoch 4/10\n",
      "40000/40000 [==============================] - 153s - loss: 0.7969 - acc: 0.7162   \n",
      "Epoch 5/10\n",
      "40000/40000 [==============================] - 153s - loss: 0.7796 - acc: 0.7237   \n",
      "Epoch 6/10\n",
      "40000/40000 [==============================] - 153s - loss: 0.7714 - acc: 0.7221   \n",
      "Epoch 7/10\n",
      "40000/40000 [==============================] - 154s - loss: 0.7632 - acc: 0.7281   \n",
      "Epoch 8/10\n",
      "40000/40000 [==============================] - 154s - loss: 0.7510 - acc: 0.7318   \n",
      "Epoch 9/10\n",
      "40000/40000 [==============================] - 158s - loss: 0.7312 - acc: 0.7405   \n",
      "Epoch 10/10\n",
      "40000/40000 [==============================] - 170s - loss: 0.7205 - acc: 0.7447   \n",
      "Epoch 1/10\n",
      "40000/40000 [==============================] - 147s - loss: 0.8671 - acc: 0.6913   \n",
      "Epoch 2/10\n",
      "40000/40000 [==============================] - 141s - loss: 0.8411 - acc: 0.7015   \n",
      "Epoch 3/10\n",
      "40000/40000 [==============================] - 145s - loss: 0.8269 - acc: 0.7041   \n",
      "Epoch 4/10\n",
      "40000/40000 [==============================] - 142s - loss: 0.8109 - acc: 0.7115   \n",
      "Epoch 5/10\n",
      "40000/40000 [==============================] - 142s - loss: 0.8024 - acc: 0.7123   \n",
      "Epoch 6/10\n",
      "40000/40000 [==============================] - 136s - loss: 0.7852 - acc: 0.7172   \n",
      "Epoch 7/10\n",
      "40000/40000 [==============================] - 142s - loss: 0.7654 - acc: 0.7256   \n",
      "Epoch 8/10\n",
      "40000/40000 [==============================] - 148s - loss: 0.7554 - acc: 0.7323   \n",
      "Epoch 9/10\n",
      "40000/40000 [==============================] - 155s - loss: 0.7455 - acc: 0.7318   \n",
      "Epoch 10/10\n",
      "40000/40000 [==============================] - 157s - loss: 0.7365 - acc: 0.7322   \n",
      "5000/5000 [==============================] - 6s     \n",
      "4992/5000 [============================>.] - ETA: 0s"
     ]
    }
   ],
   "source": [
    "tab5=models_scory(Rand_model_table4,X_train[0:40000],Y_train[0:40000],X_train[45000:50000],Y_train[45000:50000],\"rand6.\",epochs=10)"
   ]
  },
  {
   "cell_type": "code",
   "execution_count": 44,
   "metadata": {
    "collapsed": true
   },
   "outputs": [],
   "source": [
    "#zostały 2 modele\n",
    "Rand_model_table5=delete_bad_model(tab5)"
   ]
  },
  {
   "cell_type": "code",
   "execution_count": 45,
   "metadata": {
    "collapsed": true
   },
   "outputs": [
    {
     "name": "stdout",
     "output_type": "stream",
     "text": [
      "Epoch 1/10\n",
      "40000/40000 [==============================] - 178s - loss: 0.7147 - acc: 0.7444   \n",
      "Epoch 2/10\n",
      "40000/40000 [==============================] - 170s - loss: 0.7028 - acc: 0.7499   \n",
      "Epoch 3/10\n",
      "40000/40000 [==============================] - 161s - loss: 0.6846 - acc: 0.7564   \n",
      "Epoch 4/10\n",
      "40000/40000 [==============================] - 156s - loss: 0.6776 - acc: 0.7579   \n",
      "Epoch 5/10\n",
      "40000/40000 [==============================] - 160s - loss: 0.6686 - acc: 0.7602   \n",
      "Epoch 6/10\n",
      "40000/40000 [==============================] - 165s - loss: 0.6686 - acc: 0.7601   \n",
      "Epoch 7/10\n",
      "40000/40000 [==============================] - 159s - loss: 0.6639 - acc: 0.7645   \n",
      "Epoch 8/10\n",
      "40000/40000 [==============================] - 167s - loss: 0.6575 - acc: 0.7642   \n",
      "Epoch 9/10\n",
      "40000/40000 [==============================] - 165s - loss: 0.6431 - acc: 0.7727   \n",
      "Epoch 10/10\n",
      "40000/40000 [==============================] - 157s - loss: 0.6299 - acc: 0.7744   \n",
      "Epoch 1/10\n",
      "40000/40000 [==============================] - 149s - loss: 0.7257 - acc: 0.7408   \n",
      "Epoch 2/10\n",
      "40000/40000 [==============================] - 141s - loss: 0.7124 - acc: 0.7463   \n",
      "Epoch 3/10\n",
      "40000/40000 [==============================] - 140s - loss: 0.7018 - acc: 0.7472   \n",
      "Epoch 4/10\n",
      "40000/40000 [==============================] - 147s - loss: 0.7004 - acc: 0.7496   \n",
      "Epoch 5/10\n",
      "40000/40000 [==============================] - 146s - loss: 0.6782 - acc: 0.7564   \n",
      "Epoch 6/10\n",
      "40000/40000 [==============================] - 145s - loss: 0.6779 - acc: 0.7565   \n",
      "Epoch 7/10\n",
      "40000/40000 [==============================] - 139s - loss: 0.6689 - acc: 0.7587   \n",
      "Epoch 8/10\n",
      "40000/40000 [==============================] - 141s - loss: 0.6645 - acc: 0.7626   \n",
      "Epoch 9/10\n",
      "40000/40000 [==============================] - 143s - loss: 0.6534 - acc: 0.7669   \n",
      "Epoch 10/10\n",
      "40000/40000 [==============================] - 144s - loss: 0.6382 - acc: 0.7709   \n",
      "10000/10000 [==============================] - 7s     \n"
     ]
    }
   ],
   "source": [
    "tab5=models_scory(Rand_model_table5,X_train[0:40000],Y_train[0:40000],X_train[40000:50000],Y_train[40000:50000],\"rand7.\",epochs=10)"
   ]
  },
  {
   "cell_type": "code",
   "execution_count": 47,
   "metadata": {
    "collapsed": true
   },
   "outputs": [],
   "source": [
    "#został ostatni model fittuje go dopuki accuracy na zbiorze validującym nie będzie spadać\n",
    "#zaczynamy monitotować accuracy podczas uczenia ostatniego modelu jeśli spadnie to przerywamy fittowanie\n",
    "Rand_model_table5=delete_bad_model(tab5)"
   ]
  },
  {
   "cell_type": "code",
   "execution_count": 48,
   "metadata": {},
   "outputs": [
    {
     "name": "stdout",
     "output_type": "stream",
     "text": [
      "Epoch 1/1\n",
      "40000/40000 [==============================] - 138s - loss: 0.6330 - acc: 0.7717   \n",
      " 9984/10000 [============================>.] - ETA: 0s"
     ]
    }
   ],
   "source": [
    "tab5=models_scory(Rand_model_table5,X_train[0:40000],Y_train[0:40000],X_train[40000:50000],Y_train[40000:50000],\"ostatni.\",epochs=1)"
   ]
  },
  {
   "cell_type": "code",
   "execution_count": 49,
   "metadata": {},
   "outputs": [
    {
     "data": {
      "text/plain": [
       "array([[<keras.engine.training.Model object at 0x000002A748844E10>,\n",
       "        0.68289999999999995]], dtype=object)"
      ]
     },
     "execution_count": 49,
     "metadata": {},
     "output_type": "execute_result"
    }
   ],
   "source": [
    "\n",
    "tab5"
   ]
  },
  {
   "cell_type": "code",
   "execution_count": 50,
   "metadata": {},
   "outputs": [
    {
     "name": "stdout",
     "output_type": "stream",
     "text": [
      "Epoch 1/1\n",
      "40000/40000 [==============================] - 136s - loss: 0.6236 - acc: 0.7777   \n",
      " 9952/10000 [============================>.] - ETA: 0s"
     ]
    }
   ],
   "source": [
    "tab5=models_scory(Rand_model_table5,X_train[0:40000],Y_train[0:40000],X_train[40000:50000],Y_train[40000:50000],\"ostatni.\",epochs=1)"
   ]
  },
  {
   "cell_type": "code",
   "execution_count": 51,
   "metadata": {},
   "outputs": [
    {
     "data": {
      "text/plain": [
       "array([[<keras.engine.training.Model object at 0x000002A748844E10>,\n",
       "        0.68310000000000004]], dtype=object)"
      ]
     },
     "execution_count": 51,
     "metadata": {},
     "output_type": "execute_result"
    }
   ],
   "source": [
    "tab5"
   ]
  },
  {
   "cell_type": "code",
   "execution_count": 52,
   "metadata": {
    "scrolled": true
   },
   "outputs": [
    {
     "name": "stdout",
     "output_type": "stream",
     "text": [
      "Epoch 1/10\n",
      "40000/40000 [==============================] - 133s - loss: 0.6178 - acc: 0.7798   \n",
      "Epoch 2/10\n",
      "40000/40000 [==============================] - 139s - loss: 0.6184 - acc: 0.7768   \n",
      "Epoch 3/10\n",
      "40000/40000 [==============================] - 137s - loss: 0.6043 - acc: 0.7824   \n",
      "Epoch 4/10\n",
      "40000/40000 [==============================] - 134s - loss: 0.6043 - acc: 0.7830   \n",
      "Epoch 5/10\n",
      "40000/40000 [==============================] - 135s - loss: 0.5962 - acc: 0.7845   \n",
      "Epoch 6/10\n",
      "40000/40000 [==============================] - 134s - loss: 0.5864 - acc: 0.7897   \n",
      "Epoch 7/10\n",
      "40000/40000 [==============================] - 138s - loss: 0.5892 - acc: 0.7903   \n",
      "Epoch 8/10\n",
      "40000/40000 [==============================] - 138s - loss: 0.5803 - acc: 0.7915   \n",
      "Epoch 9/10\n",
      "40000/40000 [==============================] - 139s - loss: 0.5774 - acc: 0.7924   \n",
      "Epoch 10/10\n",
      "40000/40000 [==============================] - 146s - loss: 0.5780 - acc: 0.7909   \n",
      " 9984/10000 [============================>.] - ETA: 0s"
     ]
    }
   ],
   "source": [
    "tab5=models_scory(Rand_model_table5,X_train[0:40000],Y_train[0:40000],X_train[40000:50000],Y_train[40000:50000],\"ostatni_2.\",epochs=10)"
   ]
  },
  {
   "cell_type": "code",
   "execution_count": 54,
   "metadata": {},
   "outputs": [
    {
     "data": {
      "text/plain": [
       "array([[<keras.engine.training.Model object at 0x000002A748844E10>,\n",
       "        0.68120000000000003]], dtype=object)"
      ]
     },
     "execution_count": 54,
     "metadata": {},
     "output_type": "execute_result"
    }
   ],
   "source": [
    "#accurasy s\n",
    "tab5"
   ]
  },
  {
   "cell_type": "code",
   "execution_count": null,
   "metadata": {
    "collapsed": true
   },
   "outputs": [],
   "source": [
    "#Accurasy modelu na danych validujących spadło więc model zaczyna się overfittować"
   ]
  },
  {
   "cell_type": "code",
   "execution_count": 82,
   "metadata": {
    "collapsed": true
   },
   "outputs": [],
   "source": [
    "#Predykcja danych testowych\n",
    "Y_test_predicted=model_ostateczzny.predict(X_test)"
   ]
  },
  {
   "cell_type": "code",
   "execution_count": 106,
   "metadata": {},
   "outputs": [
    {
     "data": {
      "text/plain": [
       "(10000, 10)"
      ]
     },
     "execution_count": 106,
     "metadata": {},
     "output_type": "execute_result"
    }
   ],
   "source": [
    "Y_test_predicted.shape"
   ]
  },
  {
   "cell_type": "code",
   "execution_count": 107,
   "metadata": {
    "collapsed": true
   },
   "outputs": [],
   "source": [
    "y_test_predict=np.array([np.argmax(x) for x in Y_test_predicted])"
   ]
  },
  {
   "cell_type": "code",
   "execution_count": 110,
   "metadata": {
    "collapsed": true
   },
   "outputs": [],
   "source": [
    "save_labels(y_test_predict, \"y_pred.csv\")"
   ]
  }
 ],
 "metadata": {
  "kernelspec": {
   "display_name": "Python 3",
   "language": "python",
   "name": "python3"
  },
  "language_info": {
   "codemirror_mode": {
    "name": "ipython",
    "version": 3
   },
   "file_extension": ".py",
   "mimetype": "text/x-python",
   "name": "python",
   "nbconvert_exporter": "python",
   "pygments_lexer": "ipython3",
   "version": "3.6.1"
  }
 },
 "nbformat": 4,
 "nbformat_minor": 2
}
