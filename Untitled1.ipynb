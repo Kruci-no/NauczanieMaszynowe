{
 "cells": [
  {
   "cell_type": "raw",
   "metadata": {},
   "source": [
    "Zadanie 1a.1"
   ]
  },
  {
   "cell_type": "code",
   "execution_count": 40,
   "metadata": {
    "collapsed": false
   },
   "outputs": [
    {
     "name": "stdout",
     "output_type": "stream",
     "text": [
      "c= [ 0.6093839   0.45593979  0.17276309  0.44081203  0.28043743]\n",
      "d= [ 0.85800528  0.49143746  0.20987917  0.1508893   0.91031706]\n",
      "min c= 0.172763093282\n",
      "max d= 0.6093838983\n",
      "iloczyn skalarany c i d 1.10498065912\n",
      "iloczyn skalarany c1 i d1 2508.09615833\n"
     ]
    }
   ],
   "source": [
    "import numpy as np\n",
    "c = np.random.uniform(size=(5,)) # wektor 5 pseudolosowych liczb\n",
    "d = np.random.uniform(size=(5,)) # wektor 5 pseudolosowych liczb\n",
    "print \"c=\",c\n",
    "print \"d=\",d\n",
    "print \"min c=\",c.min()\n",
    "print \"max d=\",c.max()\n",
    "print \"iloczyn skalarany c i d\", np.inner(c,d) \n",
    "#wektory z dużą liczbą współrzędnnych\n",
    "c1 = np.random.uniform(size=(10000,)) # wektor 10000 pseudolosowych liczb\n",
    "d1 = np.random.uniform(size=(10000,)) # wektor 10000 pseudolosowych liczb\n",
    "print \"iloczyn skalarany c1 i d1\", np.inner(c1,d1) "
   ]
  },
  {
   "cell_type": "raw",
   "metadata": {},
   "source": [
    "Zadanie 1a.2"
   ]
  },
  {
   "cell_type": "code",
   "execution_count": 52,
   "metadata": {
    "collapsed": false
   },
   "outputs": [
    {
     "data": {
      "image/png": "[encoded data removed]",
      "text/plain": [
       "<matplotlib.figure.Figure at 0x86bf940>"
      ]
     },
     "metadata": {},
     "output_type": "display_data"
    }
   ],
   "source": [
    "\n",
    "%matplotlib inline \n",
    "import matplotlib.pylab as plt\n",
    "points = np.random.uniform(size=(100,2))\n",
    "_=plt.scatter( np.random.uniform(size=100),np.random.uniform(size=100))\n"
   ]
  },
  {
   "cell_type": "raw",
   "metadata": {},
   "source": [
    "Zadanie 1b.1"
   ]
  },
  {
   "cell_type": "code",
   "execution_count": 60,
   "metadata": {
    "collapsed": false,
    "scrolled": true
   },
   "outputs": [
    {
     "name": "stdout",
     "output_type": "stream",
     "text": [
      "średnia długość kwiatka wynosi 5.84333333333\n"
     ]
    },
    {
     "data": {
      "image/png": "[encoded data removed]",
      "text/plain": [
       "<matplotlib.figure.Figure at 0x8761f98>"
      ]
     },
     "metadata": {},
     "output_type": "display_data"
    }
   ],
   "source": [
    "\n",
    "from sklearn.datasets import load_iris\n",
    "iris = load_iris()\n",
    "dlugosc_platka=iris.data[:,0]\n",
    "print \"średnia długość kwiatka wynosi\",dlugosc_platka.mean()\n",
    "_=plt.hist(dlugosc_platka)"
   ]
  },
  {
   "cell_type": "raw",
   "metadata": {},
   "source": [
    "Zadanie 1b.2\n",
    "Weźmiemy pod uwagę tylko 3 ceche irysa. Wtedy łatwo można odseparować za pomocą lini poszczególne rodzaje irysów\n",
    "\n"
   ]
  },
  {
   "cell_type": "code",
   "execution_count": 61,
   "metadata": {
    "collapsed": false
   },
   "outputs": [
    {
     "data": {
      "text/plain": [
       "<matplotlib.text.Text at 0xac82cc0>"
      ]
     },
     "execution_count": 61,
     "metadata": {},
     "output_type": "execute_result"
    },
    {
     "data": {
      "image/png": "[encoded data removed]",
      "text/plain": [
       "<matplotlib.figure.Figure at 0x9941588>"
      ]
     },
     "metadata": {},
     "output_type": "display_data"
    }
   ],
   "source": [
    "plt.scatter(iris.data[iris['target']==0, 3], iris.data[iris['target']==0, 3], color='r')\n",
    "plt.scatter(iris.data[iris['target']==1, 3], iris.data[iris['target']==1, 3], color='g')\n",
    "plt.scatter(iris.data[iris['target']==2, 3], iris.data[iris['target']==2, 3], color='b')\n",
    "plt.xlabel(iris['feature_names'][3])\n",
    "plt.ylabel(iris['feature_names'][3])"
   ]
  },
  {
   "cell_type": "raw",
   "metadata": {},
   "source": [
    "zadanie 1c.1"
   ]
  },
  {
   "cell_type": "code",
   "execution_count": 118,
   "metadata": {
    "collapsed": false,
    "scrolled": true
   },
   "outputs": [],
   "source": [
    "from sklearn.svm import LinearSVC\n",
    "X,Y = iris.data[:,0:2], iris.target\n",
    "Y = Y==0\n",
    "pierwszy_model = LinearSVC() \n",
    "pierwszy_model.fit(X, Y)\n",
    "v=pierwszy_model.coef_\n",
    "def predict(z):\n",
    "    if np.inner(pierwszy_model.coef_,z)+pierwszy_model.intercept_  >= 0 :\n",
    "        return 1\n",
    "    else:\n",
    "        return 0\n",
    "\n",
    "for x in np.linspace(-1, 1, 10):\n",
    "    for y in np.linspace(-1, 1, 10):\n",
    "        assert pierwszy_model.predict([[x, y]]) == predict([x, y]), \"Failed on {},{}\".format(x, y)\n"
   ]
  },
  {
   "cell_type": "raw",
   "metadata": {},
   "source": [
    "Zadanie 1c.2\n",
    "\n",
    "Dla parametru C=10 dokładność wynosi 100 % ale jeżeli zmnienimy podział na dane treningowe i testowe to ta dokładność może się zmiejszyć"
   ]
  },
  {
   "cell_type": "code",
   "execution_count": 238,
   "metadata": {
    "collapsed": false
   },
   "outputs": [
    {
     "name": "stdout",
     "output_type": "stream",
     "text": [
      "Dokładność modelu to:  89.4736842105 %\n"
     ]
    },
    {
     "data": {
      "image/png": "[encoded data removed]",
      "text/plain": [
       "<matplotlib.figure.Figure at 0xe702438>"
      ]
     },
     "metadata": {},
     "output_type": "display_data"
    }
   ],
   "source": [
    "import sklearn\n",
    "from sklearn.cross_validation import train_test_split\n",
    "iris = load_iris()\n",
    "X,Y = iris.data, iris.target\n",
    "X_train, X_test, Y_train, Y_test = train_test_split(X,Y, random_state=1)\n",
    "drugi_model = LinearSVC(C=10)\n",
    "drugi_model.fit(X_train, Y_train)\n",
    "Y_test_predicted = drugi_model.predict(X_test)\n",
    "print \"Dokładność modelu to: \",100*sklearn.metrics.accuracy_score(Y_test, Y_test_predicted), \"%\"\n",
    "def dokladnosc(c):\n",
    "    model = LinearSVC(C=c)\n",
    "    model.fit(X_train, Y_train)\n",
    "    Y_test_predicted = model.predict(X_test)\n",
    "    return 100*sklearn.metrics.accuracy_score(Y_test, Y_test_predicted)\n",
    "vec = np.linspace(0.5,1000,200)\n",
    "_=plt.scatter(vec, [dokladnosc(x) for x in vec])\n",
    "_=plt.xlabel(\"parametr C\")\n",
    "_=plt.ylabel(\"dokladnosc\")"
   ]
  },
  {
   "cell_type": "code",
   "execution_count": null,
   "metadata": {
    "collapsed": true
   },
   "outputs": [],
   "source": []
  }
 ],
 "metadata": {
  "kernelspec": {
   "display_name": "Python 2",
   "language": "python",
   "name": "python2"
  },
  "language_info": {
   "codemirror_mode": {
    "name": "ipython",
    "version": 2
   },
   "file_extension": ".py",
   "mimetype": "text/x-python",
   "name": "python",
   "nbconvert_exporter": "python",
   "pygments_lexer": "ipython2",
   "version": "2.7.13"
  }
 },
 "nbformat": 4,
 "nbformat_minor": 2
}
