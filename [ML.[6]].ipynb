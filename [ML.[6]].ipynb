{
 "cells": [
  {
   "cell_type": "code",
   "execution_count": 13,
   "metadata": {
    "collapsed": true
   },
   "outputs": [],
   "source": [
    "import matplotlib.pylab as plt\n",
    "%matplotlib inline\n",
    "import numpy as np\n",
    "from numpy.random import RandomState\n",
    "from itertools import product\n",
    "\n",
    "# dane\n",
    "from sklearn.datasets import fetch_mldata\n",
    "# splity\n",
    "from sklearn.model_selection import train_test_split\n",
    "from sklearn.model_selection import StratifiedKFold\n",
    "# modele\n",
    "from sklearn.neighbors import KNeighborsClassifier\n",
    "from sklearn.ensemble import RandomForestClassifier\n",
    "from sklearn.svm import LinearSVC, SVC\n",
    "# metryki\n",
    "from sklearn.metrics import accuracy_score\n",
    "\n",
    "mnist = fetch_mldata('MNIST original')\n",
    "X = mnist[\"data\"]\n",
    "y = mnist[\"target\"]\n",
    "\n",
    "# zawsze przed uczeniem/splitami proszę zrobić shuffle na danych!"
   ]
  },
  {
   "cell_type": "code",
   "execution_count": 2,
   "metadata": {
    "collapsed": true
   },
   "outputs": [],
   "source": [
    "# sampler pamięta jeden konkretny rozkład prawdopodobieństwa\n",
    "# jedynym argumentem samplera jest obiekt numpy.random.RandomState, który oznaczamy rng\n",
    "# sampler zwraca jedną wartość ze swojego rozkładu\n",
    "# ponieważ rng pamięta swój stan, to możemy np. raz stworzyć go na początku i podawać w pętli\n",
    "\n",
    "# rodzina rozkładów jednostajnych na podanych listach elementów\n",
    "# sampler losuje z rozkładu jednostajnego na liście l\n",
    "def uniform_from_list(l):\n",
    "    def sampler(rng):\n",
    "        return l[rng.randint(0,len(l))]\n",
    "    return sampler\n",
    "\n",
    "# rodzina rozkładów jednostajnych na przedziałach liczb całkowitych\n",
    "# sampler losuje z rozkładu jednostajnego na podzbiorze liczb całkowitych od low (włącznie) do high (wyłącznie)\n",
    "def uniform_int_on_interval(low, high):\n",
    "    def sampler(rng):\n",
    "        return rng.randint(low,high)\n",
    "    return sampler\n",
    "\n",
    "# rodzina rozkładów jednostajnych na przedziałach\n",
    "# sampler losuje z rozkładu jednostajnego na przedziale [low, high]\n",
    "def uniform_on_interval(low, high):\n",
    "    def sampler(rng):\n",
    "        return rng.uniform(low, high)\n",
    "    return sampler\n",
    "\n",
    "# rodzina rozkładów jednostajnych na przedziałach w wykładniku potęgi liczby 10\n",
    "# sampler losuje liczbę alpha z rozkładu jednostajnego na przedziale [low, high], a następnie zwraca 10^alpha\n",
    "def log_uniform_on_interval(low, high):\n",
    "    def sampler(rng):\n",
    "        return 10.**rng.uniform(low, high)\n",
    "    return sampler\n",
    "\n",
    "# rodzina rozkładów gaussa\n",
    "# sampler losuje liczbę z rozkładu N(mean, std^2)\n",
    "def normal(mean, std):\n",
    "    def sampler(rng):\n",
    "        return rng.normal(loc=mean, scale=std)\n",
    "    return sampler\n",
    "\n",
    "# rodzina rozkładów gaussa w wykładniku potęgi liczby 10\n",
    "# sampler losuje liczbę alpha z rozkładu N(mean, std^2), a następnie zwraca 10^alpha\n",
    "def log_normal(mean, std):\n",
    "    def sampler(rng):\n",
    "        return 10**rng.normal(loc=mean, scale=std)\n",
    "    return sampler"
   ]
  },
  {
   "cell_type": "raw",
   "metadata": {},
   "source": [
    "zad 1"
   ]
  },
  {
   "cell_type": "code",
   "execution_count": 3,
   "metadata": {
    "collapsed": true
   },
   "outputs": [],
   "source": [
    "def grid_search(grid):\n",
    "    (keys, values_grid) = zip(*grid.iteritems())\n",
    "    \n",
    "    for values in product(*values_grid):\n",
    "        yield dict(zip(keys, values))\n",
    "\n",
    "def random_grid_search(grid, k=20, random_state=43):\n",
    "    (keys, values_grid) = zip(*grid.iteritems())\n",
    "    rng = RandomState(random_state) # ustalamy jeden wspólny rng\n",
    "    l=1\n",
    "    for i in grid.values() :\n",
    "        l=l*len(i)\n",
    "    print l\n",
    "    list=rng.choice(l,k,replace=False)\n",
    "    P=product(*values_grid)\n",
    "    print list\n",
    "    cross=[x for x in P]\n",
    "    random_cross=[cross[i] for i in list]\n",
    "    print random_cross\n",
    "    for values in random_cross:\n",
    "        yield dict(zip(keys, values))\n",
    "    # wysamplować k zestawów hiperparametrów\n",
    "    # ...\n",
    "    #yield dict_of_hyperparams\n",
    "random_grid_search({'C': [0.1, 1., 10., 100.], 'gamma': [0.0001, 0.0003, 0.001]},k=2)\n",
    "def random_search(grid, k=20, random_state=43):\n",
    "    rng = RandomState(random_state) # ustalamy jeden wspólny rng\n",
    "    (keys, samplers) = zip(*sorted(grid.iteritems())) # sortujemy klucze, kolejność samplowania jest ważna!\n",
    "    print  samplers\n",
    "    random_cross=[tuple([sampler(rng) for sampler in samplers]) for i in range(0,k)]\n",
    "    print random_cross\n",
    "    for values in random_cross:\n",
    "        print values\n",
    "        yield dict(zip(keys, values))\n",
    " "
   ]
  },
  {
   "cell_type": "raw",
   "metadata": {},
   "source": [
    "zad 3"
   ]
  },
  {
   "cell_type": "code",
   "execution_count": 136,
   "metadata": {
    "collapsed": true
   },
   "outputs": [],
   "source": [
    "def double_skf_model_evaluation2(Model, generator_function, generator_function_kwargs, X, y, metric, selection_n_splits, evaluation_n_splits, random_state):\n",
    "    \"\"\"\n",
    "    Model - klasa modelu\n",
    "    generator_function, generator_function_kwargs - chcemy zrobić coś w stylu:\n",
    "        for hyperparams in generator_function(**generator_function_kwargs):\n",
    "            ...\n",
    "        nie podajemy wprost generatora, bo trzeba go użyć wielokrotnie, a generatorów (chyba?) nie da się kopiować\n",
    "    X,y - dane i etykiety\n",
    "    metric - funkcja o sygnaturze metric(y_true, y_pred), która ocenia skuteczność nauczonego modelu\n",
    "    selection/evaluation_n_splits - liczba splitów/foldów w odpowiednim cross validation\n",
    "    random_state - używany wszędzie tam, gdzie trzeba\n",
    "    \"\"\"\n",
    "    hyparlist = [ hyperparams  for hyperparams in generator_function(generator_function_kwargs)]\n",
    "  \n",
    "    \n",
    "    score=0   \n",
    "    # 1. Dzielimy evaluation_n_splits razy (X,y) na (X_train,y_train), (X_test,y_test).\n",
    "    skf_1 = StratifiedKFold(n_splits=evaluation_n_splits, random_state=random_state, shuffle=True)\n",
    "    # 2. Dla każdego takiego podziału:\n",
    "    for index_train1 , index_test in skf_1.split(X,y):\n",
    "        skf_2=StratifiedKFold(n_splits=selection_n_splits, random_state=random_state, shuffle=True)\n",
    "        X_1=X[index_train1]\n",
    "        y_1=y[index_train1]\n",
    "        for index_train2 , index_valid in skf_1.split(X_1,y_1):\n",
    "            Model_tab=[]\n",
    "            for hipar in hyparlist:\n",
    "                Model_tab=Model_tab+[Model(**hipar)]\n",
    "            #model_score_list=[0. for model in Model_tab]\n",
    "            for model in Model_tab:\n",
    "                model.fit(X_1[index_train2],y_1[index_train2])\n",
    "                score = metric(y[index_valid], Model_tab[0].predict(X[index_valid]))\n",
    "            model_score_list=np.array([metric(y_1[index_valid], model.predict(X_1[index_valid])) for model in Model_tab])\n",
    "        best_hypar = hyparlist[np.argmax(model_score_list)]\n",
    "        model = Model(**best_hypar)\n",
    "        model.fit(X_1, y_1)\n",
    "        score =score+ metric(y[index_test], model.predict(X[index_test]))\n",
    "        # 1. Dzielimy selection_n_splits razy (X_train,y_train) na (X_train2,y_train2), (X_valid,y_valid).\n",
    "        # 2. Dla każdego zestawu hiperparametrów:\n",
    "            # 1. Dla każdego podziału (X_train2,y_train2), (X_valid,y_valid):\n",
    "                # 1. Tworzymy model = Model(zestaw_hiperparametrów).\n",
    "                # 2. Uczymy model na (X_train2,y_train2), testujemy na (X_valid,y_valid) i otrzymujemy score.\n",
    "                # 3. (zestaw_hiperparametrów, score) zapisujemy w tabelce.\n",
    "        # 3. Dla każdego zestawu hiperparametrów mamy trzy różne score z trzech podziałów - uśredniamy je.\n",
    "        # 4. Wybieramy średnio najlepszy zestaw hiperparametrów.\n",
    "        # 5. Tworzymy model = Model(średnio_najlepszy_zestaw_hiperparametrów) i uczymy na całym (X_train,y_train).\n",
    "        # 6. Testujemy model na (X_test,y_test) i otrzymujemy evaluation_score, zapisujemy go.\n",
    "    # 3. Uśredniamy trzy evaluation_score, zwracamy średnią jako ostateczny score Modelu.\n",
    "    return score/evaluation_n_splits"
   ]
  },
  {
   "cell_type": "markdown",
   "metadata": {},
   "source": [
    "zad 4"
   ]
  },
  {
   "cell_type": "code",
   "execution_count": 138,
   "metadata": {
    "collapsed": false
   },
   "outputs": [
    {
     "name": "stdout",
     "output_type": "stream",
     "text": [
      "{'n_neighbors': 4, 'leaf_size': 20}\n",
      "Wynik:  0.908326661329\n"
     ]
    }
   ],
   "source": [
    "\n",
    "\n",
    "\n",
    "idx = np.random.RandomState(743).permutation(len(y))\n",
    "_X = X[idx[:5000]]\n",
    "_y = y[idx[:5000]]\n",
    "\n",
    "x=double_skf_model_evaluation2(\n",
    "    Model=KNeighborsClassifier,\n",
    "    generator_function=grid_search,\n",
    "    generator_function_kwargs={'n_neighbors':[4,11], 'leaf_size' : [20,30,40]},\n",
    "    X=_X, y=_y,\n",
    "    metric=accuracy_score,\n",
    "    selection_n_splits=2, \n",
    "    evaluation_n_splits=2,\n",
    "    random_state=43)\n",
    "print \"Wynik: \",x\n"
   ]
  },
  {
   "cell_type": "raw",
   "metadata": {},
   "source": [
    "zad 5"
   ]
  },
  {
   "cell_type": "markdown",
   "metadata": {},
   "source": [
    "Problemem jest to, że jeśli przeprowadzimy augmentacje na całych danych a potem wszysko podzielimy na zbiór uczący i testujący to może się okazać, że w zbiorze testującym będą przykłady takie same jak w uczącym tylko z dodanym szumem. Co powoduje, że testowanie na nich zaburza wynik trafności predykcji modelu. W modelu K=1 sąsiadów etykieta dla obrazka testowanego jest brana z najbliższego z obrazków w zbiorze testowym a jeśli jest tam ten sam przykład ale z innym szumym do prawie na 100 % jego etykieta zostanie wybrana"
   ]
  },
  {
   "cell_type": "code",
   "execution_count": 5,
   "metadata": {
    "collapsed": false
   },
   "outputs": [
    {
     "name": "stdout",
     "output_type": "stream",
     "text": [
      "fitting KNN (with augmentation)\n",
      "train accuracy: 1.0\n",
      "test accuracy: 0.913131313131\n"
     ]
    }
   ],
   "source": [
    "#Według mnie tak powina być przeprowadzona prawidłowa augmentacja danych\n",
    "X = mnist[\"data\"]\n",
    "y = mnist[\"target\"]\n",
    "idx = np.random.permutation(len(y))\n",
    "X = X[idx[:3000]]\n",
    "y = y[idx[:3000]]\n",
    "X_train, X_test, y_train, y_test = train_test_split(X, y, test_size=0.33, random_state=43)\n",
    "for i in xrange(7):\n",
    "    np.append(X_train,X.copy() + np.random.normal(scale=3, size=X.shape))\n",
    "    np.append(y_train,y.copy())\n",
    "model = KNeighborsClassifier(n_neighbors=1)\n",
    "print \"fitting KNN (with augmentation)\"\n",
    "model.fit(X_train, y_train)\n",
    "print \"train accuracy:\", accuracy_score(y_train, model.predict(X_train))\n",
    "print \"test accuracy:\", accuracy_score(y_test, model.predict(X_test))"
   ]
  }
 ],
 "metadata": {
  "kernelspec": {
   "display_name": "Python 2",
   "language": "python",
   "name": "python2"
  },
  "language_info": {
   "codemirror_mode": {
    "name": "ipython",
    "version": 2
   },
   "file_extension": ".py",
   "mimetype": "text/x-python",
   "name": "python",
   "nbconvert_exporter": "python",
   "pygments_lexer": "ipython2",
   "version": "2.7.13"
  }
 },
 "nbformat": 4,
 "nbformat_minor": 2
}
