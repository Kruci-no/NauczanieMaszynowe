{
 "cells": [
  {
   "cell_type": "code",
   "execution_count": 1,
   "metadata": {},
   "outputs": [
    {
     "name": "stderr",
     "output_type": "stream",
     "text": [
      "Using TensorFlow backend.\n"
     ]
    }
   ],
   "source": [
    "import os\n",
    "from keras.models import Model # basic class for specifying and training a neural network\n",
    "from keras.layers import Input, Convolution2D, MaxPooling2D, Dense, Dropout, Activation, Flatten\n",
    "from keras.utils import np_utils # utilities for one-hot encoding of ground truth values\n",
    "import numpy as np"
   ]
  },
  {
   "cell_type": "code",
   "execution_count": 2,
   "metadata": {
    "collapsed": true
   },
   "outputs": [],
   "source": [
    "import os\n",
    "import pickle\n",
    "\n",
    "import numpy as np\n",
    "import pandas as pd\n",
    "from sklearn.linear_model import LogisticRegression\n",
    "from sklearn.preprocessing import StandardScaler\n",
    "from sklearn.pipeline import Pipeline\n",
    "from sklearn.metrics import accuracy_score"
   ]
  },
  {
   "cell_type": "code",
   "execution_count": 3,
   "metadata": {
    "collapsed": true
   },
   "outputs": [],
   "source": [
    "from keras.models import load_model"
   ]
  },
  {
   "cell_type": "code",
   "execution_count": 4,
   "metadata": {
    "collapsed": true
   },
   "outputs": [],
   "source": [
    "from keras.layers import Input, Dense, Conv2D, MaxPooling2D, UpSampling2D"
   ]
  },
  {
   "cell_type": "code",
   "execution_count": 5,
   "metadata": {
    "collapsed": true
   },
   "outputs": [],
   "source": [
    "def save_labels(arr, filename):\n",
    "    pd_array = pd.DataFrame(arr)\n",
    "    pd_array.index.names = [\"Id\"]\n",
    "    pd_array.columns = [\"Prediction\"]\n",
    "    pd_array.to_csv(filename)\n",
    "\n",
    "def load_labels(filename):\n",
    "    return pd.read_csv(filename, index_col=0).values.ravel()"
   ]
  },
  {
   "cell_type": "markdown",
   "metadata": {},
   "source": [
    "W drugiej części projektu będe używał autocoderów do uczenia konwolucyjnej sieci neuronowej. Polega to na tym, że możemy wykorzystać dane ze zbioru uczącego bez etykiet. By to zrobić na początku uczymy sieć która ma zadanie aproksymować idetyczność to znaczy dla każdego obrazka z Cifar10 ma zwrócić jak najbardziej podobny obrazek. Po tym wykorzystujemy część nauczonych przez tę sieć warst do stworzenia nowej sieci, której zadaniem będzie już klasyfikacja obrazków. Dzięki temu pierwsze warstwy sieci neuronowej nie będą zainicjalizowane losowo. "
   ]
  },
  {
   "cell_type": "markdown",
   "metadata": {},
   "source": [
    "Będe wykorzystywał podobnne sieci jak w pierwszym projekcie. Nie będe zmieniał hiperparametrów autoencodera ponieważ jego uczenie zajmuje dość dużo czasu"
   ]
  },
  {
   "cell_type": "markdown",
   "metadata": {},
   "source": [
    "matemaczninie autoencoder można przedstawić ze złożniem funkcji $d:X\\rightarrow Y$ dekodującej oraz funkcji $e:Y\\rightarrow X$. \n",
    "\n",
    "Zwykle przestrzeń Y powina być mniej wymiarowa niż X.\n",
    "\n",
    "Będziemy uczyć funkcje d oraz e za pomocą jednego z algorytmów gradentowych tak aby $e \\circ d$ aproksymowało identyczność"
   ]
  },
  {
   "cell_type": "markdown",
   "metadata": {},
   "source": [
    "Mój autoencoder tranformuje wyjściowe obrazki w następujący sposób gdzie w nawiasach podane są wymiary macierzy\n",
    "\n",
    "(wejście)=(3,32,32)->(32,32,32)->(16,16,32)->(16,16,1) tą macierz będzie zwracała funkcja kodująca\n",
    "\n",
    "->(16,16,1)->(1,32,32)->(32,32,32)->(3,32,32)=(wyjście)\n"
   ]
  },
  {
   "cell_type": "markdown",
   "metadata": {},
   "source": [
    "Potem przetranformuje moje dane $X_{train\\_small}$ za pomocą nauczonej funkcji d i będe uczyć sieć, której wejście będą dane ze zbioru $d(X_{train\\_small})$"
   ]
  },
  {
   "cell_type": "markdown",
   "metadata": {},
   "source": [
    "Potem porównam je z sieciami mające na wejście $X_{train\\_small}$"
   ]
  },
  {
   "cell_type": "markdown",
   "metadata": {},
   "source": [
    "Modele wykorzystjące encoder zaczeły się overfitować po 40 epokach"
   ]
  },
  {
   "cell_type": "markdown",
   "metadata": {},
   "source": [
    "Modele działające na obrazkach zaczeły się ovefitować dużo szybciej."
   ]
  },
  {
   "cell_type": "markdown",
   "metadata": {},
   "source": [
    "Nie ma jednak dość dużej różnicy w accussy modelów działających na zwykłych danych a danych przetworzonych przez encoder\n"
   ]
  },
  {
   "cell_type": "markdown",
   "metadata": {},
   "source": [
    "Być może powiniem dłużej uczyć autocoder albo użyć innej architektury ale jest bardzo czasochłone (szczególnie wybranie odpowiedniej architektury autocodera)"
   ]
  },
  {
   "cell_type": "code",
   "execution_count": 9,
   "metadata": {
    "collapsed": true
   },
   "outputs": [],
   "source": [
    "X_train = np.load(\"X_train.npy\")\n",
    "X_test = np.load(\"X_test.npy\")\n",
    "X_train_small=np.load(\"X_train_small.npy\")\n",
    "y_train_small = load_labels(\"y_train_small.csv\")\n",
    "X_train = X_train.astype('float32') \n",
    "X_test = X_test.astype('float32')\n",
    "X_train_small = X_train_small.astype('float32')\n",
    "X_train /= np.max(X_train) \n",
    "X_train_small/= np.max(X_train_small) \n",
    "X_test /= np.max(X_test) \n",
    "X_train=X_train.reshape(-1,32,32,3)\n",
    "X_train_small=X_train_small.reshape(-1,32,32,3)\n",
    "Y_train_small = np_utils.to_categorical(y_train_small, 10) "
   ]
  },
  {
   "cell_type": "code",
   "execution_count": 37,
   "metadata": {
    "collapsed": true
   },
   "outputs": [],
   "source": [
    "inp = Input(shape=(32, 32, 3))\n",
    "\n",
    "x = Convolution2D(32, (3, 3), padding='same', activation='relu')(inp)\n",
    "x = Convolution2D(4, (3, 3), padding='same', activation='relu')(x)\n",
    "encoded = MaxPooling2D((2, 2), padding='same')(x)\n",
    "\n",
    "\n",
    "x = Convolution2D(4, (3, 3), activation='relu', padding='same', data_format=\"channels_last\")(encoded)\n",
    "x=UpSampling2D((2, 2), data_format=\"channels_last\")(x)\n",
    "x = Convolution2D(32, (3, 3), activation='relu', padding='same', data_format=\"channels_last\")(x)\n",
    "decoded = Convolution2D(3, (3, 3), activation='sigmoid', padding='same', data_format=\"channels_last\")(x)\n",
    "\n",
    "autoencoder = Model(inp, decoded)\n",
    "encoder = Model(inp, encoded)"
   ]
  },
  {
   "cell_type": "code",
   "execution_count": 40,
   "metadata": {
    "collapsed": true
   },
   "outputs": [],
   "source": [
    "def model_generator(conv_layer1_size,conv_layer2_size,layer3_size,kernel_size):\n",
    "    drop_prob_1=0.23\n",
    "    drop_prob_2=0.5\n",
    "    pool_size=2\n",
    "    inp = Input(shape=(16, 16,4))\n",
    "    conv_1 = Convolution2D(conv_layer1_size, (kernel_size, kernel_size), padding='same', activation='relu')(inp)\n",
    "    pool_1 = MaxPooling2D(pool_size=(pool_size, pool_size))(conv_1)\n",
    "    drop_1 = Dropout(drop_prob_1)(pool_1)\n",
    "    conv_2 = Convolution2D(conv_layer2_size, (kernel_size, kernel_size), padding='same', activation='relu')(drop_1)\n",
    "    pool_2 = MaxPooling2D(pool_size=(pool_size, pool_size))(conv_2)\n",
    "    drop_2 = Dropout(drop_prob_1)(pool_2)\n",
    "    flat = Flatten()(drop_2)\n",
    "    hidden = Dense(layer3_size, activation='relu')(flat)\n",
    "    drop_3 = Dropout(drop_prob_2)(hidden)\n",
    "    out = Dense(10, activation='softmax')(drop_3)\n",
    "    model = Model(inputs=inp, outputs=out)\n",
    "    model.compile(loss='categorical_crossentropy',\n",
    "              optimizer='adam',\n",
    "              metrics=['accuracy']) \n",
    "    return model"
   ]
  },
  {
   "cell_type": "code",
   "execution_count": 38,
   "metadata": {},
   "outputs": [
    {
     "name": "stdout",
     "output_type": "stream",
     "text": [
      "Train on 47500 samples, validate on 2500 samples\n",
      "Epoch 1/10\n",
      "47500/47500 [==============================] - 268s - loss: 0.6023 - val_loss: 0.5880\n",
      "Epoch 2/10\n",
      "47500/47500 [==============================] - 244s - loss: 0.5815 - val_loss: 0.5770\n",
      "Epoch 3/10\n",
      "47500/47500 [==============================] - 252s - loss: 0.5757 - val_loss: 0.5782\n",
      "Epoch 4/10\n",
      "47500/47500 [==============================] - 245s - loss: 0.5738 - val_loss: 0.5767\n",
      "Epoch 5/10\n",
      "47500/47500 [==============================] - 250s - loss: 0.5724 - val_loss: 0.5718\n",
      "Epoch 6/10\n",
      "47500/47500 [==============================] - 256s - loss: 0.5715 - val_loss: 0.5712\n",
      "Epoch 7/10\n",
      "47500/47500 [==============================] - 262s - loss: 0.5706 - val_loss: 0.5701\n",
      "Epoch 8/10\n",
      "47500/47500 [==============================] - 239s - loss: 0.5700 - val_loss: 0.5693\n",
      "Epoch 9/10\n",
      "47500/47500 [==============================] - 239s - loss: 0.5693 - val_loss: 0.5688\n",
      "Epoch 10/10\n",
      "47500/47500 [==============================] - 254s - loss: 0.5689 - val_loss: 0.5687\n"
     ]
    },
    {
     "data": {
      "text/plain": [
       "<keras.callbacks.History at 0x1a4c0421a90>"
      ]
     },
     "execution_count": 38,
     "metadata": {},
     "output_type": "execute_result"
    }
   ],
   "source": [
    "autoencoder.compile(optimizer='adadelta', loss='binary_crossentropy')\n",
    "autoencoder.fit(X_train,X_train,epochs=10,validation_split=0.05)"
   ]
  },
  {
   "cell_type": "code",
   "execution_count": null,
   "metadata": {
    "collapsed": true
   },
   "outputs": [],
   "source": []
  },
  {
   "cell_type": "code",
   "execution_count": 43,
   "metadata": {},
   "outputs": [],
   "source": [
    "X_small_tran=encoder.predict(X_train_small)"
   ]
  },
  {
   "cell_type": "code",
   "execution_count": 55,
   "metadata": {
    "collapsed": true
   },
   "outputs": [],
   "source": [
    "#Generujemy 3 lowych modeli o różnych hiperparametrach\n",
    "Rand_model_table=[model_generator(\n",
    "    np.random.randint(20,71), #liczba filtrów w pierszej warstwie konwolucji \n",
    "    np.random.randint(20,71), #liczba filtrów w drugiej warstwie konwolucji\n",
    "    np.random.randint(100,500), #liczba filtrów w trzeciej warstwie (zwykła warstwa)\n",
    "    np.random.randint(2,4), #rozmiar filtrów dla obu warst konwolucji \n",
    ")   for i in range(3)]"
   ]
  },
  {
   "cell_type": "code",
   "execution_count": 56,
   "metadata": {
    "collapsed": true
   },
   "outputs": [],
   "source": [
    "#trenujemy modele w tablicy i zwracamy ich wynik dla zbioru walidującego\n",
    "def models_scory(Model_table,X_train,y_train,X_ewal,y_ewal,nazwa_pliku,epochs=10):\n",
    "    i=0\n",
    "    for model in Model_table:\n",
    "        i=i+1       \n",
    "        model.fit(X_train,y_train,batch_size=32, epochs=epochs)\n",
    "        model.save(nazwa_pliku+str(i)+'.h5') #zapisuje model\n",
    "    return np.array([(model,model.evaluate(X_ewal,y_ewal, verbose=1)[1]) for model in Model_table]) \n",
    "#zwracamy pary (model,accuracy na zbiorze validującym)  "
   ]
  },
  {
   "cell_type": "code",
   "execution_count": 59,
   "metadata": {},
   "outputs": [
    {
     "name": "stdout",
     "output_type": "stream",
     "text": [
      "Epoch 1/5\n",
      "4500/4500 [==============================] - 5s - loss: 2.2132 - acc: 0.1700     \n",
      "Epoch 2/5\n",
      "4500/4500 [==============================] - 4s - loss: 2.0039 - acc: 0.2656     \n",
      "Epoch 3/5\n",
      "4500/4500 [==============================] - 4s - loss: 1.8841 - acc: 0.3111     \n",
      "Epoch 4/5\n",
      "4500/4500 [==============================] - 4s - loss: 1.8159 - acc: 0.3464     \n",
      "Epoch 5/5\n",
      "4500/4500 [==============================] - 4s - loss: 1.7492 - acc: 0.3691     - ETA: 0s - loss: 1.7456 - acc\n",
      "Epoch 1/5\n",
      "4500/4500 [==============================] - 4s - loss: 2.2286 - acc: 0.1593     \n",
      "Epoch 2/5\n",
      "4500/4500 [==============================] - 4s - loss: 2.0473 - acc: 0.2489     \n",
      "Epoch 3/5\n",
      "4500/4500 [==============================] - 3s - loss: 1.9428 - acc: 0.2849     \n",
      "Epoch 4/5\n",
      "4500/4500 [==============================] - 4s - loss: 1.8561 - acc: 0.3309     \n",
      "Epoch 5/5\n",
      "4500/4500 [==============================] - 3s - loss: 1.8299 - acc: 0.3371     \n",
      "Epoch 1/5\n",
      "4500/4500 [==============================] - 3s - loss: 2.2338 - acc: 0.1698     \n",
      "Epoch 2/5\n",
      "4500/4500 [==============================] - 2s - loss: 2.0013 - acc: 0.2858     \n",
      "Epoch 3/5\n",
      "4500/4500 [==============================] - 2s - loss: 1.8869 - acc: 0.3238     \n",
      "Epoch 4/5\n",
      "4500/4500 [==============================] - 2s - loss: 1.8294 - acc: 0.3449     \n",
      "Epoch 5/5\n",
      "4500/4500 [==============================] - 2s - loss: 1.7851 - acc: 0.3560     \n",
      "480/500 [===========================>..] - ETA: 0s"
     ]
    }
   ],
   "source": [
    "tab=models_scory(Rand_model_table,X_small_tran[0:4500],Y_train_small[0:4500],X_small_tran[4500:5000],Y_train_small[4500:5000],\"p2.1.\",epochs=5)"
   ]
  },
  {
   "cell_type": "code",
   "execution_count": 60,
   "metadata": {},
   "outputs": [
    {
     "data": {
      "text/plain": [
       "array([[<keras.engine.training.Model object at 0x000001A4C6420BA8>,\n",
       "        0.36799999976158143],\n",
       "       [<keras.engine.training.Model object at 0x000001A4C60EF4A8>,\n",
       "        0.36199999976158143],\n",
       "       [<keras.engine.training.Model object at 0x000001A4C63F05F8>,\n",
       "        0.34599999976158141]], dtype=object)"
      ]
     },
     "execution_count": 60,
     "metadata": {},
     "output_type": "execute_result"
    }
   ],
   "source": [
    "tab"
   ]
  },
  {
   "cell_type": "code",
   "execution_count": 61,
   "metadata": {},
   "outputs": [
    {
     "name": "stdout",
     "output_type": "stream",
     "text": [
      "Epoch 1/5\n",
      "4500/4500 [==============================] - 4s - loss: 1.7028 - acc: 0.3804     \n",
      "Epoch 2/5\n",
      "4500/4500 [==============================] - 4s - loss: 1.6679 - acc: 0.4007     \n",
      "Epoch 3/5\n",
      "4500/4500 [==============================] - 4s - loss: 1.6375 - acc: 0.4144     \n",
      "Epoch 4/5\n",
      "4500/4500 [==============================] - 4s - loss: 1.5980 - acc: 0.4320     \n",
      "Epoch 5/5\n",
      "4500/4500 [==============================] - 4s - loss: 1.5604 - acc: 0.4276     - ETA: 2s - loss: 1.5742 - ac - ETA: 1s - l\n",
      "Epoch 1/5\n",
      "4500/4500 [==============================] - 4s - loss: 1.7644 - acc: 0.3589     \n",
      "Epoch 2/5\n",
      "4500/4500 [==============================] - 3s - loss: 1.7312 - acc: 0.3753     \n",
      "Epoch 3/5\n",
      "4500/4500 [==============================] - 4s - loss: 1.7191 - acc: 0.3782     \n",
      "Epoch 4/5\n",
      "4500/4500 [==============================] - 3s - loss: 1.6788 - acc: 0.3969     \n",
      "Epoch 5/5\n",
      "4500/4500 [==============================] - 3s - loss: 1.6495 - acc: 0.4138     \n",
      "Epoch 1/5\n",
      "4500/4500 [==============================] - 2s - loss: 1.7469 - acc: 0.3642     \n",
      "Epoch 2/5\n",
      "4500/4500 [==============================] - 2s - loss: 1.7137 - acc: 0.3844     \n",
      "Epoch 3/5\n",
      "4500/4500 [==============================] - 2s - loss: 1.6923 - acc: 0.3907     \n",
      "Epoch 4/5\n",
      "4500/4500 [==============================] - 2s - loss: 1.6752 - acc: 0.3993     \n",
      "Epoch 5/5\n",
      "4500/4500 [==============================] - 2s - loss: 1.6426 - acc: 0.4007     - ETA: 0s - loss: 1.6404 - acc: 0.\n",
      "500/500 [==============================] - 0s     \n",
      "384/500 [======================>.......] - ETA: 0s"
     ]
    }
   ],
   "source": [
    "tab=models_scory(Rand_model_table,X_small_tran[0:4500],Y_train_small[0:4500],X_small_tran[4500:5000],Y_train_small[4500:5000],\"p2.1.\",epochs=5)"
   ]
  },
  {
   "cell_type": "code",
   "execution_count": 62,
   "metadata": {},
   "outputs": [
    {
     "data": {
      "text/plain": [
       "array([[<keras.engine.training.Model object at 0x000001A4C6420BA8>,\n",
       "        0.41000000047683716],\n",
       "       [<keras.engine.training.Model object at 0x000001A4C60EF4A8>,\n",
       "        0.43199999976158143],\n",
       "       [<keras.engine.training.Model object at 0x000001A4C63F05F8>,\n",
       "        0.39000000000000001]], dtype=object)"
      ]
     },
     "execution_count": 62,
     "metadata": {},
     "output_type": "execute_result"
    }
   ],
   "source": [
    "tab"
   ]
  },
  {
   "cell_type": "code",
   "execution_count": 63,
   "metadata": {},
   "outputs": [
    {
     "name": "stdout",
     "output_type": "stream",
     "text": [
      "Epoch 1/5\n",
      "4500/4500 [==============================] - 4s - loss: 1.5508 - acc: 0.4482     \n",
      "Epoch 2/5\n",
      "4500/4500 [==============================] - 4s - loss: 1.5145 - acc: 0.4598     \n",
      "Epoch 3/5\n",
      "4500/4500 [==============================] - 4s - loss: 1.4911 - acc: 0.4578     \n",
      "Epoch 4/5\n",
      "4500/4500 [==============================] - 4s - loss: 1.4680 - acc: 0.4798     \n",
      "Epoch 5/5\n",
      "4500/4500 [==============================] - 4s - loss: 1.4379 - acc: 0.4889     \n",
      "Epoch 1/5\n",
      "4500/4500 [==============================] - 3s - loss: 1.6455 - acc: 0.4084     \n",
      "Epoch 2/5\n",
      "4500/4500 [==============================] - 3s - loss: 1.6149 - acc: 0.4213     \n",
      "Epoch 3/5\n",
      "4500/4500 [==============================] - 4s - loss: 1.5931 - acc: 0.4280     \n",
      "Epoch 4/5\n",
      "4500/4500 [==============================] - 4s - loss: 1.5745 - acc: 0.4293     - ETA: 0s - loss: 1.5822 - acc:\n",
      "Epoch 5/5\n",
      "4500/4500 [==============================] - 4s - loss: 1.5494 - acc: 0.4471     \n",
      "Epoch 1/5\n",
      "4500/4500 [==============================] - 2s - loss: 1.6252 - acc: 0.4093     \n",
      "Epoch 2/5\n",
      "4500/4500 [==============================] - 2s - loss: 1.6174 - acc: 0.4213     \n",
      "Epoch 3/5\n",
      "4500/4500 [==============================] - 2s - loss: 1.5851 - acc: 0.4349     \n",
      "Epoch 4/5\n",
      "4500/4500 [==============================] - 2s - loss: 1.5888 - acc: 0.4302     \n",
      "Epoch 5/5\n",
      "4500/4500 [==============================] - 2s - loss: 1.5524 - acc: 0.4413     \n",
      "500/500 [==============================] - 0s     \n",
      "500/500 [==============================] - 0s     \n",
      "384/500 [======================>.......] - ETA: 0s"
     ]
    }
   ],
   "source": [
    "tab=models_scory(Rand_model_table,X_small_tran[0:4500],Y_train_small[0:4500],X_small_tran[4500:5000],Y_train_small[4500:5000],\"p2.1.\",epochs=5)"
   ]
  },
  {
   "cell_type": "code",
   "execution_count": 64,
   "metadata": {},
   "outputs": [
    {
     "data": {
      "text/plain": [
       "array([[<keras.engine.training.Model object at 0x000001A4C6420BA8>,\n",
       "        0.44000000047683718],\n",
       "       [<keras.engine.training.Model object at 0x000001A4C60EF4A8>,\n",
       "        0.42199999952316286],\n",
       "       [<keras.engine.training.Model object at 0x000001A4C63F05F8>,\n",
       "        0.41199999976158141]], dtype=object)"
      ]
     },
     "execution_count": 64,
     "metadata": {},
     "output_type": "execute_result"
    }
   ],
   "source": [
    "tab"
   ]
  },
  {
   "cell_type": "code",
   "execution_count": 65,
   "metadata": {},
   "outputs": [
    {
     "name": "stdout",
     "output_type": "stream",
     "text": [
      "Epoch 1/5\n",
      "4500/4500 [==============================] - 4s - loss: 1.4298 - acc: 0.4844     \n",
      "Epoch 2/5\n",
      "4500/4500 [==============================] - 4s - loss: 1.3586 - acc: 0.5149     \n",
      "Epoch 3/5\n",
      "4500/4500 [==============================] - 4s - loss: 1.3496 - acc: 0.5093     \n",
      "Epoch 4/5\n",
      "4500/4500 [==============================] - 4s - loss: 1.3453 - acc: 0.5202     \n",
      "Epoch 5/5\n",
      "4500/4500 [==============================] - 4s - loss: 1.3113 - acc: 0.5256     \n",
      "Epoch 1/5\n",
      "4500/4500 [==============================] - 3s - loss: 1.5328 - acc: 0.4491     - ET\n",
      "Epoch 2/5\n",
      "4500/4500 [==============================] - 4s - loss: 1.5066 - acc: 0.4536     \n",
      "Epoch 3/5\n",
      "4500/4500 [==============================] - 3s - loss: 1.4978 - acc: 0.4518     \n",
      "Epoch 4/5\n",
      "4500/4500 [==============================] - 4s - loss: 1.4761 - acc: 0.4671     \n",
      "Epoch 5/5\n",
      "4500/4500 [==============================] - 3s - loss: 1.4362 - acc: 0.4813     \n",
      "Epoch 1/5\n",
      "4500/4500 [==============================] - 3s - loss: 1.5455 - acc: 0.4456     \n",
      "Epoch 2/5\n",
      "4500/4500 [==============================] - 2s - loss: 1.5292 - acc: 0.4509     \n",
      "Epoch 3/5\n",
      "4500/4500 [==============================] - 2s - loss: 1.5339 - acc: 0.4473     \n",
      "Epoch 4/5\n",
      "4500/4500 [==============================] - 2s - loss: 1.4914 - acc: 0.4633     \n",
      "Epoch 5/5\n",
      "4500/4500 [==============================] - 2s - loss: 1.4921 - acc: 0.4616     \n",
      "416/500 [=======================>......] - ETA: 0s"
     ]
    }
   ],
   "source": [
    "tab=models_scory(Rand_model_table,X_small_tran[0:4500],Y_train_small[0:4500],X_small_tran[4500:5000],Y_train_small[4500:5000],\"p2.1.\",epochs=5)"
   ]
  },
  {
   "cell_type": "code",
   "execution_count": 71,
   "metadata": {},
   "outputs": [
    {
     "name": "stdout",
     "output_type": "stream",
     "text": [
      "Epoch 1/5\n",
      "4500/4500 [==============================] - 4s - loss: 1.1777 - acc: 0.5718     \n",
      "Epoch 2/5\n",
      "4500/4500 [==============================] - 4s - loss: 1.1471 - acc: 0.5864     \n",
      "Epoch 3/5\n",
      "4500/4500 [==============================] - 4s - loss: 1.1184 - acc: 0.6056     \n",
      "Epoch 4/5\n",
      "4500/4500 [==============================] - 4s - loss: 1.0877 - acc: 0.6064     \n",
      "Epoch 5/5\n",
      "4500/4500 [==============================] - 4s - loss: 1.0887 - acc: 0.6180     \n",
      "Epoch 1/5\n",
      "4500/4500 [==============================] - 3s - loss: 1.3591 - acc: 0.5076     \n",
      "Epoch 2/5\n",
      "4500/4500 [==============================] - 3s - loss: 1.3272 - acc: 0.5336     \n",
      "Epoch 3/5\n",
      "4500/4500 [==============================] - 3s - loss: 1.3114 - acc: 0.5320     \n",
      "Epoch 4/5\n",
      "4500/4500 [==============================] - 3s - loss: 1.3084 - acc: 0.5438     \n",
      "Epoch 5/5\n",
      "4500/4500 [==============================] - 3s - loss: 1.3133 - acc: 0.5347     \n",
      "Epoch 1/5\n",
      "4500/4500 [==============================] - 2s - loss: 1.4028 - acc: 0.4987     \n",
      "Epoch 2/5\n",
      "4500/4500 [==============================] - 2s - loss: 1.3716 - acc: 0.5127     \n",
      "Epoch 3/5\n",
      "4500/4500 [==============================] - 2s - loss: 1.3643 - acc: 0.5098     \n",
      "Epoch 4/5\n",
      "4500/4500 [==============================] - 2s - loss: 1.3541 - acc: 0.5107     \n",
      "Epoch 5/5\n",
      "4500/4500 [==============================] - 2s - loss: 1.3389 - acc: 0.5253     \n",
      "416/500 [=======================>......] - ETA: 0s"
     ]
    }
   ],
   "source": [
    "tab=models_scory(Rand_model_table,X_small_tran[0:4500],Y_train_small[0:4500],X_small_tran[4500:5000],Y_train_small[4500:5000],\"p2.1.\",epochs=5)"
   ]
  },
  {
   "cell_type": "code",
   "execution_count": 74,
   "metadata": {},
   "outputs": [
    {
     "name": "stdout",
     "output_type": "stream",
     "text": [
      "Epoch 1/5\n",
      "4500/4500 [==============================] - 4s - loss: 1.0576 - acc: 0.6253     \n",
      "Epoch 2/5\n",
      "4500/4500 [==============================] - 4s - loss: 1.0534 - acc: 0.6182     - ETA: 0s - loss: 1.0497 - ac\n",
      "Epoch 3/5\n",
      "4500/4500 [==============================] - 4s - loss: 1.0239 - acc: 0.6378     \n",
      "Epoch 4/5\n",
      "4500/4500 [==============================] - 4s - loss: 1.0126 - acc: 0.6320     \n",
      "Epoch 5/5\n",
      "4500/4500 [==============================] - 4s - loss: 0.9860 - acc: 0.6540     \n",
      "Epoch 1/5\n",
      "4500/4500 [==============================] - 3s - loss: 1.2859 - acc: 0.5407     \n",
      "Epoch 2/5\n",
      "4500/4500 [==============================] - 3s - loss: 1.2862 - acc: 0.5400     \n",
      "Epoch 3/5\n",
      "4500/4500 [==============================] - 3s - loss: 1.2464 - acc: 0.5516     \n",
      "Epoch 4/5\n",
      "4500/4500 [==============================] - 3s - loss: 1.2396 - acc: 0.5467     \n",
      "Epoch 5/5\n",
      "4500/4500 [==============================] - 3s - loss: 1.2131 - acc: 0.5724     \n",
      "Epoch 1/5\n",
      "4500/4500 [==============================] - 2s - loss: 1.3217 - acc: 0.5182     \n",
      "Epoch 2/5\n",
      "4500/4500 [==============================] - 2s - loss: 1.3070 - acc: 0.5293     \n",
      "Epoch 3/5\n",
      "4500/4500 [==============================] - 2s - loss: 1.3094 - acc: 0.5282     \n",
      "Epoch 4/5\n",
      "4500/4500 [==============================] - 2s - loss: 1.2877 - acc: 0.5391     \n",
      "Epoch 5/5\n",
      "4500/4500 [==============================] - 2s - loss: 1.2746 - acc: 0.5462     \n",
      "416/500 [=======================>......] - ETA: 0s"
     ]
    }
   ],
   "source": [
    "tab=models_scory(Rand_model_table,X_small_tran[0:4500],Y_train_small[0:4500],X_small_tran[4500:5000],Y_train_small[4500:5000],\"p2.1.\",epochs=5)"
   ]
  },
  {
   "cell_type": "code",
   "execution_count": 97,
   "metadata": {},
   "outputs": [
    {
     "data": {
      "text/plain": [
       "array([[<keras.engine.training.Model object at 0x000001A4C6420BA8>,\n",
       "        0.44599999976158144],\n",
       "       [<keras.engine.training.Model object at 0x000001A4C60EF4A8>,\n",
       "        0.46999999999999997],\n",
       "       [<keras.engine.training.Model object at 0x000001A4C63F05F8>,\n",
       "        0.44199999976158144]], dtype=object)"
      ]
     },
     "execution_count": 97,
     "metadata": {},
     "output_type": "execute_result"
    }
   ],
   "source": [
    "tab #usunołem wcześniejsze wyniky ale lepsze"
   ]
  },
  {
   "cell_type": "code",
   "execution_count": 99,
   "metadata": {},
   "outputs": [],
   "source": [
    "model=tab[2][0]"
   ]
  },
  {
   "cell_type": "code",
   "execution_count": 102,
   "metadata": {},
   "outputs": [],
   "source": [
    "Y_test=model.predict(encoder.predict(X_test.reshape(-1,32,32,3)))"
   ]
  },
  {
   "cell_type": "code",
   "execution_count": 104,
   "metadata": {
    "collapsed": true
   },
   "outputs": [],
   "source": [
    "y_test_predict=np.array([np.argmax(x) for x in Y_test])"
   ]
  },
  {
   "cell_type": "code",
   "execution_count": 105,
   "metadata": {},
   "outputs": [
    {
     "data": {
      "text/plain": [
       "array([3, 8, 9, ..., 5, 1, 7], dtype=int64)"
      ]
     },
     "execution_count": 105,
     "metadata": {},
     "output_type": "execute_result"
    }
   ],
   "source": [
    "y_test_predict"
   ]
  },
  {
   "cell_type": "code",
   "execution_count": 106,
   "metadata": {
    "collapsed": true
   },
   "outputs": [],
   "source": [
    "save_labels(y_test_predict, \"y_small_pred.csv\")"
   ]
  },
  {
   "cell_type": "markdown",
   "metadata": {},
   "source": [
    "Modele porównanie z modelami bez transormacji"
   ]
  },
  {
   "cell_type": "code",
   "execution_count": 79,
   "metadata": {
    "collapsed": true
   },
   "outputs": [],
   "source": [
    "def model_generator2(conv_layer1_size,conv_layer2_size,layer3_size,kernel_size):\n",
    "    drop_prob_1=0.23\n",
    "    drop_prob_2=0.5\n",
    "    pool_size=2\n",
    "    inp = Input(shape=(32, 32,3))\n",
    "    conv_1 = Convolution2D(conv_layer1_size, (kernel_size, kernel_size), padding='same', activation='relu')(inp)\n",
    "    pool_1 = MaxPooling2D(pool_size=(pool_size, pool_size))(conv_1)\n",
    "    drop_1 = Dropout(drop_prob_1)(pool_1)\n",
    "    conv_2 = Convolution2D(conv_layer2_size, (kernel_size, kernel_size), padding='same', activation='relu')(drop_1)\n",
    "    pool_2 = MaxPooling2D(pool_size=(pool_size, pool_size))(conv_2)\n",
    "    drop_2 = Dropout(drop_prob_1)(pool_2)\n",
    "    flat = Flatten()(drop_2)\n",
    "    hidden = Dense(layer3_size, activation='relu')(flat)\n",
    "    drop_3 = Dropout(drop_prob_2)(hidden)\n",
    "    out = Dense(10, activation='softmax')(drop_3)\n",
    "    model = Model(inputs=inp, outputs=out)\n",
    "    model.compile(loss='categorical_crossentropy',\n",
    "              optimizer='adam',\n",
    "              metrics=['accuracy']) \n",
    "    return model"
   ]
  },
  {
   "cell_type": "code",
   "execution_count": 86,
   "metadata": {
    "collapsed": true
   },
   "outputs": [],
   "source": [
    "#Generujemy 3 lowych modeli o różnych hiperparametrach\n",
    "Rand_model_table2=[model_generator2(\n",
    "    np.random.randint(20,71), #liczba filtrów w pierszej warstwie konwolucji \n",
    "    np.random.randint(20,71), #liczba filtrów w drugiej warstwie konwolucji\n",
    "    np.random.randint(100,500), #liczba filtrów w trzeciej warstwie (zwykła warstwa)\n",
    "    np.random.randint(2,4), #rozmiar filtrów dla obu warst konwolucji \n",
    ")   for i in range(3)]"
   ]
  },
  {
   "cell_type": "code",
   "execution_count": 87,
   "metadata": {},
   "outputs": [
    {
     "name": "stdout",
     "output_type": "stream",
     "text": [
      "Epoch 1/5\n",
      "4500/4500 [==============================] - 8s - loss: 2.2604 - acc: 0.1478     \n",
      "Epoch 2/5\n",
      "4500/4500 [==============================] - 7s - loss: 2.0572 - acc: 0.2462     \n",
      "Epoch 3/5\n",
      "4500/4500 [==============================] - 8s - loss: 1.8821 - acc: 0.3184     \n",
      "Epoch 4/5\n",
      "4500/4500 [==============================] - 10s - loss: 1.7601 - acc: 0.3644    \n",
      "Epoch 5/5\n",
      "4500/4500 [==============================] - 9s - loss: 1.6908 - acc: 0.3978     \n",
      "Epoch 1/5\n",
      "4500/4500 [==============================] - 14s - loss: 2.1930 - acc: 0.1851    \n",
      "Epoch 2/5\n",
      "4500/4500 [==============================] - 14s - loss: 1.8453 - acc: 0.3280    \n",
      "Epoch 3/5\n",
      "4500/4500 [==============================] - 14s - loss: 1.6879 - acc: 0.3887    - ETA: 2\n",
      "Epoch 4/5\n",
      "4500/4500 [==============================] - 14s - loss: 1.6147 - acc: 0.4249    \n",
      "Epoch 5/5\n",
      "4500/4500 [==============================] - 14s - loss: 1.5232 - acc: 0.4498    \n",
      "Epoch 1/5\n",
      "4500/4500 [==============================] - 7s - loss: 2.1881 - acc: 0.1951     \n",
      "Epoch 2/5\n",
      "4500/4500 [==============================] - 5s - loss: 1.8961 - acc: 0.3156     \n",
      "Epoch 3/5\n",
      "4500/4500 [==============================] - 5s - loss: 1.7357 - acc: 0.3833     \n",
      "Epoch 4/5\n",
      "4500/4500 [==============================] - 5s - loss: 1.6428 - acc: 0.4118     \n",
      "Epoch 5/5\n",
      "4500/4500 [==============================] - 5s - loss: 1.5964 - acc: 0.4309     \n",
      "448/500 [=========================>....] - ETA: 0s"
     ]
    }
   ],
   "source": [
    "tab2=models_scory(Rand_model_table2,X_train_small[0:4500],Y_train_small[0:4500],X_train_small[4500:5000],Y_train_small[4500:5000],\"p2.1.\",epochs=5)"
   ]
  },
  {
   "cell_type": "code",
   "execution_count": null,
   "metadata": {
    "collapsed": true
   },
   "outputs": [],
   "source": []
  },
  {
   "cell_type": "code",
   "execution_count": 88,
   "metadata": {},
   "outputs": [
    {
     "data": {
      "text/plain": [
       "array([[<keras.engine.training.Model object at 0x000001A4CDD32C18>,\n",
       "        0.42199999976158142],\n",
       "       [<keras.engine.training.Model object at 0x000001A4CFDE35F8>,\n",
       "        0.4840000002384186],\n",
       "       [<keras.engine.training.Model object at 0x000001A4D0C66CF8>,\n",
       "        0.43199999952316281]], dtype=object)"
      ]
     },
     "execution_count": 88,
     "metadata": {},
     "output_type": "execute_result"
    }
   ],
   "source": [
    "tab2 #model 2 "
   ]
  },
  {
   "cell_type": "code",
   "execution_count": 89,
   "metadata": {},
   "outputs": [
    {
     "name": "stdout",
     "output_type": "stream",
     "text": [
      "Epoch 1/1\n",
      "4500/4500 [==============================] - 7s - loss: 1.6437 - acc: 0.3936     \n",
      "Epoch 1/1\n",
      "4500/4500 [==============================] - 12s - loss: 1.4560 - acc: 0.4762    \n",
      "Epoch 1/1\n",
      "4500/4500 [==============================] - 6s - loss: 1.5142 - acc: 0.4582     \n",
      "500/500 [==============================] - 0s     \n",
      "448/500 [=========================>....] - ETA: 0s"
     ]
    }
   ],
   "source": [
    "tab3=models_scory(Rand_model_table2,X_train_small[0:4500],Y_train_small[0:4500],X_train_small[4500:5000],Y_train_small[4500:5000],\"p2.1.\",epochs=1)"
   ]
  },
  {
   "cell_type": "code",
   "execution_count": 90,
   "metadata": {},
   "outputs": [
    {
     "data": {
      "text/plain": [
       "array([[<keras.engine.training.Model object at 0x000001A4CDD32C18>,\n",
       "        0.42399999952316286],\n",
       "       [<keras.engine.training.Model object at 0x000001A4CFDE35F8>,\n",
       "        0.44600000023841857],\n",
       "       [<keras.engine.training.Model object at 0x000001A4D0C66CF8>,\n",
       "        0.47200000023841859]], dtype=object)"
      ]
     },
     "execution_count": 90,
     "metadata": {},
     "output_type": "execute_result"
    }
   ],
   "source": [
    "#modele dużo szybciej zaczynają się overfitować ale nie ma znacznej różniczy w accurasy modeli operujących na zwykłych\n",
    "#obrazkach z cifar-10 a ich transformacjami dokonanych przez encoder\n",
    "tab3"
   ]
  },
  {
   "cell_type": "code",
   "execution_count": 91,
   "metadata": {},
   "outputs": [
    {
     "name": "stdout",
     "output_type": "stream",
     "text": [
      "Epoch 1/1\n",
      "4500/4500 [==============================] - 7s - loss: 1.6030 - acc: 0.4229     \n",
      "Epoch 1/1\n",
      "4500/4500 [==============================] - 12s - loss: 1.4267 - acc: 0.4902    \n",
      "Epoch 1/1\n",
      "4500/4500 [==============================] - 6s - loss: 1.4974 - acc: 0.4767     \n",
      "416/500 [=======================>......] - ETA: 0s"
     ]
    }
   ],
   "source": [
    "tab3=models_scory(Rand_model_table2,X_train_small[0:4500],Y_train_small[0:4500],X_train_small[4500:5000],Y_train_small[4500:5000],\"p2.1.\",epochs=1)"
   ]
  },
  {
   "cell_type": "code",
   "execution_count": null,
   "metadata": {
    "collapsed": true
   },
   "outputs": [],
   "source": []
  },
  {
   "cell_type": "code",
   "execution_count": 92,
   "metadata": {},
   "outputs": [
    {
     "data": {
      "text/plain": [
       "array([[<keras.engine.training.Model object at 0x000001A4CDD32C18>,\n",
       "        0.43000000023841856],\n",
       "       [<keras.engine.training.Model object at 0x000001A4CFDE35F8>,\n",
       "        0.50200000023841862],\n",
       "       [<keras.engine.training.Model object at 0x000001A4D0C66CF8>,\n",
       "        0.46000000023841858]], dtype=object)"
      ]
     },
     "execution_count": 92,
     "metadata": {},
     "output_type": "execute_result"
    }
   ],
   "source": [
    "tab3"
   ]
  },
  {
   "cell_type": "code",
   "execution_count": 93,
   "metadata": {
    "scrolled": true
   },
   "outputs": [
    {
     "name": "stdout",
     "output_type": "stream",
     "text": [
      "Epoch 1/1\n",
      "4500/4500 [==============================] - 7s - loss: 1.5649 - acc: 0.4371     \n",
      "Epoch 1/1\n",
      "4500/4500 [==============================] - 13s - loss: 1.3460 - acc: 0.5229    \n",
      "Epoch 1/1\n",
      "4500/4500 [==============================] - 7s - loss: 1.4554 - acc: 0.4773     \n",
      "416/500 [=======================>......] - ETA: 0s"
     ]
    }
   ],
   "source": [
    "tab3=models_scory(Rand_model_table2,X_train_small[0:4500],Y_train_small[0:4500],X_train_small[4500:5000],Y_train_small[4500:5000],\"p2.1.\",epochs=1)"
   ]
  },
  {
   "cell_type": "code",
   "execution_count": 94,
   "metadata": {},
   "outputs": [
    {
     "data": {
      "text/plain": [
       "array([[<keras.engine.training.Model object at 0x000001A4CDD32C18>,\n",
       "        0.4740000002384186],\n",
       "       [<keras.engine.training.Model object at 0x000001A4CFDE35F8>,\n",
       "        0.49600000023841856],\n",
       "       [<keras.engine.training.Model object at 0x000001A4D0C66CF8>,\n",
       "        0.47399999976158141]], dtype=object)"
      ]
     },
     "execution_count": 94,
     "metadata": {},
     "output_type": "execute_result"
    }
   ],
   "source": [
    "tab3"
   ]
  },
  {
   "cell_type": "code",
   "execution_count": null,
   "metadata": {
    "collapsed": true
   },
   "outputs": [],
   "source": []
  }
 ],
 "metadata": {
  "kernelspec": {
   "display_name": "Python 3",
   "language": "python",
   "name": "python3"
  },
  "language_info": {
   "codemirror_mode": {
    "name": "ipython",
    "version": 3
   },
   "file_extension": ".py",
   "mimetype": "text/x-python",
   "name": "python",
   "nbconvert_exporter": "python",
   "pygments_lexer": "ipython3",
   "version": "3.6.1"
  }
 },
 "nbformat": 4,
 "nbformat_minor": 2
}
