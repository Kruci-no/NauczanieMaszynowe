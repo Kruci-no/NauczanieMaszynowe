{
 "cells": [
  {
   "cell_type": "code",
   "execution_count": 2,
   "metadata": {
    "collapsed": true
   },
   "outputs": [],
   "source": [
    "# importy, przydatne funkcje\n",
    "\n",
    "import numpy as np\n",
    "from matplotlib import pyplot as plt\n",
    "from sklearn.linear_model import LinearRegression\n",
    "%matplotlib inline\n",
    "\n",
    "# np.vander(x, degree + 1)\n",
    "# przyjmuje listę liczb x\n",
    "# zwraca tabelę po zmianie zmiennych na wielomian stopnia x\n",
    "# można sobie przetestować dla lepszego zrozumienia\n",
    "\n",
    "def f(size):\n",
    "    '''\n",
    "    zwraca dwie listy przykładowych danych (x i y) o długości 'size'\n",
    "    w tym wypadku przykładowa prawdziwa funkcja to y(x) = 2 * sin(1.5 * x)\n",
    "    '''\n",
    "    x = np.linspace(0, 4.5, size)\n",
    "    y = 2 * np.sin(x * 1.5)\n",
    "    return (x,y)\n",
    "\n",
    "def sample(size):\n",
    "    '''\n",
    "    zwraca dwie listy przykładowych danych (x i y) o długości 'size'\n",
    "    podobnie jak f, ale z dodanym szumem\n",
    "    uwaga - współrzędna x jest \"losowana\" z rozkładu jednostajnego\n",
    "    (dla naszych zastosowań nie robi to większej różnicy, ale porządni informatycy\n",
    "    mogą chcieć zastąpić linspace przez prawdziwe losowanie)\n",
    "    '''\n",
    "    x = np.linspace(0, 4.5, size)\n",
    "    y = 2 * np.sin(x * 1.5) + np.random.randn(x.size)\n",
    "    return (x,y)\n",
    "\n",
    "def fit_polynomial(x, y, degree):\n",
    "    '''\n",
    "    zwraca nauczony model regresji z wielomianową zmianą zmiennych\n",
    "    (x,y): dane treningowe\n",
    "    degree: stopień wielomianu\n",
    "    '''\n",
    "    # To juz umiemy sami zaimplementować!\n",
    "    model = LinearRegression()\n",
    "    model.fit(np.vander(x, degree + 1), y)\n",
    "    return model\n",
    "\n",
    "def apply_polynomial(model, x):\n",
    "    '''\n",
    "    zwraca predykcję nauczonego modelu regresji z wielomianową zmianą zmiennych\n",
    "    x: dane do predykcji\n",
    "    '''\n",
    "    degree = model.coef_.size - 1 # wyciągamy stopień wielomianu z modelu\n",
    "    y = model.predict(np.vander(x, degree + 1))\n",
    "    return y\n"
   ]
  },
  {
   "cell_type": "code",
   "execution_count": 51,
   "metadata": {
    "collapsed": false
   },
   "outputs": [
    {
     "name": "stdout",
     "output_type": "stream",
     "text": [
      "[-11675.27297313]\n",
      "-11675.2729731\n"
     ]
    },
    {
     "data": {
      "text/plain": [
       "[1, 2, 3]"
      ]
     },
     "execution_count": 51,
     "metadata": {},
     "output_type": "execute_result"
    }
   ],
   "source": [
    "\n",
    "f_x, f_y = f(50)\n",
    "x, y = sample(50)\n",
    "model=fit_polynomial(x,y,4)\n",
    "x=apply_polynomial(model,[23])\n",
    "print x\n",
    "x=x.item()\n",
    "print x\n",
    "[1]+[2,3]"
   ]
  },
  {
   "cell_type": "code",
   "execution_count": 71,
   "metadata": {
    "collapsed": false,
    "scrolled": true
   },
   "outputs": [
    {
     "name": "stdout",
     "output_type": "stream",
     "text": [
      "[1.855738199408747, 1.1273347423627642, 1.0345012036406123, 0.051294371148602753, 0.046052031489602643, 0.013633897899644616, 0.0044594336760082499, 0.012301825608046053, 0.010068877825082978, 0.0092954563882901523, 0.0068120763083174777, 0.01184144682081071, 0.035254744881194011, 0.026333648694514745, 0.027686635363507902, 0.018712765189172864, 0.039114128615137564, 0.034080428046350739, 0.032956480631325828, 0.031005632393624447]\n",
      "[0.0061562653433172524, 0.045046373860624003, 0.063263024240173577, 0.037160511342609323, 0.14263049422410201, 0.12822469676260706, 0.22638457597818235, 0.081690244880737561, 0.061520323766534643, 0.20839895449829926, 0.14967750235093055, 0.17947378038452397, 0.27260267091381918, 0.28517845655582635, 0.25966776763774141, 0.3040320825870263, 0.51301672838253343, 0.36273822117817978, 0.32334426568715346, 0.30118253745379037]\n"
     ]
    },
    {
     "data": {
      "text/plain": [
       "[<matplotlib.lines.Line2D at 0xc4d8cc0>]"
      ]
     },
     "execution_count": 71,
     "metadata": {},
     "output_type": "execute_result"
    },
    {
     "data": {
      "image/png": "[encoded data removed]",
      "text/plain": [
       "<matplotlib.figure.Figure at 0xc2905c0>"
      ]
     },
     "metadata": {},
     "output_type": "display_data"
    }
   ],
   "source": [
    "p=10 #liczba wielomianów \n",
    "f_x, f_y = f(50) #dane bez szumu na nich będziemy testować modele\n",
    "bias_result=[]\n",
    "variance_result=[]\n",
    "mse_result=[]\n",
    "for k in range(0,20):\n",
    "    models=[]\n",
    "    for j in range(0,p):#tworzymy tablice modeli\n",
    "        x_learning,y_learning=sample(50)\n",
    "        models+=[fit_polynomial(x_learning,y_learning,k)]\n",
    "    main_model=models[0]\n",
    "    array=[]\n",
    "    for i in range(0,50):#liczymy wartość oczekiwaną modelu aproksymacji k wielomianami odpowiada to średniej z modeli \n",
    "        Ef_m=np.array([apply_polynomial(model,[f_x[i]]).item() for model in models])\n",
    "        array+=[Ef_m.mean()]\n",
    "    bias=(f_y-array)**2\n",
    "    variance=(apply_polynomial(main_model,f_x)-array)**2\n",
    "    mse=(apply_polynomial(main_model,f_x)-f_y)**2\n",
    "    bias_result+=[bias.mean()]\n",
    "    variance_result+=[variance.mean()]\n",
    "    mse_result+=[mse.mean()]\n",
    "\n",
    "\n",
    "plt.plot(range(0,20), bias_result)# niebieska krzywa oznacza bias^2\n",
    "plt.plot(range(0,20), variance_result)#pomarańczowa variance \n",
    "plt.plot(range(0,20), mse_result)#zielona mse        \n",
    "\n",
    "        "
   ]
  },
  {
   "cell_type": "raw",
   "metadata": {},
   "source": [
    "Dla k>=5 dostajemy bardzo mały bias co oznacza, że wielomiany o stopniu większym bądź równym od 5 dobrze dopasowywują się do danych\n"
   ]
  },
  {
   "cell_type": "code",
   "execution_count": 75,
   "metadata": {
    "collapsed": false
   },
   "outputs": [
    {
     "data": {
      "text/plain": [
       "8"
      ]
     },
     "execution_count": 75,
     "metadata": {},
     "output_type": "execute_result"
    }
   ],
   "source": [
    "mse_result=np.array(mse_result)       \n",
    "mse_result.argmin()\n",
    "#Dla wielomianu 8 stopnia dostaliśmy najlepsze dopasowanie"
   ]
  },
  {
   "cell_type": "raw",
   "metadata": {},
   "source": [
    "Zadanie 2\n",
    "\n",
    "Gdy mamy mało danych oraz nasze k też jest małe to dla każdego zestawu danych trenujących modele się na nim zoverfittują i będziemy musieli a wzięcie średniego modelu może tego nie zredukować. Wiec będziemy mieli duży variance dla estymatora gdyż nasz model będzie mocno zależał od dostarcznych danych. Wraz ze wrostem liczby danych i/lub k ten efekt powinien maleć. Zachowanie Biasu ciężej jest określić. Gdy mamy mało danych i k też małe to bias na danych treningowych powinien być mały (ze wględu na wspominamy overfitting).Gdybyśmy przyjeli, że dla każdego k błąd (MSE) jest stały to dostalibyśmy, że bias musi rosnąć. Jednakże błąd niemusi być stały a wedle naszych oczekiwać powinien spadać."
   ]
  },
  {
   "cell_type": "markdown",
   "metadata": {},
   "source": [
    "Zadanie 3\n",
    "\n",
    "Ze wzoru Bayesa mamy\n",
    "\n",
    "$$p(\\theta|X,y)=\\alpha p(\\theta|X)p(\\theta|\\mathbf{x_1},y_1)...p(\\theta|\\mathbf{x_n},y_n)$$\n",
    "\n",
    "dalej mamy $y=f(x)+N(0,1)$ wiec\n",
    "$$p(\\theta|\\mathbf{x},y)=\\beta_1 exp(-\\frac{1}{2}(y-f(x))^2)$$\n",
    "\n",
    "a $p(\\theta|X)=p(\\theta)$, $\\theta\\text{~}N(0,\\lambda^{-1})$ \n",
    "$$p(\\theta)=\\beta_2 exp(-\\frac{\\lambda}{2}||\\theta||_2^2)$$\n",
    "\n",
    "Podstawiając pod pierwszy wzór biorąc log \n",
    "\n",
    "$$log p(\\theta|X,y)=A+\\frac{-1}{2}\\sum_{i}^{n}(y_i-f(\\mathbf{x_i}))^2+\\frac{-\\lambda}{2}||\\theta||_2^2$$\n",
    "\n",
    "odejmując A oraz potem przemnarzac prawe wyrażenie przez $-2$ dostaniemy funkcje C. O ile odjęcie stałej nie zmieni miejsca extremum to przemnożenie przez $-2$ zmienni min na max i odwrotnie wiec będziemy poszukiwali min funkcji C\n"
   ]
  },
  {
   "cell_type": "markdown",
   "metadata": {
    "collapsed": true
   },
   "source": [
    "Niech C będzie zmieną losową dyskretną a c \n",
    "\n",
    "Mając dane jakiś $F_1,...,F_n$ zmienych danych zakładamy ,że są niezależne więc ze wzoru Bayesa dostajemy\n",
    "\n",
    "$$P(C|F_1,...,F_n)=1/Z*P(C)*P(F_1)*...*P(F_n)\\text{ gdzie Z jest wpółczynikiem skalowania niezależnym od thety}$$ \n",
    "\n",
    "Nasza estymacja będzie polegała na dla danego wektora $(x_1,...,x_n)$ będziemy poszukiwali takiego C, które zmaksymalizuje wyrażenie\n",
    "\n",
    "$$P(C|F_1,...,F_n)=1/Z*P(C)*P(F_1=x_1|C)*...*P(F_n=x_n |C)$$\n",
    "\n",
    "Jest to równoważne z \n",
    "    \n",
    "$$argmax_C log(1/Z)+log(P(C=c))+log(P(F_1=x_1|C=c))+...+log(P(F_n=x_n |C=c))$$\n",
    "\n",
    "By znaleść rozwiązanie wystarczy wybrać maksimum po wszyskich wartości zmiennej dyskretej C\n",
    "\n",
    "Przyjmimy, że mamy dane $x_1,...,x_n$, które tworzą macierz $X$ i dla każdego wektora jest przypisanna liczby(etykiety) $y_i$, które razem tworzą wektor $y$. Przyjmimy także że mamy wektor parametrów $\\theta$, który wpływa na prawdopodobieństwa obserwacji.Naive Bayes zakłada, że wszyskie zdarzenia są od siebie niezależne co pozwala nam zapisać\n",
    "\n",
    "$$P(X|y,\\theta)=P(x_1|y_1,\\theta)*...*P(x_n|y_n,\\theta)$$\n",
    "\n",
    "Dalej korzystając ze wzoru Bayesa mamy\n",
    "\n",
    "$$P(\\theta|y,X)=1/Z*P(x_1|y_1,\\theta)*...*P(x_n|y_n,\\theta)\\text{  ,gdzie jest liczbą Z zależną tylko macierzy } X$$\n",
    "\n",
    "A więc będziemy poszukiwali, parametru $\\theta$, który zmaksymalizuje likehood równy\n",
    "\n",
    "$$L(\\theta|y,X)=P(x_1|y_1,\\theta)*...*P(x_n|y_n,\\theta)$$\n",
    "\n",
    "Przymimy teraz, że $x_i$ jest wektorem powstałym zawierającym 0 i 1 odpowiadające różnym próbą Bernuliego.Przymimy,że y może przyjmować k wartości.Każdemu z nich odpowiada kategoria $y_i$.Prawdopodobieństwo poszczególnej kategori jest równe \n",
    "\n",
    "$$L(x_1|y_k,\\theta)=\\theta_{1,k}^{x_1}(1-\\theta_{1,k})^{1-x_1}*...*\\theta_{n,k}^{x_n}*(1-\\theta_{n,k})^{(1-x_n)}$$\n",
    "\n",
    "Teraz należy podstawić ten wzór do Likehood i znaleść zestaw parametrów $\\theta_{1,1},...,\\theta_{n,1},...,\\theta_{1,k},\\theta_{n,k} $. Czyli potrzebujemy znaleść k*n parametrów."
   ]
  }
 ],
 "metadata": {
  "kernelspec": {
   "display_name": "Python 2",
   "language": "python",
   "name": "python2"
  },
  "language_info": {
   "codemirror_mode": {
    "name": "ipython",
    "version": 2
   },
   "file_extension": ".py",
   "mimetype": "text/x-python",
   "name": "python",
   "nbconvert_exporter": "python",
   "pygments_lexer": "ipython2",
   "version": "2.7.13"
  }
 },
 "nbformat": 4,
 "nbformat_minor": 2
}
