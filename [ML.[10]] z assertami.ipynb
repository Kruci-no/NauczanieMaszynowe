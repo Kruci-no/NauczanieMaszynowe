{
 "cells": [
  {
   "cell_type": "code",
   "execution_count": 1,
   "metadata": {
    "collapsed": false
   },
   "outputs": [
    {
     "name": "stderr",
     "output_type": "stream",
     "text": [
      "Using Theano backend.\n"
     ]
    },
    {
     "name": "stdout",
     "output_type": "stream",
     "text": [
      "(11339L, 784L)\n",
      "(1850L, 784L)\n"
     ]
    }
   ],
   "source": [
    "\n",
    "# Two-class MNIST \n",
    "import math\n",
    "import os\n",
    "import tqdm\n",
    "os.environ['KERAS_BACKEND'] = 'theano'\n",
    "import keras\n",
    "from keras.datasets import mnist\n",
    "import numpy as np\n",
    "\n",
    "d1 = 5\n",
    "d2 = 6\n",
    "\n",
    "(mnist_x_train, mnist_y_train), (mnist_x_test, mnist_y_test) = mnist.load_data()\n",
    "\n",
    "X_train = (mnist_x_train.astype('float32') / 255.).reshape((len(mnist_x_train), np.prod(mnist_x_train.shape[1:])))\n",
    "y_train = mnist_y_train\n",
    "X_test = (mnist_x_test.astype('float32') / 255.).reshape((len(mnist_x_test), np.prod(mnist_x_test.shape[1:])))\n",
    "y_test = mnist_y_test\n",
    "\n",
    "X_train = X_train[np.logical_or(y_train == d1, y_train == d2)]\n",
    "y_train = y_train[np.logical_or(y_train == d1, y_train == d2)]\n",
    "y_train[y_train==d1] = 0\n",
    "y_train[y_train==d2] = 1\n",
    "X_test = X_test[np.logical_or(y_test == d1, y_test == d2)]\n",
    "y_test = y_test[np.logical_or(y_test == d1, y_test == d2)]\n",
    "y_test[y_test==d1] = 0\n",
    "y_test[y_test==d2] = 1\n",
    "\n",
    "print X_train.shape\n",
    "print X_test.shape"
   ]
  },
  {
   "cell_type": "code",
   "execution_count": 2,
   "metadata": {
    "collapsed": true
   },
   "outputs": [],
   "source": [
    "from sklearn.metrics import accuracy_score\n",
    "def metric(y,t):\n",
    "    return accuracy_score(np.around(y.flat), t)"
   ]
  },
  {
   "cell_type": "code",
   "execution_count": 3,
   "metadata": {
    "collapsed": true
   },
   "outputs": [],
   "source": [
    "class Layer():\n",
    "\n",
    "    def forward_pass(self, input):\n",
    "        # return output\n",
    "        raise NotImplementedError()\n",
    "\n",
    "    def backward_pass(self, input, output_grad):\n",
    "        # return input_grad, weight_grad\n",
    "        raise NotImplementedError()\n",
    "\n",
    "    def update_weights(self, delta_weights):\n",
    "        pass\n",
    "\n",
    "    def debug_grad(self, evaluate_loss):\n",
    "        return None\n"
   ]
  },
  {
   "cell_type": "code",
   "execution_count": 4,
   "metadata": {
    "collapsed": true
   },
   "outputs": [],
   "source": [
    "# Optimizers\n",
    "\n",
    "class Optimizer():\n",
    "\n",
    "    def calculate_deltas(self, grad):\n",
    "        raise NotImplementedError()\n",
    "\n",
    "class GD(Optimizer):\n",
    "\n",
    "    def __init__(self, learning_rate):\n",
    "        self.learning_rate = learning_rate\n",
    "\n",
    "    def calculate_deltas(self, grad):\n",
    "        return -self.learning_rate * grad\n",
    "\n",
    "class Momentum(Optimizer):\n",
    "    def __init__(self, alpha, beta):\n",
    "        self.alpha=alpha\n",
    "        self.beta=beta\n",
    "        self.z=0\n",
    "        \n",
    "    def calculate_deltas(self, grad):\n",
    "        self.z=self.beta*self.z+grad\n",
    "        return -self.alpha*self.z"
   ]
  },
  {
   "cell_type": "code",
   "execution_count": 156,
   "metadata": {
    "collapsed": false
   },
   "outputs": [],
   "source": [
    "class Sigmoid(Layer):\n",
    "    #Modyfikacja do cross entropi\n",
    "    def sigm(sefl,x):\n",
    "        #if x>10:#by nie musieć liczyć exp od bardzo małej liczby\n",
    "            #return 1.0/(1.0+(math.exp(-10)))\n",
    "        #if x<-10:\n",
    "            #return 1.0/(1.0+(math.exp(10)))\n",
    "        return 1.0/(1.0+(math.exp(-x)))\n",
    "    def derivative(self,x):\n",
    "        return self.sigm(x)*(1-self.sigm(x))              \n",
    "    def forward_pass(self, input):\n",
    "        #print \"eLo\"\n",
    "        #print input.shape\n",
    "        #print input[0][0]\n",
    "        #print input.shape\n",
    "        #print input.shape\n",
    "        #print input\n",
    "        #print [[x.item ()for x in batch]for batch in input]\n",
    "        sigm = np.vectorize(self.sigm) \n",
    "        return sigm(input)\n",
    "\n",
    "    def backward_pass(self, input, output_grad):\n",
    "        derivative = np.vectorize(self.derivative) \n",
    "        #print input.shape\n",
    "        deriv=derivative(input)\n",
    "        return np.multiply(deriv,output_grad),None"
   ]
  },
  {
   "cell_type": "code",
   "execution_count": 9,
   "metadata": {
    "collapsed": false
   },
   "outputs": [],
   "source": [
    "# Funkcje kosztu\n",
    "\n",
    "class Loss():\n",
    "\n",
    "    def forward_pass(self, y, t):\n",
    "        # return cost\n",
    "        raise NotImplementedError()\n",
    "\n",
    "    def backward_pass(self, y, t):\n",
    "        # return y_grad\n",
    "        raise NotImplementedError()\n",
    "\n",
    "class MSE(Loss):\n",
    "\n",
    "    def forward_pass(self, y, t):\n",
    "        return np.average(0.5 * np.square(y - t))\n",
    "\n",
    "    def backward_pass(self, y, t):\n",
    "        return (y - t) / y.size\n"
   ]
  },
  {
   "cell_type": "code",
   "execution_count": 10,
   "metadata": {
    "collapsed": true
   },
   "outputs": [],
   "source": [
    "class Crossentropy(Loss):\n",
    "\n",
    "    def forward_pass(self, y, t):\n",
    "       # print t\n",
    "       # print y\n",
    "       # print np.log(y)\n",
    "       # print -t*np.log(y)\n",
    "       # print -np.multiply(t,np.log(y))-np.multiply((1-t),np.log(1-y))\n",
    "        #print np.average(-np.multiply(t,np.log(y))-np.multiply((1-t),np.log(1-y)))\n",
    "        return np.average(-np.multiply(t,np.log(y))-np.multiply((1-t),np.log(1-y)))\n",
    "        \n",
    "    def backward_pass(self, y, t):\n",
    "        # Ćwiczenie 5\n",
    "        return (-np.divide(t,y)+np.divide((1-t),(1-y)))/ y.size"
   ]
  },
  {
   "cell_type": "code",
   "execution_count": 126,
   "metadata": {
    "collapsed": false
   },
   "outputs": [],
   "source": [
    "class ReLU(Layer):\n",
    "    def f(sefl,x):\n",
    "        #print x\n",
    "        if x <=0:\n",
    "            return 0\n",
    "        else:\n",
    "            return x\n",
    "    def derivative(self,x):\n",
    "            return x>0\n",
    "    def forward_pass(self, input):\n",
    "        maximum = np.vectorize(self.f,otypes=[np.float])\n",
    "        #print maximum(np.array([[-2.,-3.,412.,1.,43.]]))\n",
    "        #print input\n",
    "        #print maximum(input)\n",
    "        #print maximum(np.array(input))\n",
    "        #print input\n",
    "        #output=np.array([[max(x,0) for x in y] for y in input])\n",
    "        #print lol\n",
    "        #print output\n",
    "        return maximum(input)#output\n",
    "        \n",
    "        \n",
    "    def backward_pass(self, input, output_grad):\n",
    "        derivative = np.vectorize(self.derivative) \n",
    "        #print input.shape\n",
    "        deriv=derivative(input)\n",
    "        return np.multiply(deriv,output_grad),None"
   ]
  },
  {
   "cell_type": "code",
   "execution_count": 321,
   "metadata": {
    "collapsed": false
   },
   "outputs": [],
   "source": [
    "class Dense(Layer):\n",
    "\n",
    "    def __init__(self, input_size, output_size, init = 'gaussian',viev_norm=0):\n",
    "        input_size += 1\n",
    "        self.norm_grad=[]\n",
    "        self.viev_norm=viev_norm\n",
    "        print init=='zeros'\n",
    "        if init =='zeros':\n",
    "            self.weights = np.zeros((input_size, output_size))\n",
    "        elif init == 'ones':\n",
    "            self.weights = np.ones((input_size, output_size))\n",
    "        elif init == 'gaussian':\n",
    "            self.weights = np.random.normal(\n",
    "                0.,\n",
    "                2. / (input_size + output_size),\n",
    "                (input_size, output_size)\n",
    "            )\n",
    "        elif init == 'stupid':\n",
    "            self.weights = np.zeros((input_size, output_size))\n",
    "            self.weights[0][0] = 21.\n",
    "            self.weights[0][0] = -21.\n",
    "            #raise NotImplementedError()            \n",
    "        else:\n",
    "            raise NotImplementedError()\n",
    "        self.weights = np.asmatrix(self.weights)\n",
    "\n",
    "    def forward_pass(self, input):\n",
    "        input=[np.append(1,batch)  for batch in input]\n",
    "        return np.dot(input,self.weights)\n",
    "    \n",
    "    def backward_pass(self, input, output_grad):\n",
    "        # Ćwiczenie 1\n",
    "        #print \"wejsciowy grad\",output_grad\n",
    "        input=[np.append(1,batch)  for batch in input]\n",
    "        P=np.transpose(self.weights)\n",
    "        #print P.shape\n",
    "        input_grad=np.dot(output_grad,np.transpose(self.weights))\n",
    "        #print input,output_grad\n",
    "        weight_grad=np.zeros(self.weights.shape)\n",
    "        i=0\n",
    "        for batch in input:  \n",
    "            X=batch.reshape(len(batch),1)\n",
    "\n",
    "            p=output_grad[i].reshape(1,-1)\n",
    "            \n",
    "            weight_grad=weight_grad+np.dot(X,p)\n",
    "            #print weight_grad\n",
    "            i=i+1\n",
    "        return input_grad[:,1:], weight_grad.flat\n",
    "    \n",
    "    def update_weights(self, delta_weights):\n",
    "        # Ćwiczenie 7 - monitorowanie normy wektora delta_weights\n",
    "        if self.viev_norm == 1:\n",
    "            self.norm_grad.append(np.array(np.abs(delta_weights)).max())\n",
    "        #print np.array(np.abs(delta_weights)).max()\n",
    "        self.weights += delta_weights.reshape(self.weights.shape)\n",
    "\n",
    "    def debug_grad(self, evaluate_loss):\n",
    "        base = evaluate_loss()\n",
    "        grad = []\n",
    "        for (x, y), w in np.ndenumerate(self.weights):\n",
    "            self.weights[x, y] = w + 0.0001\n",
    "            changed = evaluate_loss()\n",
    "            grad.append(10000. * (changed - base))\n",
    "            self.weights[x, y] = w\n",
    "        return grad"
   ]
  },
  {
   "cell_type": "code",
   "execution_count": 277,
   "metadata": {
    "collapsed": false
   },
   "outputs": [],
   "source": [
    "class Network():\n",
    "\n",
    "    def __init__(self, loss, optimizer, metrics = []):\n",
    "        self.layers = []\n",
    "        self.loss = loss\n",
    "        self.optimizer = optimizer\n",
    "        self.metrics = metrics\n",
    "\n",
    "    def add(self, layer):\n",
    "        self.layers.append(layer)\n",
    "\n",
    "    def fit(self, X, t, epochs, batch_size=256, print_stats=False):\n",
    "        X = np.array(X)\n",
    "        t = np.array(t)\n",
    "        X = X.reshape(len(X), -1)\n",
    "        t = t.reshape(len(t), -1)\n",
    "        if X.shape[0] != t.shape[0]:\n",
    "            raise ValueError(\"Array sizes don't match\")\n",
    "        for epoch in range(epochs):\n",
    "            if print_stats:\n",
    "                print(\"Epoch %d\" % (epoch+1))\n",
    "                print(\"    -> batch size: %d\" % batch_size)\n",
    "            rng_state = np.random.get_state()\n",
    "            np.random.shuffle(X)\n",
    "            #print X\n",
    "            np.random.set_state(rng_state)\n",
    "            np.random.shuffle(t)\n",
    "            pos = 0\n",
    "            while pos < len(X):\n",
    "                batch_X = X[pos:pos+batch_size]\n",
    "                batch_t = t[pos:pos+batch_size]\n",
    "                self._fit_on_batch(batch_X, batch_t)\n",
    "                pos += batch_size\n",
    "            if print_stats:\n",
    "                _, y = self._forward_pass(X)\n",
    "                l = self.loss.forward_pass(y, t)\n",
    "                print(\"    -> loss: %f\" % l)\n",
    "                for m in self.metrics:\n",
    "                    print(\"    -> %s: %f\" % (m.__name__, m(y, t)))\n",
    "\n",
    "    def predict(self, X):\n",
    "        inps, out = self._forward_pass(X)\n",
    "        return out\n",
    "\n",
    "    def _fit_on_batch(self, batch_X, batch_t):\n",
    "        inps, out = self._forward_pass(batch_X)\n",
    "        layer_grads = self._backward_pass(\n",
    "            inps,\n",
    "            self.loss.backward_pass(out, batch_t)\n",
    "        )\n",
    "        grad = self._join(layer_grads)\n",
    "        deltas = self.optimizer.calculate_deltas(grad)\n",
    "        for l, d in zip(self.layers, self._split(deltas, layer_grads)):\n",
    "            if not d is None:\n",
    "                l.update_weights(d)\n",
    "\n",
    "    def _join(self, grads):\n",
    "        #print [g for g in grads if not g is None]\n",
    "        return np.concatenate([g for g in grads if not g is None])\n",
    "\n",
    "    def _split(self, grads, layer_grads):\n",
    "        out = []\n",
    "        start = 0\n",
    "        for l in layer_grads:\n",
    "            if l is None:\n",
    "                out.append(None)\n",
    "            else:\n",
    "                out.append(grads[start:start+len(l)])\n",
    "                start += len(l)\n",
    "        return out\n",
    "\n",
    "    def _forward_pass(self, X):\n",
    "        inps = []\n",
    "        output = None\n",
    "        for layer in self.layers:\n",
    "            inps.append(X)\n",
    "            X=layer.forward_pass(X)\n",
    "\n",
    "        # Ćwiczenie 2\n",
    "        return inps, X\n",
    "    def _backward_pass(self, inps, grad):\n",
    "        n = len(self.layers)\n",
    "        #print grad.shape\n",
    "        weight_grad = [None for i in xrange(n)]\n",
    "        for i in reversed(range(n-1)):\n",
    "            \n",
    "            #print i\n",
    "            #print self.layers[i].backward_pass(inps[i], grad  )\n",
    "            #print self.layers[i].__class__.__name__\n",
    "            #print \"input:\", inps[i]\n",
    "            #print \"grad:\" ,grad\n",
    "            #print \"layer\"+str(i)\n",
    "            \n",
    "            grad, weights_grad = self.layers[i].backward_pass(inps[i], grad  ) \n",
    "            #print \"wagi\", np.array(weights_grad)\n",
    "            weight_grad[i] =  weights_grad\n",
    "        return weight_grad\n",
    "    def _backward_pass2(self, inps, grad):\n",
    "        n = len(self.layers)\n",
    "        #print grad.shape\n",
    "        weight_grad = [None for i in xrange(n)]\n",
    "        for i in reversed(range(n)):\n",
    "            \n",
    "            #print i\n",
    "            #print self.layers[i].backward_pass(inps[i], grad  )\n",
    "            #print self.layers[i].__class__.__name__\n",
    "            #print \"input:\", inps[i]\n",
    "            #print \"grad:\" ,grad\n",
    "            #print \"layer\"+str(i)\n",
    "            print \"klasa\" ,i\n",
    "            print self.layers[i].__class__.__name__\n",
    "            \n",
    "            grad, weights_grad = self.layers[i].backward_pass(inps[i], grad  ) \n",
    "            #print \"wagi\", np.array(weights_grad)\n",
    "            weight_grad[i] =  weights_grad\n",
    "        return weight_grad\n",
    "    def _debug_grads(self, X, t):\n",
    "        layer_grads = []\n",
    "        for l in self.layers:\n",
    "            g = l.debug_grad(\n",
    "                lambda: self.loss.forward_pass(self._forward_pass(X)[1], t)\n",
    "            )\n",
    "            if not g is None:\n",
    "                g = np.array(np.array(g).flat)\n",
    "            layer_grads.append(g)\n",
    "        return layer_grads"
   ]
  },
  {
   "cell_type": "markdown",
   "metadata": {},
   "source": [
    "Assert zad1"
   ]
  },
  {
   "cell_type": "code",
   "execution_count": 307,
   "metadata": {
    "collapsed": false
   },
   "outputs": [
    {
     "name": "stdout",
     "output_type": "stream",
     "text": [
      "False\n",
      "True\n",
      "inp:\n",
      "(1L, 4L)\n",
      "[[-0.05424164  0.16972465 -0.41749995  0.39709858]]\n",
      "out_grad_4:\n",
      "(1L, 4L)\n",
      "[[-0.2019965  -0.23769518 -0.49487045  0.04320252]]\n",
      "out_grad_3:\n",
      "(1L, 3L)\n",
      "[[-0.02440363  0.13637368  0.47820413]]\n",
      "Testing d1...\n",
      "d1.forward_pass(inp):\n",
      "(1L, 3L)\n",
      "[[-0.02707048 -0.20288487 -0.03403094]]\n",
      "d1.backward_pass(inp, out_grad_3):\n",
      "(1L, 4L)\n",
      "[[-0.01685764  0.21647157  0.04530229  0.03971692]]\n",
      "(15L,)\n",
      "[-0.02440363  0.13637368  0.47820413  0.00132369 -0.00739713 -0.02593858\n",
      " -0.0041419   0.02314597  0.08116303  0.01018852 -0.056936   -0.1996502\n",
      " -0.00969065  0.05415379  0.18989418]\n"
     ]
    }
   ],
   "source": [
    "np.random.seed(43)\n",
    "d1 = Dense(input_size=4, output_size=3, init=\"gaussian\")\n",
    "d2 = Dense(input_size=4, output_size=3, init=\"zeros\")\n",
    "\n",
    "s = Sigmoid()\n",
    "inp = np.random.random(4).reshape((1,-1)) - 0.5\n",
    "out_grad_4 = np.random.random(4).reshape((1,-1)) - 0.5\n",
    "out_grad_3 = np.random.random(3).reshape((1,-1)) - 0.5\n",
    "\n",
    "print \"inp:\"\n",
    "print inp.shape\n",
    "print inp\n",
    "print \"out_grad_4:\"\n",
    "print out_grad_4.shape\n",
    "print out_grad_4\n",
    "print \"out_grad_3:\"\n",
    "print out_grad_3.shape\n",
    "print out_grad_3\n",
    "\n",
    "print \"Testing d1...\"\n",
    "print \"d1.forward_pass(inp):\"\n",
    "t = d1.forward_pass(inp)\n",
    "print t.shape\n",
    "print t\n",
    "print \"d1.backward_pass(inp, out_grad_3):\"\n",
    "t = d1.backward_pass(inp, out_grad_3)\n",
    "print t[0].shape\n",
    "print t[0]\n",
    "print np.array(t[1]).shape\n",
    "print np.array(t[1])\n",
    "\n"
   ]
  },
  {
   "cell_type": "code",
   "execution_count": 308,
   "metadata": {
    "collapsed": false
   },
   "outputs": [
    {
     "name": "stdout",
     "output_type": "stream",
     "text": [
      "Testing d2...\n",
      "d2.forward_pass(inp):\n",
      "(1L, 3L)\n",
      "[[ 0.  0.  0.]]\n",
      "d2.backward_pass(inp, out_grad_3):\n",
      "(1L, 4L)\n",
      "[[ 0.  0.  0.  0.]]\n",
      "(15L,)\n",
      "[-0.02440363  0.13637368  0.47820413  0.00132369 -0.00739713 -0.02593858\n",
      " -0.0041419   0.02314597  0.08116303  0.01018852 -0.056936   -0.1996502\n",
      " -0.00969065  0.05415379  0.18989418]\n"
     ]
    }
   ],
   "source": [
    "print \"Testing d2...\"\n",
    "print \"d2.forward_pass(inp):\"\n",
    "t = d2.forward_pass(inp)\n",
    "print t.shape\n",
    "print t\n",
    "print \"d2.backward_pass(inp, out_grad_3):\"\n",
    "t = d2.backward_pass(inp, out_grad_3)\n",
    "print t[0].shape\n",
    "print t[0]\n",
    "print np.array(t[1]).shape\n",
    "print np.array(t[1])\n"
   ]
  },
  {
   "cell_type": "code",
   "execution_count": 309,
   "metadata": {
    "collapsed": false,
    "scrolled": true
   },
   "outputs": [
    {
     "name": "stdout",
     "output_type": "stream",
     "text": [
      "Testing r...\n",
      "r.forward_pass(inp):\n",
      "(1L, 4L)\n",
      "[[ 0.          0.16972465  0.          0.39709858]]\n",
      "r.backward_pass(inp, out_grad_4):\n",
      "(1L, 4L)\n",
      "[[-0.         -0.23769518 -0.          0.04320252]]\n",
      "None\n",
      "Testing s...\n",
      "s.forward_pass(inp):\n",
      "(1L, 4L)\n",
      "[[ 0.48644291  0.5423296   0.39711514  0.59799036]]\n",
      "s.backward_pass(inp, out_grad_4):\n",
      "(1L, 4L)\n",
      "[[-0.050462   -0.05899789 -0.11847926  0.01038579]]\n",
      "None\n"
     ]
    }
   ],
   "source": [
    "r = ReLU()\n",
    "print \"Testing r...\"\n",
    "print \"r.forward_pass(inp):\"\n",
    "t = r.forward_pass(inp)\n",
    "print t.shape\n",
    "print t\n",
    "print \"r.backward_pass(inp, out_grad_4):\"\n",
    "t = r.backward_pass(inp, out_grad_4)\n",
    "print t[0].shape\n",
    "print t[0]\n",
    "print t[1]\n",
    "\n",
    "print \"Testing s...\"\n",
    "print \"s.forward_pass(inp):\"\n",
    "t = s.forward_pass(inp)\n",
    "print t.shape\n",
    "print t\n",
    "print \"s.backward_pass(inp, out_grad_4):\"\n",
    "t = s.backward_pass(inp, out_grad_4)\n",
    "print t[0].shape\n",
    "print t[0]\n",
    "print t[1]"
   ]
  },
  {
   "cell_type": "markdown",
   "metadata": {},
   "source": [
    "Powino być\n",
    "inp:\n",
    "(1, 4)\n",
    "[[-0.05424164  0.16972465 -0.41749995  0.39709858]]\n",
    "out_grad_4:\n",
    "(1, 4)\n",
    "[[-0.2019965  -0.23769518 -0.49487045  0.04320252]]\n",
    "out_grad_3:\n",
    "(1, 3)\n",
    "[[-0.02440363  0.13637368  0.47820413]]\n",
    "Testing d1...\n",
    "d1.forward_pass(inp):\n",
    "(1, 3)\n",
    "[[-0.02707048 -0.20288487 -0.03403094]]\n",
    "d1.backward_pass(inp, out_grad_3):\n",
    "(1, 4)\n",
    "[[-0.01685764  0.21647157  0.04530229  0.03971692]]\n",
    "(15,)\n",
    "[-0.02440363  0.13637368  0.47820413  0.00132369 -0.00739713 -0.02593858\n",
    " -0.0041419   0.02314597  0.08116303  0.01018852 -0.056936   -0.1996502\n",
    " -0.00969065  0.05415379  0.18989418]\n",
    "Testing d2...\n",
    "d2.forward_pass(inp):\n",
    "(1, 3)\n",
    "[[ 0.  0.  0.]]\n",
    "d2.backward_pass(inp, out_grad_3):\n",
    "(1, 4)\n",
    "[[ 0.  0.  0.  0.]]\n",
    "(15,)\n",
    "[-0.02440363  0.13637368  0.47820413  0.00132369 -0.00739713 -0.02593858\n",
    " -0.0041419   0.02314597  0.08116303  0.01018852 -0.056936   -0.1996502\n",
    " -0.00969065  0.05415379  0.18989418]\n",
    "Testing r...\n",
    "r.forward_pass(inp):\n",
    "(1, 4)\n",
    "[[ 0.          0.16972465  0.          0.39709858]]\n",
    "r.backward_pass(inp, out_grad_4):\n",
    "(1, 4)\n",
    "[[ 0.         -0.23769518  0.          0.04320252]]\n",
    "None\n",
    "Testing s...\n",
    "s.forward_pass(inp):\n",
    "(1, 4)\n",
    "[[ 0.48644291  0.5423296   0.39711514  0.59799036]]\n",
    "s.backward_pass(inp, out_grad_4):\n",
    "(1, 4)\n",
    "[[-0.050462   -0.05899789 -0.11847926  0.01038579]]\n",
    "None"
   ]
  },
  {
   "cell_type": "markdown",
   "metadata": {},
   "source": [
    "Assert zad2"
   ]
  },
  {
   "cell_type": "code",
   "execution_count": 310,
   "metadata": {
    "collapsed": false
   },
   "outputs": [
    {
     "name": "stdout",
     "output_type": "stream",
     "text": [
      "False\n",
      "False\n",
      "False\n",
      "inp:\n",
      "[[ 0.06066317 -0.08874451  0.22698799 -0.10080311]\n",
      " [ 0.17014516  0.20471561  0.10955987  0.04003446]]\n",
      "inps[0]:\n",
      "[[ 0.06066317 -0.08874451  0.22698799 -0.10080311]\n",
      " [ 0.17014516  0.20471561  0.10955987  0.04003446]]\n",
      "inps[1]:\n",
      "[[ 0.06231216 -0.25663962 -0.11549112]\n",
      " [ 0.03836232 -0.10585852 -0.03015728]]\n",
      "inps[2]:\n",
      "[[ 0.06231216  0.          0.        ]\n",
      " [ 0.03836232  0.          0.        ]]\n",
      "inps[3]:\n",
      "[[-0.04493685  0.4840028  -0.15711608 -0.22696511]\n",
      " [-0.0396103   0.48391873 -0.15615311 -0.24031931]]\n",
      "inps[4]:\n",
      "[[ 0.          0.4840028   0.          0.        ]\n",
      " [ 0.          0.48391873  0.          0.        ]]\n",
      "inps[5]:\n",
      "[[ 0.29948146]\n",
      " [ 0.29947621]]\n",
      "out:\n",
      "[[ 0.57431575]\n",
      " [ 0.57431447]]\n"
     ]
    }
   ],
   "source": [
    "np.random.seed(43)\n",
    "n = Network(loss=MSE(), optimizer=GD(learning_rate=0.001), metrics=[])\n",
    "n.add(Dense(input_size=4, output_size=3, init=\"gaussian\"))\n",
    "n.add(ReLU())\n",
    "n.add(Dense(input_size=3, output_size=4, init=\"gaussian\"))\n",
    "n.add(ReLU())\n",
    "n.add(Dense(input_size=4, output_size=1, init=\"gaussian\"))\n",
    "n.add(Sigmoid())\n",
    "inp = np.random.random((2,4)) - 0.5\n",
    "inps, out = n._forward_pass(inp)\n",
    "\n",
    "print \"inp:\"\n",
    "print inp\n",
    "for i, inp in enumerate(inps):\n",
    "    print \"inps[\" + str(i) + \"]:\"\n",
    "    print inp\n",
    "print \"out:\"\n",
    "print out"
   ]
  },
  {
   "cell_type": "markdown",
   "metadata": {},
   "source": [
    "Powino być\n",
    "inp:\n",
    "[[ 0.06066317 -0.08874451  0.22698799 -0.10080311]\n",
    " [ 0.17014516  0.20471561  0.10955987  0.04003446]]\n",
    "inps[0]:\n",
    "[[ 0.06066317 -0.08874451  0.22698799 -0.10080311]\n",
    " [ 0.17014516  0.20471561  0.10955987  0.04003446]]\n",
    "inps[1]:\n",
    "[[ 0.06231216 -0.25663962 -0.11549112]\n",
    " [ 0.03836232 -0.10585852 -0.03015728]]\n",
    "inps[2]:\n",
    "[[ 0.06231216  0.          0.        ]\n",
    " [ 0.03836232  0.          0.        ]]\n",
    "inps[3]:\n",
    "[[-0.04493685  0.4840028  -0.15711608 -0.22696511]\n",
    " [-0.0396103   0.48391873 -0.15615311 -0.24031931]]\n",
    "inps[4]:\n",
    "[[ 0.          0.4840028   0.          0.        ]\n",
    " [ 0.          0.48391873  0.          0.        ]]\n",
    "inps[5]:\n",
    "[[ 0.29948146]\n",
    " [ 0.29947621]]\n",
    "out:\n",
    "[[ 0.57431575]\n",
    " [ 0.57431447]]"
   ]
  },
  {
   "cell_type": "markdown",
   "metadata": {},
   "source": [
    "Assert zad 3"
   ]
  },
  {
   "cell_type": "code",
   "execution_count": 311,
   "metadata": {
    "collapsed": false,
    "scrolled": true
   },
   "outputs": [
    {
     "name": "stdout",
     "output_type": "stream",
     "text": [
      "False\n",
      "False\n",
      "False\n",
      "klasa 5\n",
      "Sigmoid\n",
      "klasa 4\n",
      "Dense\n",
      "klasa 3\n",
      "ReLU\n",
      "klasa 2\n",
      "Dense\n",
      "klasa 1\n",
      "ReLU\n",
      "klasa 0\n",
      "Dense\n",
      "inp:\n",
      "[[ 0.06066317 -0.08874451  0.22698799 -0.10080311]\n",
      " [ 0.17014516  0.20471561  0.10955987  0.04003446]]\n",
      "target:\n",
      "[[ 0.06066317]\n",
      " [ 0.17014516]]\n",
      "inps[0]:\n",
      "[[ 0.06066317 -0.08874451  0.22698799 -0.10080311]\n",
      " [ 0.17014516  0.20471561  0.10955987  0.04003446]]\n",
      "inps[1]:\n",
      "[[ 0.06231216 -0.25663962 -0.11549112]\n",
      " [ 0.03836232 -0.10585852 -0.03015728]]\n",
      "inps[2]:\n",
      "[[ 0.06231216  0.          0.        ]\n",
      " [ 0.03836232  0.          0.        ]]\n",
      "inps[3]:\n",
      "[[-0.04493685  0.4840028  -0.15711608 -0.22696511]\n",
      " [-0.0396103   0.48391873 -0.15615311 -0.24031931]]\n",
      "inps[4]:\n",
      "[[ 0.          0.4840028   0.          0.        ]\n",
      " [ 0.          0.48391873  0.          0.        ]]\n",
      "inps[5]:\n",
      "[[ 0.29948146]\n",
      " [ 0.29947621]]\n",
      "out:\n",
      "[[ 0.57431575]\n",
      " [ 0.57431447]]\n",
      "grad:\n",
      "[[ 0.25682629]\n",
      " [ 0.20208465]]\n",
      "layer_grads[0]:\n",
      "[  2.45711515e-05   0.00000000e+00   0.00000000e+00   2.67516826e-06\n",
      "   0.00000000e+00   0.00000000e+00   9.94708194e-07   0.00000000e+00\n",
      "   0.00000000e+00   4.30677425e-06   0.00000000e+00   0.00000000e+00\n",
      "  -9.52974216e-07   0.00000000e+00   0.00000000e+00]\n",
      "layer_grads[1]:\n",
      "None\n",
      "layer_grads[2]:\n",
      "[ 0.          0.00700006  0.          0.          0.          0.00036236\n",
      "  0.          0.          0.          0.          0.          0.          0.\n",
      "  0.          0.          0.        ]\n",
      "layer_grads[3]:\n",
      "None\n",
      "layer_grads[4]:\n",
      "[ 0.11219329  0.          0.05429771  0.          0.        ]\n",
      "layer_grads[5]:\n",
      "None\n"
     ]
    }
   ],
   "source": [
    "np.random.seed(43)\n",
    "n = Network(loss=MSE(), optimizer=GD(learning_rate=0.001), metrics=[])\n",
    "n.add(Dense(input_size=4, output_size=3, init=\"gaussian\"))#1\n",
    "n.add(ReLU())#2\n",
    "n.add(Dense(input_size=3, output_size=4, init=\"gaussian\"))#3\n",
    "n.add(ReLU())#4\n",
    "n.add(Dense(input_size=4, output_size=1, init=\"gaussian\"))#5\n",
    "n.add(Sigmoid())#6\n",
    "\n",
    "inp = np.random.random((2,4)) - 0.5\n",
    "target = inp[:,0:1]\n",
    "inps, out = n._forward_pass(inp)\n",
    "grad = n.loss.backward_pass(out, target)\n",
    "layer_grads = n._backward_pass2(inps, grad)\n",
    "\n",
    "print \"inp:\"\n",
    "print inp\n",
    "print \"target:\"\n",
    "print target\n",
    "for i, inp in enumerate(inps):\n",
    "    print \"inps[\" + str(i) + \"]:\"\n",
    "    print inp\n",
    "print \"out:\"\n",
    "print out\n",
    "print \"grad:\"\n",
    "print grad\n",
    "for i, grad in enumerate(layer_grads):\n",
    "    print \"layer_grads[\" + str(i) + \"]:\"\n",
    "    np.division\n",
    "    print np.array(grad)\n"
   ]
  },
  {
   "cell_type": "raw",
   "metadata": {},
   "source": [
    "Powino być\n",
    "inp:\n",
    "[[ 0.06066317 -0.08874451  0.22698799 -0.10080311]\n",
    " [ 0.17014516  0.20471561  0.10955987  0.04003446]]\n",
    "target:\n",
    "[[ 0.06066317]\n",
    " [ 0.17014516]]\n",
    "inps[0]:\n",
    "[[ 0.06066317 -0.08874451  0.22698799 -0.10080311]\n",
    " [ 0.17014516  0.20471561  0.10955987  0.04003446]]\n",
    "inps[1]:\n",
    "[[ 0.06231216 -0.25663962 -0.11549112]\n",
    " [ 0.03836232 -0.10585852 -0.03015728]]\n",
    "inps[2]:\n",
    "[[ 0.06231216  0.          0.        ]\n",
    " [ 0.03836232  0.          0.        ]]\n",
    "inps[3]:\n",
    "[[-0.04493685  0.4840028  -0.15711608 -0.22696511]\n",
    " [-0.0396103   0.48391873 -0.15615311 -0.24031931]]\n",
    "inps[4]:\n",
    "[[ 0.          0.4840028   0.          0.        ]\n",
    " [ 0.          0.48391873  0.          0.        ]]\n",
    "inps[5]:\n",
    "[[ 0.29948146]\n",
    " [ 0.29947621]]\n",
    "out:\n",
    "[[ 0.57431575]\n",
    " [ 0.57431447]]\n",
    "grad:\n",
    "[[ 0.25682629]\n",
    " [ 0.20208465]]\n",
    "layer_grads[0]:\n",
    "[  2.45711515e-05   0.00000000e+00   0.00000000e+00   2.67516826e-06\n",
    "   0.00000000e+00   0.00000000e+00   9.94708194e-07   0.00000000e+00\n",
    "   0.00000000e+00   4.30677425e-06   0.00000000e+00   0.00000000e+00\n",
    "  -9.52974216e-07   0.00000000e+00   0.00000000e+00]\n",
    "layer_grads[1]:\n",
    "None\n",
    "layer_grads[2]:\n",
    "[ 0.          0.00700006  0.          0.          0.          0.00036236\n",
    "  0.          0.          0.          0.          0.          0.          0.\n",
    "  0.          0.          0.        ]\n",
    "layer_grads[3]:\n",
    "None\n",
    "layer_grads[4]:\n",
    "[ 0.11219329  0.          0.05429771  0.          0.        ]\n",
    "layer_grads[5]:\n",
    "None"
   ]
  },
  {
   "cell_type": "raw",
   "metadata": {},
   "source": [
    "Assert momentum"
   ]
  },
  {
   "cell_type": "code",
   "execution_count": 13,
   "metadata": {
    "collapsed": false
   },
   "outputs": [
    {
     "name": "stdout",
     "output_type": "stream",
     "text": [
      "grad1:\n",
      "[ 0.11505457  0.60906654  0.13339096  0.24058962  0.32713906]\n",
      "grad2:\n",
      "[ 0.85913749  0.66609021  0.54116221  0.02901382  0.7337483 ]\n",
      "grad3:\n",
      "[ 0.39495002  0.80204712  0.25442113  0.05688494  0.86664864]\n",
      "opt.calculate_deltas(grad1):\n",
      "[-0.02919466 -0.0529381  -0.0209018  -0.01117572 -0.04443381]\n",
      "opt.calculate_deltas(grad2):\n",
      "[-0.04608546 -0.06573052 -0.03151603 -0.01164424 -0.05866444]\n",
      "opt.calculate_deltas(grad3):\n",
      "[-0.05352361 -0.08111416 -0.03628929 -0.0126655  -0.07541077]\n"
     ]
    }
   ],
   "source": [
    "\n",
    "np.random.seed(43)\n",
    "opt = Momentum(alpha=0.02, beta=0.99)\n",
    "grad1 = np.random.random(5)\n",
    "grad2 = np.random.random(5)\n",
    "grad3 = np.random.random(5)\n",
    "opt.calculate_deltas(grad1)\n",
    "opt.calculate_deltas(grad2)\n",
    "opt.calculate_deltas(grad3)\n",
    "\n",
    "print \"grad1:\"\n",
    "print grad1\n",
    "print \"grad2:\"\n",
    "print grad2\n",
    "print \"grad3:\"\n",
    "print grad3\n",
    "\n",
    "print \"opt.calculate_deltas(grad1):\"\n",
    "print opt.calculate_deltas(grad1)\n",
    "print \"opt.calculate_deltas(grad2):\"\n",
    "print opt.calculate_deltas(grad2)\n",
    "print \"opt.calculate_deltas(grad3):\"\n",
    "print opt.calculate_deltas(grad3)"
   ]
  },
  {
   "cell_type": "markdown",
   "metadata": {},
   "source": [
    "Assert crossentropy"
   ]
  },
  {
   "cell_type": "code",
   "execution_count": 14,
   "metadata": {
    "collapsed": false
   },
   "outputs": [
    {
     "name": "stdout",
     "output_type": "stream",
     "text": [
      "y:\n",
      "[ 0.11505457  0.60906654  0.13339096  0.24058962  0.32713906  0.85913749\n",
      "  0.66609021  0.54116221  0.02901382  0.7337483 ]\n",
      "t:\n",
      "[ 0.39495002  0.80204712  0.25442113  0.05688494  0.86664864  0.221029\n",
      "  0.40498945  0.31609647  0.0766627   0.84322469]\n",
      "ce.forward_pass(y,t):\n",
      "0.736415962327\n",
      "ce.backward_pass(y,t):\n",
      "[-0.27490047 -0.08104869 -0.10469935  0.10054647 -0.24509895  0.5272741\n",
      "  0.11739401  0.0906406  -0.16913545 -0.05603779]\n"
     ]
    }
   ],
   "source": [
    "np.random.seed(43)\n",
    "ce = Crossentropy()\n",
    "y = np.random.random(10)\n",
    "t = np.random.random(10)\n",
    "\n",
    "print \"y:\"\n",
    "print y\n",
    "print \"t:\"\n",
    "print t\n",
    "print \"ce.forward_pass(y,t):\"\n",
    "print ce.forward_pass(y,t)\n",
    "print \"ce.backward_pass(y,t):\"\n",
    "print ce.backward_pass(y,t)"
   ]
  },
  {
   "cell_type": "code",
   "execution_count": 280,
   "metadata": {
    "collapsed": false
   },
   "outputs": [
    {
     "name": "stdout",
     "output_type": "stream",
     "text": [
      "False\n",
      "Epoch 1\n",
      "    -> batch size: 256\n",
      "    -> loss: 0.017706\n",
      "    -> metric: 0.964371\n",
      "Epoch 2\n",
      "    -> batch size: 256\n",
      "    -> loss: 0.014229\n",
      "    -> metric: 0.967987\n",
      "Epoch 3\n",
      "    -> batch size: 256\n",
      "    -> loss: 0.012824\n",
      "    -> metric: 0.970015\n",
      "Epoch 4\n",
      "    -> batch size: 256\n",
      "    -> loss: 0.012118\n",
      "    -> metric: 0.971161\n",
      "Epoch 5\n",
      "    -> batch size: 256\n",
      "    -> loss: 0.011498\n",
      "    -> metric: 0.972749\n",
      "Epoch 6\n",
      "    -> batch size: 256\n",
      "    -> loss: 0.011106\n",
      "    -> metric: 0.973807\n",
      "Epoch 7\n",
      "    -> batch size: 256\n",
      "    -> loss: 0.010794\n",
      "    -> metric: 0.974425\n",
      "Epoch 8\n",
      "    -> batch size: 256\n",
      "    -> loss: 0.010605\n",
      "    -> metric: 0.974425\n",
      "Epoch 9\n",
      "    -> batch size: 256\n",
      "    -> loss: 0.010427\n",
      "    -> metric: 0.974336\n",
      "Epoch 10\n",
      "    -> batch size: 256\n",
      "    -> loss: 0.010194\n",
      "    -> metric: 0.975042\n",
      "Epoch 11\n",
      "    -> batch size: 256\n",
      "    -> loss: 0.009999\n",
      "    -> metric: 0.975042\n",
      "Epoch 12\n",
      "    -> batch size: 256\n",
      "    -> loss: 0.009847\n",
      "    -> metric: 0.975571\n",
      "Epoch 13\n",
      "    -> batch size: 256\n",
      "    -> loss: 0.009707\n",
      "    -> metric: 0.976277\n",
      "Epoch 14\n",
      "    -> batch size: 256\n",
      "    -> loss: 0.009612\n",
      "    -> metric: 0.975924\n",
      "Epoch 15\n",
      "    -> batch size: 256\n",
      "    -> loss: 0.009484\n",
      "    -> metric: 0.976453\n"
     ]
    }
   ],
   "source": [
    "#Zadanie 4\n",
    "from sklearn.metrics import accuracy_score\n",
    "def metric(y,t):\n",
    "    return accuracy_score(np.around(y.flat), t)\n",
    "network = Network(loss=MSE(), optimizer=GD(learning_rate=0.1), metrics=[metric])\n",
    "network.add(Dense(784,1))\n",
    "network.add(Sigmoid())\n",
    "network.fit(X_train,y_train, epochs= 15, print_stats=True)"
   ]
  },
  {
   "cell_type": "code",
   "execution_count": 343,
   "metadata": {
    "collapsed": false
   },
   "outputs": [
    {
     "name": "stdout",
     "output_type": "stream",
     "text": [
      "False\n",
      "Epoch 1\n",
      "    -> batch size: 256\n",
      "    -> loss: 0.017151\n",
      "    -> metric: 0.964459\n",
      "Epoch 2\n",
      "    -> batch size: 256\n",
      "    -> loss: 0.013879\n",
      "    -> metric: 0.967722\n",
      "Epoch 3\n",
      "    -> batch size: 256\n",
      "    -> loss: 0.012523\n",
      "    -> metric: 0.970632\n",
      "Epoch 4\n",
      "    -> batch size: 256\n",
      "    -> loss: 0.011776\n",
      "    -> metric: 0.972308\n",
      "Epoch 5\n",
      "    -> batch size: 256\n",
      "    -> loss: 0.011268\n",
      "    -> metric: 0.973013\n",
      "Epoch 6\n",
      "    -> batch size: 256\n",
      "    -> loss: 0.010883\n",
      "    -> metric: 0.974425\n",
      "Epoch 7\n",
      "    -> batch size: 256\n",
      "    -> loss: 0.010633\n",
      "    -> metric: 0.974689\n",
      "Epoch 8\n",
      "    -> batch size: 256\n",
      "    -> loss: 0.010383\n",
      "    -> metric: 0.974954\n",
      "Epoch 9\n",
      "    -> batch size: 256\n",
      "    -> loss: 0.010206\n",
      "    -> metric: 0.975042\n",
      "Epoch 10\n",
      "    -> batch size: 256\n",
      "    -> loss: 0.010098\n",
      "    -> metric: 0.975042\n",
      "Epoch 11\n",
      "    -> batch size: 256\n",
      "    -> loss: 0.009850\n",
      "    -> metric: 0.975395\n",
      "Epoch 12\n",
      "    -> batch size: 256\n",
      "    -> loss: 0.009707\n",
      "    -> metric: 0.975659\n",
      "Epoch 13\n",
      "    -> batch size: 256\n",
      "    -> loss: 0.009529\n",
      "    -> metric: 0.976453\n",
      "Epoch 14\n",
      "    -> batch size: 256\n",
      "    -> loss: 0.009410\n",
      "    -> metric: 0.976629\n",
      "Epoch 15\n",
      "    -> batch size: 256\n",
      "    -> loss: 0.009324\n",
      "    -> metric: 0.976806\n"
     ]
    }
   ],
   "source": [
    "\n",
    "from sklearn.metrics import accuracy_score\n",
    "def metric(y,t):\n",
    "    return accuracy_score(np.around(y.flat), t)\n",
    "network = Network(loss=MSE(), optimizer=Momentum(0.1,0.1), metrics=[metric])\n",
    "network.add(Dense(784,1))\n",
    "network.add(Sigmoid())\n",
    "network.fit(X_train,y_train, epochs= 15, print_stats=True)"
   ]
  },
  {
   "cell_type": "code",
   "execution_count": 342,
   "metadata": {
    "collapsed": false
   },
   "outputs": [
    {
     "name": "stdout",
     "output_type": "stream",
     "text": [
      "False\n",
      "False\n",
      "Epoch 1\n",
      "    -> batch size: 256\n",
      "    -> loss: 0.659625\n",
      "    -> metric: 0.913132\n",
      "Epoch 2\n",
      "    -> batch size: 256\n",
      "    -> loss: 0.628762\n",
      "    -> metric: 0.900344\n",
      "Epoch 3\n",
      "    -> batch size: 256\n",
      "    -> loss: 0.599071\n",
      "    -> metric: 0.886233\n",
      "Epoch 4\n",
      "    -> batch size: 256\n",
      "    -> loss: 0.569313\n",
      "    -> metric: 0.888085\n",
      "Epoch 5\n",
      "    -> batch size: 256\n",
      "    -> loss: 0.538409\n",
      "    -> metric: 0.898492\n",
      "Epoch 6\n",
      "    -> batch size: 256\n",
      "    -> loss: 0.505897\n",
      "    -> metric: 0.908105\n",
      "Epoch 7\n",
      "    -> batch size: 256\n",
      "    -> loss: 0.470907\n",
      "    -> metric: 0.922127\n",
      "Epoch 8\n",
      "    -> batch size: 256\n",
      "    -> loss: 0.433193\n",
      "    -> metric: 0.932093\n",
      "Epoch 9\n",
      "    -> batch size: 256\n",
      "    -> loss: 0.392383\n",
      "    -> metric: 0.937120\n",
      "Epoch 10\n",
      "    -> batch size: 256\n",
      "    -> loss: 0.349293\n",
      "    -> metric: 0.942676\n"
     ]
    }
   ],
   "source": [
    "#zad 7\n",
    "network = Network(loss=Crossentropy(), optimizer=Momentum(0.001,0.01), metrics=[metric])\n",
    "network.add(Dense(784,5))\n",
    "network.add(ReLU())\n",
    "network.add(Dense(5,1))\n",
    "network.add(Sigmoid())\n",
    "network.fit(X_train,y_train, epochs= 10, print_stats=True)"
   ]
  },
  {
   "cell_type": "code",
   "execution_count": 344,
   "metadata": {
    "collapsed": false
   },
   "outputs": [
    {
     "name": "stdout",
     "output_type": "stream",
     "text": [
      "False\n",
      "False\n",
      "Epoch 1\n",
      "    -> batch size: 256\n",
      "    -> loss: nan\n",
      "    -> metric: 0.000000\n",
      "Epoch 2\n",
      "    -> batch size: 256\n",
      "    -> loss: nan\n",
      "    -> metric: 0.000000\n",
      "Epoch 3\n",
      "    -> batch size: 256\n",
      "    -> loss: nan\n",
      "    -> metric: 0.000000\n",
      "Epoch 4\n",
      "    -> batch size: 256\n",
      "    -> loss: nan\n",
      "    -> metric: 0.000000\n",
      "Epoch 5\n",
      "    -> batch size: 256\n",
      "    -> loss: nan\n",
      "    -> metric: 0.000000\n",
      "Epoch 6\n",
      "    -> batch size: 256\n",
      "    -> loss: nan\n",
      "    -> metric: 0.000000\n",
      "Epoch 7\n",
      "    -> batch size: 256\n",
      "    -> loss: nan\n",
      "    -> metric: 0.000000\n",
      "Epoch 8\n",
      "    -> batch size: 256\n",
      "    -> loss: nan\n",
      "    -> metric: 0.000000\n",
      "Epoch 9\n",
      "    -> batch size: 256\n",
      "    -> loss: nan\n",
      "    -> metric: 0.000000\n",
      "Epoch 10\n",
      "    -> batch size: 256\n",
      "    -> loss: nan\n",
      "    -> metric: 0.000000\n"
     ]
    }
   ],
   "source": [
    "#ReLU jako aktywacja niedziała dobrze z Crossentropy\n",
    "network = Network(loss=Crossentropy(), optimizer=Momentum(0.1,0.1), metrics=[metric])\n",
    "network.add(Dense(784,20))\n",
    "network.add(ReLU())\n",
    "network.add(Dense(20,1))\n",
    "network.add(ReLU())\n",
    "network.fit(X_train,y_train, epochs= 10, print_stats=True)"
   ]
  },
  {
   "cell_type": "code",
   "execution_count": 13,
   "metadata": {
    "collapsed": false
   },
   "outputs": [
    {
     "name": "stdout",
     "output_type": "stream",
     "text": [
      "False\n",
      "False\n",
      "Epoch 1\n",
      "    -> batch size: 256\n",
      "    -> loss: 0.687322\n",
      "    -> metric: 0.852280\n",
      "Epoch 2\n",
      "    -> batch size: 256\n",
      "    -> loss: 0.675358\n",
      "    -> metric: 0.604727\n",
      "Epoch 3\n",
      "    -> batch size: 256\n",
      "    -> loss: 0.651636\n",
      "    -> metric: 0.738866\n",
      "Epoch 4\n",
      "    -> batch size: 256\n",
      "    -> loss: 0.606958\n",
      "    -> metric: 0.900520\n",
      "Epoch 5\n",
      "    -> batch size: 256\n",
      "    -> loss: 0.538568\n",
      "    -> metric: 0.932622\n",
      "Epoch 6\n",
      "    -> batch size: 256\n",
      "    -> loss: 0.455757\n",
      "    -> metric: 0.941088\n",
      "Epoch 7\n",
      "    -> batch size: 256\n",
      "    -> loss: 0.373043\n",
      "    -> metric: 0.947438\n",
      "Epoch 8\n",
      "    -> batch size: 256\n",
      "    -> loss: 0.300504\n",
      "    -> metric: 0.950878\n",
      "Epoch 9\n",
      "    -> batch size: 256\n",
      "    -> loss: 0.242036\n",
      "    -> metric: 0.953347\n",
      "Epoch 10\n",
      "    -> batch size: 256\n",
      "    -> loss: 0.196399\n",
      "    -> metric: 0.956345\n"
     ]
    }
   ],
   "source": [
    "#zad 7\n",
    "#Sieć złożona tylko z aktywacji Sigmoidalnych\n",
    "network = Network(loss=Crossentropy(), optimizer=Momentum(0.01,0.01), metrics=[metric])\n",
    "network.add(Dense(784,5))\n",
    "network.add(Sigmoid())\n",
    "network.add(Dense(5,1))\n",
    "network.add(Sigmoid())\n",
    "network.fit(X_train,y_train, epochs= 10, print_stats=True)"
   ]
  },
  {
   "cell_type": "markdown",
   "metadata": {},
   "source": [
    "Przy problemach gdzie targety są binarne ReLU jako wyjście nie działa dobrze. Jednak Jeżeli byśmy mieli inny problem do rozwiązania (np. aproksymacja funkcji o wartościach dodatnich) to można by było rozważyć jego użycie na końcu sieci"
   ]
  },
  {
   "cell_type": "code",
   "execution_count": 339,
   "metadata": {
    "collapsed": false
   },
   "outputs": [
    {
     "name": "stdout",
     "output_type": "stream",
     "text": [
      "False\n",
      "False\n",
      "Epoch 1\n",
      "    -> batch size: 256\n",
      "    -> loss: 0.122253\n",
      "    -> metric: 0.870976\n"
     ]
    }
   ],
   "source": [
    "#zadanie 8\n",
    "#mała sieć\n",
    "L1=Dense(784,10,viev_norm=1)\n",
    "L2=Dense(10,1,viev_norm=1)\n",
    "network = Network(loss=MSE(), optimizer=GD(0.01), metrics=[metric])\n",
    "network.add(L1)\n",
    "network.add(Sigmoid())\n",
    "network.add(L2)\n",
    "network.add(Sigmoid())\n",
    "network.fit(X_train,y_train, epochs= 1, print_stats=True)\n"
   ]
  },
  {
   "cell_type": "code",
   "execution_count": 330,
   "metadata": {
    "collapsed": true
   },
   "outputs": [],
   "source": [
    "import matplotlib.pylab as plt # Import podpakietu jako plt\n",
    "# Magia IPython Notebook :) Pokazuje wykresy w konsoli\n",
    "%matplotlib inline "
   ]
  },
  {
   "cell_type": "code",
   "execution_count": 331,
   "metadata": {
    "collapsed": false
   },
   "outputs": [],
   "source": [
    "def norm_plot(X):\n",
    "    plt.plot(range(len(X)), X, 'o-')"
   ]
  },
  {
   "cell_type": "markdown",
   "metadata": {},
   "source": [
    "Normą Gradientów, którą licze i przedstawiam na wykresie jest norma maximum. Jest ona przeskalowana przez normę nauczania czyli w tym wypadku 0.01. Widać, że dla najbardziej od wyjścia ścian norma ta jest najmniejsza"
   ]
  },
  {
   "cell_type": "code",
   "execution_count": 340,
   "metadata": {
    "collapsed": false
   },
   "outputs": [
    {
     "data": {
      "image/png": "[encoded data removed]",
      "text/plain": [
       "<matplotlib.figure.Figure at 0x130b6710>"
      ]
     },
     "metadata": {},
     "output_type": "display_data"
    }
   ],
   "source": [
    "norm_plot(L1.norm_grad)"
   ]
  },
  {
   "cell_type": "code",
   "execution_count": 341,
   "metadata": {
    "collapsed": false
   },
   "outputs": [
    {
     "data": {
      "image/png": "[encoded data removed]",
      "text/plain": [
       "<matplotlib.figure.Figure at 0x13856d30>"
      ]
     },
     "metadata": {},
     "output_type": "display_data"
    }
   ],
   "source": [
    "norm_plot(L2.norm_grad)"
   ]
  },
  {
   "cell_type": "code",
   "execution_count": 332,
   "metadata": {
    "collapsed": false
   },
   "outputs": [
    {
     "name": "stdout",
     "output_type": "stream",
     "text": [
      "False\n",
      "False\n",
      "False\n",
      "False\n",
      "False\n",
      "False\n",
      "Epoch 1\n",
      "    -> batch size: 256\n",
      "    -> loss: 0.166418\n",
      "    -> metric: 0.478084\n"
     ]
    }
   ],
   "source": [
    "#6-scio warstwowa sieć\n",
    "L1=Dense(784,20,viev_norm=1)\n",
    "L2=Dense(20,10,viev_norm=1)\n",
    "L3=Dense(10,8,viev_norm=1)\n",
    "L4=Dense(8,7,viev_norm=1)\n",
    "L5=Dense(7,2,viev_norm=1)\n",
    "L6=Dense(2,1,viev_norm=1)\n",
    "network = Network(loss=MSE(), optimizer=GD(0.01), metrics=[metric])\n",
    "network.add(L1)\n",
    "network.add(Sigmoid())\n",
    "network.add(L2)\n",
    "network.add(Sigmoid())\n",
    "network.add(L3)\n",
    "network.add(Sigmoid())\n",
    "network.add(L4)\n",
    "network.add(Sigmoid())\n",
    "network.add(L5)\n",
    "network.add(Sigmoid())\n",
    "network.add(L6)\n",
    "network.add(Sigmoid())\n",
    "network.fit(X_train,y_train, epochs= 1, print_stats=True)"
   ]
  },
  {
   "cell_type": "code",
   "execution_count": null,
   "metadata": {
    "collapsed": true
   },
   "outputs": [],
   "source": []
  },
  {
   "cell_type": "code",
   "execution_count": 333,
   "metadata": {
    "collapsed": false
   },
   "outputs": [
    {
     "data": {
      "image/png": "[encoded data removed]",
      "text/plain": [
       "<matplotlib.figure.Figure at 0x18b4a940>"
      ]
     },
     "metadata": {},
     "output_type": "display_data"
    }
   ],
   "source": [
    "norm_plot(L1.norm_grad)"
   ]
  },
  {
   "cell_type": "code",
   "execution_count": 334,
   "metadata": {
    "collapsed": false
   },
   "outputs": [
    {
     "data": {
      "image/png": "[encoded data removed]",
      "text/plain": [
       "<matplotlib.figure.Figure at 0x1b89feb8>"
      ]
     },
     "metadata": {},
     "output_type": "display_data"
    }
   ],
   "source": [
    "norm_plot(L2.norm_grad)"
   ]
  },
  {
   "cell_type": "code",
   "execution_count": 335,
   "metadata": {
    "collapsed": false
   },
   "outputs": [
    {
     "data": {
      "image/png": "[encoded data removed]",
      "text/plain": [
       "<matplotlib.figure.Figure at 0x1b9dad30>"
      ]
     },
     "metadata": {},
     "output_type": "display_data"
    }
   ],
   "source": [
    "norm_plot(L3.norm_grad)"
   ]
  },
  {
   "cell_type": "code",
   "execution_count": 336,
   "metadata": {
    "collapsed": false
   },
   "outputs": [
    {
     "data": {
      "image/png": "[encoded data removed]",
      "text/plain": [
       "<matplotlib.figure.Figure at 0x19051860>"
      ]
     },
     "metadata": {},
     "output_type": "display_data"
    }
   ],
   "source": [
    "norm_plot(L4.norm_grad)"
   ]
  },
  {
   "cell_type": "code",
   "execution_count": 337,
   "metadata": {
    "collapsed": false
   },
   "outputs": [
    {
     "data": {
      "image/png": "[encoded data removed]",
      "text/plain": [
       "<matplotlib.figure.Figure at 0x1bce95f8>"
      ]
     },
     "metadata": {},
     "output_type": "display_data"
    }
   ],
   "source": [
    "norm_plot(L5.norm_grad)"
   ]
  },
  {
   "cell_type": "code",
   "execution_count": 338,
   "metadata": {
    "collapsed": false
   },
   "outputs": [
    {
     "data": {
      "image/png": "[encoded data removed]",
      "text/plain": [
       "<matplotlib.figure.Figure at 0x1b9943c8>"
      ]
     },
     "metadata": {},
     "output_type": "display_data"
    }
   ],
   "source": [
    "norm_plot(L6.norm_grad)"
   ]
  },
  {
   "cell_type": "code",
   "execution_count": 325,
   "metadata": {
    "collapsed": false
   },
   "outputs": [
    {
     "name": "stdout",
     "output_type": "stream",
     "text": [
      "False\n",
      "False\n",
      "Epoch 1\n",
      "    -> batch size: 256\n",
      "    -> loss: 0.693510\n",
      "    -> metric: 0.521916\n",
      "Epoch 2\n",
      "    -> batch size: 256\n",
      "    -> loss: 0.693396\n",
      "    -> metric: 0.521916\n",
      "Epoch 3\n",
      "    -> batch size: 256\n",
      "    -> loss: 0.693295\n",
      "    -> metric: 0.521916\n",
      "Epoch 4\n",
      "    -> batch size: 256\n",
      "    -> loss: 0.693194\n",
      "    -> metric: 0.521916\n",
      "Epoch 5\n",
      "    -> batch size: 256\n",
      "    -> loss: 0.693099\n",
      "    -> metric: 0.521916\n",
      "Epoch 6\n",
      "    -> batch size: 256\n",
      "    -> loss: 0.693018\n",
      "    -> metric: 0.521916\n",
      "Epoch 7\n",
      "    -> batch size: 256\n",
      "    -> loss: 0.692939\n",
      "    -> metric: 0.521916\n",
      "Epoch 8\n",
      "    -> batch size: 256\n",
      "    -> loss: 0.692875\n",
      "    -> metric: 0.521916\n",
      "Epoch 9\n",
      "    -> batch size: 256\n",
      "    -> loss: 0.692813\n",
      "    -> metric: 0.521916\n",
      "Epoch 10\n",
      "    -> batch size: 256\n",
      "    -> loss: 0.692758\n",
      "    -> metric: 0.521916\n",
      "Epoch 11\n",
      "    -> batch size: 256\n",
      "    -> loss: 0.692710\n",
      "    -> metric: 0.521916\n",
      "Epoch 12\n",
      "    -> batch size: 256\n",
      "    -> loss: 0.692663\n",
      "    -> metric: 0.521916\n",
      "Epoch 13\n",
      "    -> batch size: 256\n",
      "    -> loss: 0.692623\n",
      "    -> metric: 0.521916\n",
      "Epoch 14\n",
      "    -> batch size: 256\n",
      "    -> loss: 0.692584\n",
      "    -> metric: 0.521916\n",
      "Epoch 15\n",
      "    -> batch size: 256\n",
      "    -> loss: 0.692548\n",
      "    -> metric: 0.521916\n",
      "Epoch 16\n",
      "    -> batch size: 256\n",
      "    -> loss: 0.692519\n",
      "    -> metric: 0.521916\n",
      "Epoch 17\n",
      "    -> batch size: 256\n",
      "    -> loss: 0.692493\n",
      "    -> metric: 0.521916\n",
      "Epoch 18\n",
      "    -> batch size: 256\n",
      "    -> loss: 0.692466\n",
      "    -> metric: 0.521916\n",
      "Epoch 19\n",
      "    -> batch size: 256\n",
      "    -> loss: 0.692444\n",
      "    -> metric: 0.521916\n",
      "Epoch 20\n",
      "    -> batch size: 256\n",
      "    -> loss: 0.692422\n",
      "    -> metric: 0.521916\n",
      "Epoch 21\n",
      "    -> batch size: 256\n",
      "    -> loss: 0.692403\n",
      "    -> metric: 0.521916\n",
      "Epoch 22\n",
      "    -> batch size: 256\n",
      "    -> loss: 0.692384\n",
      "    -> metric: 0.521916\n",
      "Epoch 23\n",
      "    -> batch size: 256\n",
      "    -> loss: 0.692367\n",
      "    -> metric: 0.521916\n",
      "Epoch 24\n",
      "    -> batch size: 256\n",
      "    -> loss: 0.692352\n",
      "    -> metric: 0.521916\n",
      "Epoch 25\n",
      "    -> batch size: 256\n",
      "    -> loss: 0.692338\n",
      "    -> metric: 0.521916\n",
      "Epoch 26\n",
      "    -> batch size: 256\n",
      "    -> loss: 0.692323\n",
      "    -> metric: 0.521916\n",
      "Epoch 27\n",
      "    -> batch size: 256\n",
      "    -> loss: 0.692310\n",
      "    -> metric: 0.521916\n",
      "Epoch 28\n",
      "    -> batch size: 256\n",
      "    -> loss: 0.692301\n",
      "    -> metric: 0.521916\n",
      "Epoch 29\n",
      "    -> batch size: 256\n",
      "    -> loss: 0.692291\n",
      "    -> metric: 0.521916\n",
      "Epoch 30\n",
      "    -> batch size: 256\n",
      "    -> loss: 0.692283\n",
      "    -> metric: 0.521916\n"
     ]
    }
   ],
   "source": [
    "#bardzo wolno spada funkcja kosztu oraz metric się nie zmienia\n",
    "network = Network(loss=Crossentropy(), optimizer=Momentum(0.001,0.01), metrics=[metric])\n",
    "network.add(Dense(784,5,init=\"stupid\"))\n",
    "network.add(ReLU())\n",
    "network.add(Dense(5,1,init=\"gaussian\"))\n",
    "network.add(Sigmoid())\n",
    "network.fit(X_train,y_train, epochs= 30, print_stats=True)"
   ]
  },
  {
   "cell_type": "code",
   "execution_count": 327,
   "metadata": {
    "collapsed": false
   },
   "outputs": [
    {
     "name": "stdout",
     "output_type": "stream",
     "text": [
      "False\n",
      "False\n",
      "Epoch 1\n",
      "    -> batch size: 256\n",
      "    -> loss: 0.677875\n",
      "    -> metric: 0.478084\n",
      "Epoch 2\n",
      "    -> batch size: 256\n",
      "    -> loss: 0.641048\n",
      "    -> metric: 0.768057\n",
      "Epoch 3\n",
      "    -> batch size: 256\n",
      "    -> loss: 0.604008\n",
      "    -> metric: 0.934033\n",
      "Epoch 4\n",
      "    -> batch size: 256\n",
      "    -> loss: 0.566284\n",
      "    -> metric: 0.932093\n",
      "Epoch 5\n",
      "    -> batch size: 256\n",
      "    -> loss: 0.528931\n",
      "    -> metric: 0.904489\n",
      "Epoch 6\n",
      "    -> batch size: 256\n",
      "    -> loss: 0.493058\n",
      "    -> metric: 0.883147\n",
      "Epoch 7\n",
      "    -> batch size: 256\n",
      "    -> loss: 0.460363\n",
      "    -> metric: 0.868242\n",
      "Epoch 8\n",
      "    -> batch size: 256\n",
      "    -> loss: 0.430995\n",
      "    -> metric: 0.864362\n",
      "Epoch 9\n",
      "    -> batch size: 256\n",
      "    -> loss: 0.405457\n",
      "    -> metric: 0.863833\n",
      "Epoch 10\n",
      "    -> batch size: 256\n",
      "    -> loss: 0.384152\n",
      "    -> metric: 0.864803\n"
     ]
    }
   ],
   "source": [
    "#w przypadku normalnej inicjacji dostajemy normalne dane\n",
    "network = Network(loss=Crossentropy(), optimizer=Momentum(0.001,0.01), metrics=[metric])\n",
    "network.add(Dense(784,5,init=\"gaussian\"))\n",
    "network.add(ReLU())\n",
    "network.add(Dense(5,1,init=\"gaussian\"))\n",
    "network.add(Sigmoid())\n",
    "network.fit(X_train,y_train, epochs= 10, print_stats=True)"
   ]
  },
  {
   "cell_type": "code",
   "execution_count": 291,
   "metadata": {
    "collapsed": false
   },
   "outputs": [],
   "source": [
    "z = 1 +1j"
   ]
  },
  {
   "cell_type": "code",
   "execution_count": 292,
   "metadata": {
    "collapsed": false
   },
   "outputs": [
    {
     "data": {
      "text/plain": [
       "(1+1j)"
      ]
     },
     "execution_count": 292,
     "metadata": {},
     "output_type": "execute_result"
    }
   ],
   "source": [
    "z"
   ]
  }
 ],
 "metadata": {
  "kernelspec": {
   "display_name": "Python 2",
   "language": "python",
   "name": "python2"
  },
  "language_info": {
   "codemirror_mode": {
    "name": "ipython",
    "version": 2
   },
   "file_extension": ".py",
   "mimetype": "text/x-python",
   "name": "python",
   "nbconvert_exporter": "python",
   "pygments_lexer": "ipython2",
   "version": "2.7.13"
  }
 },
 "nbformat": 4,
 "nbformat_minor": 2
}
