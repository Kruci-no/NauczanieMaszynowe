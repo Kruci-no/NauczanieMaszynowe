{
 "cells": [
  {
   "cell_type": "raw",
   "metadata": {},
   "source": [
    "Zadanie 1\n",
    "Z wykresu widać, że L ma maximum dla theta=7/10"
   ]
  },
  {
   "cell_type": "code",
   "execution_count": 293,
   "metadata": {
    "collapsed": false
   },
   "outputs": [
    {
     "data": {
      "image/png": "[encoded data removed]",
      "text/plain": [
       "<matplotlib.figure.Figure at 0x7caa7f0>"
      ]
     },
     "metadata": {},
     "output_type": "display_data"
    }
   ],
   "source": [
    "import matplotlib.pylab as plt # Import podpakietu jako plt\n",
    "# Magia IPython Notebook :) Pokazuje wykresy w konsoli\n",
    "%matplotlib inline \n",
    "import numpy as np\n",
    "def L(theta):\n",
    "    return theta**7*((1-theta)**3)\n",
    "theta_grid =np.linspace(0,1,100)\n",
    "L_values=map(L,theta_grid)\n",
    "_=plt.scatter(theta_grid,L_values)\n",
    "_=plt.xlabel(\"theta\")\n",
    "_=plt.ylabel(\"L(theta)\")"
   ]
  },
  {
   "cell_type": "raw",
   "metadata": {
    "collapsed": true
   },
   "source": [
    "Zadanie 2"
   ]
  },
  {
   "cell_type": "code",
   "execution_count": 292,
   "metadata": {
    "collapsed": false
   },
   "outputs": [
    {
     "name": "stdout",
     "output_type": "stream",
     "text": [
      "0.299819\n"
     ]
    }
   ],
   "source": [
    "def flip_coin(theta, nb_flips):\n",
    "    result=np.random.binomial(1,theta,nb_flips)\n",
    "    assert len(result) == nb_flips\n",
    "    return result\n",
    "print flip_coin(0.3,1000000).mean() #dla dużej liczby rzutów średnia wartość listy jest prawie równa theta"
   ]
  },
  {
   "cell_type": "raw",
   "metadata": {},
   "source": [
    "Zadanie 3"
   ]
  },
  {
   "cell_type": "code",
   "execution_count": 290,
   "metadata": {
    "collapsed": false
   },
   "outputs": [
    {
     "name": "stdout",
     "output_type": "stream",
     "text": [
      "theta =  0.4\n",
      "średnia 10000 rzutów =  0.3972\n"
     ]
    }
   ],
   "source": [
    "class CoinML(object):\n",
    "    def __init__(self):\n",
    "        self.theta = None\n",
    "    def fit(self, X):\n",
    "        self.theta=X.mean()\n",
    "    def toss(self):\n",
    "        result=np.random.binomial(1,self.theta,1)\n",
    "        return result[0]\n",
    "x = CoinML()\n",
    "x.fit(np.array([1,1,0,0,0]))\n",
    "print \"theta = \", x.theta\n",
    "print  \"średnia 10000 rzutów = \", np.array([x.toss() for y in range(10000)]).mean()"
   ]
  },
  {
   "cell_type": "raw",
   "metadata": {},
   "source": [
    "Zadanie 4"
   ]
  },
  {
   "cell_type": "code",
   "execution_count": 289,
   "metadata": {
    "collapsed": false
   },
   "outputs": [
    {
     "name": "stdout",
     "output_type": "stream",
     "text": [
      "0.00512\n",
      "model.knowledge powinno wyjść {0.5: 0.686, 0.6: 0.314}\n",
      "{0.5: 0.6855667631546858, 0.6: 0.3144332368453142}\n",
      "Powinno wyjść 0.5: 0.5\n",
      "Powinno wyjść 1: 1.0\n",
      "model.knowledge powinno wyjść {0.5: 0.362, 0.6: 0.265, 0.8: 0.373}\n",
      "{0.5: 0.36171237227008995, 0.6: 0.2654373534598428, 0.8: 0.3728502742700672}\n",
      "Powinno wyjść 0.8: 0.8\n",
      "Powinno wyjść 1: 1.0\n"
     ]
    }
   ],
   "source": [
    "\n",
    "def L(theta,X):\n",
    "    return theta**X.sum()*(1-theta)**(len(X)-X.sum())\n",
    "print L(0.8,np.array([1,1,0,0,0]))    \n",
    "class CoinMAP(object):\n",
    "\n",
    "    def __init__(self, prior):\n",
    "        self.knowledge = prior\n",
    "        self.theta = None\n",
    "        \n",
    "    def fit(self, X):\n",
    "        alpha=0\n",
    "        for theta, priori in self.knowledge.iteritems():\n",
    "            alpha=L(theta,X)*priori+alpha\n",
    "        #print alpha\n",
    "        max_key=0\n",
    "        for theta, priori in self.knowledge.iteritems():\n",
    "            #print L(theta,X)*priori\n",
    "            self.knowledge[theta]=L(theta,X)*priori/alpha\n",
    "           # print max_key, self.knowledge[theta]\n",
    "            if max_key < self.knowledge[theta]:\n",
    "                max_key=self.knowledge[theta]\n",
    "                self.theta=theta\n",
    "                \n",
    "    def toss(self):\n",
    "        result=np.random.binomial(1,self.theta,1)\n",
    "        return result[0]\n",
    "\n",
    "#print L(0.6,np.array([1,0,1,1,1,0,0,1,1,1]))    \n",
    "model = CoinMAP({0.5: 0.8, 0.6: 0.2})\n",
    "model.fit(np.array([1,0,1,1,1,0,0,1,1,1]))\n",
    "print \"model.knowledge powinno wyjść {0.5: 0.686, 0.6: 0.314}\"\n",
    "print model.knowledge\n",
    "print \"Powinno wyjść 0.5:\", model.theta\n",
    "print \"Powinno wyjść 1:\", sum(model.knowledge.values())\n",
    "\n",
    "model = CoinMAP({0.5: 0.5, 0.6: 0.2, 0.8: 0.3})\n",
    "model.fit(np.array([1,0,1,1,1,0,0,1,1,1]))\n",
    "print \"model.knowledge powinno wyjść {0.5: 0.362, 0.6: 0.265, 0.8: 0.373}\"\n",
    "print model.knowledge\n",
    "print \"Powinno wyjść 0.8:\", model.theta\n",
    "print \"Powinno wyjść 1:\", sum(model.knowledge.values())"
   ]
  },
  {
   "cell_type": "raw",
   "metadata": {},
   "source": [
    "Zadanie 5"
   ]
  },
  {
   "cell_type": "code",
   "execution_count": 288,
   "metadata": {
    "collapsed": false
   },
   "outputs": [
    {
     "name": "stdout",
     "output_type": "stream",
     "text": [
      "model.knowledge powinno wyjść {0.5: 0.686, 0.6: 0.314}\n",
      "{0.5: 0.6855667631546858, 0.6: 0.3144332368453142}\n",
      "Powinno wyjść około 0.53: 0.531443323685\n",
      "Powinno wyjść 1: 1.0\n",
      "model.knowledge powinno wyjść {0.5: 0.362, 0.6: 0.265, 0.8: 0.373}\n",
      "{0.5: 0.36171237227008995, 0.6: 0.2654373534598428, 0.8: 0.3728502742700672}\n",
      "Powinno wyjść około 0.64: 0.638398817627\n",
      "Powinno wyjść 1: 1.0\n"
     ]
    }
   ],
   "source": [
    "def scalar_product(K):\n",
    "    alpha=0\n",
    "    for theta, priori in K.iteritems():\n",
    "        alpha=theta*priori+alpha\n",
    "    return alpha\n",
    "    \n",
    "class CoinBest(object):\n",
    "    def __init__(self, prior):\n",
    "        self.knowledge = prior\n",
    "        self.theta = scalar_product(self.knowledge)\n",
    "        \n",
    "    def fit(self, X):\n",
    "        alpha=0\n",
    "        for theta, priori in self.knowledge.iteritems():\n",
    "            alpha=L(theta,X)*priori+alpha\n",
    "        #print alpha\n",
    "        for theta, priori in self.knowledge.iteritems():\n",
    "            #print L(theta,X)*priori\n",
    "            self.knowledge[theta]=L(theta,X)*priori/alpha\n",
    "        self.theta = scalar_product(self.knowledge)\n",
    "         \n",
    "    def toss(self):\n",
    "        result=np.random.binomial(1,self.theta,1)\n",
    "        return result[0]\n",
    "    \n",
    "model = CoinBest({0.5: 0.8, 0.6: 0.2})\n",
    "model.fit(np.array([1,0,1,1,1,0,0,1,1,1]))\n",
    "print \"model.knowledge powinno wyjść {0.5: 0.686, 0.6: 0.314}\"\n",
    "print model.knowledge\n",
    "print \"Powinno wyjść około 0.53:\", model.theta\n",
    "print \"Powinno wyjść 1:\", sum(model.knowledge.values())\n",
    "\n",
    "model = CoinBest({0.5: 0.5, 0.6: 0.2, 0.8: 0.3})\n",
    "model.fit(np.array([1,0,1,1,1,0,0,1,1,1]))\n",
    "print \"model.knowledge powinno wyjść {0.5: 0.362, 0.6: 0.265, 0.8: 0.373}\"\n",
    "print model.knowledge\n",
    "print \"Powinno wyjść około 0.64:\", model.theta\n",
    "print \"Powinno wyjść 1:\", sum(model.knowledge.values())"
   ]
  },
  {
   "cell_type": "raw",
   "metadata": {},
   "source": [
    "Zadanie 6"
   ]
  },
  {
   "cell_type": "code",
   "execution_count": 300,
   "metadata": {
    "collapsed": false,
    "scrolled": true
   },
   "outputs": [
    {
     "name": "stdout",
     "output_type": "stream",
     "text": [
      "gra1 stosunek wygranych do przegranych 0.33317\n",
      "gra2 stosunek wygranych do przegranych 0.66629\n",
      "gra3 stosunek wygranych do przegranych 0.33262\n",
      "gra4 stosunek wygranych do przegranych 0.33372\n",
      "gra5 stosunek wygranych do przegranych 0.50254\n",
      "gra6 stosunek wygranych do przegranych 0.50011\n"
     ]
    }
   ],
   "source": [
    "#v1 oznacza w której z bramek jest nagroda możemy przyjąć że jest ona w pierwszej bramce\n",
    "#v2 oznacza wybór gracza\n",
    "#v3 oznacza odsłonięcie bramki przez prowadzącego lub przez piorun\n",
    "#v4 oznacza ponowny wybór gracza\n",
    "def gra_1():#bez zmiany bramek nie ma potrzeby implementować zachowania prowadzącego\n",
    "    v1=np.array([1,0,0])\n",
    "    v2=np.array([0,0,0])\n",
    "    v2[int(np.floor(np.random.uniform(0,3)))]=1\n",
    "    return np.inner(v1,v2) \n",
    "print  \"gra1 stosunek wygranych do przegranych\", np.array([gra_1() for y in range(100000)]).mean()\n",
    "def gra_2():#zamiana bramki \n",
    "    v1=np.array([1,0,0])\n",
    "    v2=np.array([0,0,0])\n",
    "    v2[int(np.floor(np.random.uniform(0,3)))]=1\n",
    "    v3=np.array([1,0,0])\n",
    "    while all(v3==v2) or all(v3==v1):\n",
    "        v3=np.array([0,0,0])\n",
    "        v3[int(np.floor(np.random.uniform(0,3)))]=1\n",
    "    return not np.inner(v1,v2+v3) #suma wetorów v2 i v3 pokazuje która bramki nie zostały wbrane przez gracza\n",
    "print  \"gra2 stosunek wygranych do przegranych\", np.array([gra_2() for y in range(100000)]).mean()\n",
    "def gra_3():# piorun z przegraną przy uderzeniu w nagrode \n",
    "    v1=np.array([1,0,0])\n",
    "    v2=np.array([0,0,0])\n",
    "    v2[int(np.floor(np.random.uniform(0,3)))]=1\n",
    "    v3=np.array([0,0,0])\n",
    "    v3[int(np.floor(np.random.uniform(0,3)))]=1\n",
    "    if(all(v1==v3)):\n",
    "        return 0\n",
    "    while all(v3==v2): #generujemy nową decyzje gracza jeśli piorun uderzył w wybranną przez niego bramke\n",
    "        v2=np.array([0,0,0])\n",
    "        v2[int(np.floor(np.random.uniform(0,3)))]=1\n",
    "    return np.inner(v1,v2)\n",
    "print  \"gra3 stosunek wygranych do przegranych\", np.array([gra_3() for y in range(100000)]).mean()\n",
    "def gra_4(): # piorun z przegraną przy uderzeniu w nagrode i zmianą bramki przez gracza\n",
    "    v1=np.array([1,0,0])\n",
    "    v2=np.array([0,0,0])\n",
    "    v2[int(np.floor(np.random.uniform(0,3)))]=1\n",
    "    v3=np.array([0,0,0])\n",
    "    v3[int(np.floor(np.random.uniform(0,3)))]=1\n",
    "    if(all(v1==v3)):\n",
    "        return 0\n",
    "    v4=v2\n",
    "    while all(v4==v2) and all(v4==v3): #generujemy nową decyzje gracza zawsze\n",
    "        v4=np.array([0,0,0])\n",
    "        v4[int(np.floor(np.random.uniform(0,3)))]=1\n",
    "    return np.inner(v1,v4)\n",
    "print  \"gra4 stosunek wygranych do przegranych\", np.array([gra_4() for y in range(100000)]).mean()\n",
    "def gra_5():# piorun z grą od nowa przy uderzeniu w nagrode \n",
    "    v1=np.array([1,0,0])\n",
    "    v2=np.array([0,0,0])\n",
    "    v2[int(np.floor(np.random.uniform(0,3)))]=1\n",
    "    v3=np.array([0,0,0])\n",
    "    v3[int(np.floor(np.random.uniform(0,3)))]=1\n",
    "    if(all(v1==v3)):\n",
    "        return gra_5()\n",
    "    while all(v3==v2): #generujemy nową decyzje gracza jeśli piorun uderzył w wybranną przez niego bramke\n",
    "        v2=np.array([0,0,0])\n",
    "        v2[int(np.floor(np.random.uniform(0,3)))]=1\n",
    "    return np.inner(v1,v2)\n",
    "print  \"gra5 stosunek wygranych do przegranych\", np.array([gra_5() for y in range(100000)]).mean()\n",
    "def gra_6():# piorun z grą od nowa przy uderzeniu w nagrode i zmianą bramki przez gracza\n",
    "    v1=np.array([1,0,0])\n",
    "    v2=np.array([0,0,0])\n",
    "    v2[int(np.floor(np.random.uniform(0,3)))]=1\n",
    "    v3=np.array([0,0,0])\n",
    "    v3[int(np.floor(np.random.uniform(0,3)))]=1\n",
    "    if(all(v1==v3)):\n",
    "        return gra_5()\n",
    "    v4=v2\n",
    "    while all(v4==v2) and all(v4==v3): #generujemy nową decyzje gracza zawsze\n",
    "        v4=np.array([0,0,0])\n",
    "        v4[int(np.floor(np.random.uniform(0,3)))]=1\n",
    "    return np.inner(v1,v4)  \n",
    "print  \"gra6 stosunek wygranych do przegranych\", np.array([gra_6() for y in range(100000)]).mean()"
   ]
  }
 ],
 "metadata": {
  "kernelspec": {
   "display_name": "Python 2",
   "language": "python",
   "name": "python2"
  },
  "language_info": {
   "codemirror_mode": {
    "name": "ipython",
    "version": 2
   },
   "file_extension": ".py",
   "mimetype": "text/x-python",
   "name": "python",
   "nbconvert_exporter": "python",
   "pygments_lexer": "ipython2",
   "version": "2.7.13"
  }
 },
 "nbformat": 4,
 "nbformat_minor": 2
}
